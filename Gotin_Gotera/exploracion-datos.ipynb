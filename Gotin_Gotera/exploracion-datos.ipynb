{
 "cells": [
  {
   "cell_type": "code",
   "execution_count": null,
   "metadata": {},
   "outputs": [],
   "source": [
    "# Cargamos las librerias\n",
    "import json\n",
    "import pandas as pd\n",
    "import minsearch"
   ]
  },
  {
   "cell_type": "code",
   "execution_count": 22,
   "metadata": {},
   "outputs": [],
   "source": [
    "# Cargamos los datos\n",
    "df = pd.read_csv('../DATASETS/faq_sacmex.csv')"
   ]
  },
  {
   "cell_type": "code",
   "execution_count": 23,
   "metadata": {},
   "outputs": [
    {
     "data": {
      "text/html": [
       "<div>\n",
       "<style scoped>\n",
       "    .dataframe tbody tr th:only-of-type {\n",
       "        vertical-align: middle;\n",
       "    }\n",
       "\n",
       "    .dataframe tbody tr th {\n",
       "        vertical-align: top;\n",
       "    }\n",
       "\n",
       "    .dataframe thead th {\n",
       "        text-align: right;\n",
       "    }\n",
       "</style>\n",
       "<table border=\"1\" class=\"dataframe\">\n",
       "  <thead>\n",
       "    <tr style=\"text-align: right;\">\n",
       "      <th></th>\n",
       "      <th>id</th>\n",
       "      <th>pregunta</th>\n",
       "      <th>respuesta</th>\n",
       "    </tr>\n",
       "  </thead>\n",
       "  <tbody>\n",
       "    <tr>\n",
       "      <th>0</th>\n",
       "      <td>d7c4ce5eda85cd602edc71a3f29193e0</td>\n",
       "      <td>¿Dónde puedo reportar una fuga de agua?</td>\n",
       "      <td>Debes reportarla al organismo operador de agua...</td>\n",
       "    </tr>\n",
       "    <tr>\n",
       "      <th>1</th>\n",
       "      <td>c6b1388a0227cae6d6045a1dc7dd82c5</td>\n",
       "      <td>¿Qué debo hacer si veo una fuga de agua en la ...</td>\n",
       "      <td>En la Ciudad de México, debes reportarla al 55...</td>\n",
       "    </tr>\n",
       "    <tr>\n",
       "      <th>2</th>\n",
       "      <td>b9e493259e0b9fb9f94e4f4d66ab8ded</td>\n",
       "      <td>¿Qué debo hacer si veo una fuga de agua en mi ...</td>\n",
       "      <td>Lo primero que debes hacer es cortar el sumini...</td>\n",
       "    </tr>\n",
       "    <tr>\n",
       "      <th>3</th>\n",
       "      <td>5229ec6562607f2de830a7826a099964</td>\n",
       "      <td>¿Qué debo hacer si mi consumo de agua parece h...</td>\n",
       "      <td>Si no tienes fuga de agua en tu casa, puedes t...</td>\n",
       "    </tr>\n",
       "    <tr>\n",
       "      <th>4</th>\n",
       "      <td>9055d52c36234595f93430ca60610b82</td>\n",
       "      <td>¿Cuánto tiempo tarda en repararse una fuga de ...</td>\n",
       "      <td>Después de supervisar los materiales, maquinar...</td>\n",
       "    </tr>\n",
       "    <tr>\n",
       "      <th>5</th>\n",
       "      <td>34f49a09c09f373422893abead2bad4e</td>\n",
       "      <td>¿Dónde puedo reportar una fuga de agua?</td>\n",
       "      <td>Para reportar una fuga de agua en la Ciudad de...</td>\n",
       "    </tr>\n",
       "    <tr>\n",
       "      <th>6</th>\n",
       "      <td>221e2b757cee67a9babd822666eae6b1</td>\n",
       "      <td>¿Cómo reportar fugas de agua en CDMX?</td>\n",
       "      <td>Para realizar cualquier reporte por fuga en la...</td>\n",
       "    </tr>\n",
       "    <tr>\n",
       "      <th>7</th>\n",
       "      <td>deb8c6e4cf607cabc9fd72178b45daae</td>\n",
       "      <td>¿Qué otro de reportes puedo realizar?</td>\n",
       "      <td>Tambien puedes reportar:\\n- Brotes de aguas ne...</td>\n",
       "    </tr>\n",
       "    <tr>\n",
       "      <th>8</th>\n",
       "      <td>977ff53e8650679587f99ee537c8b095</td>\n",
       "      <td>¿Qué debo tener en cuenta para levantar mi rep...</td>\n",
       "      <td>Para levantar un reporte debes tener en cuenta...</td>\n",
       "    </tr>\n",
       "    <tr>\n",
       "      <th>9</th>\n",
       "      <td>e118293c4450a72349aa684baa54f5eb</td>\n",
       "      <td>¿Puedo reportar fugas en unidades habitacionales?</td>\n",
       "      <td>No, las fugas en unidades habitacionales son r...</td>\n",
       "    </tr>\n",
       "    <tr>\n",
       "      <th>10</th>\n",
       "      <td>edb019b4dbee72a582d41a5d60234bdd</td>\n",
       "      <td>¿Qué hacer si tengo problemas con el suministr...</td>\n",
       "      <td>En la Ciudad de México los encargados de propo...</td>\n",
       "    </tr>\n",
       "  </tbody>\n",
       "</table>\n",
       "</div>"
      ],
      "text/plain": [
       "                                  id  \\\n",
       "0   d7c4ce5eda85cd602edc71a3f29193e0   \n",
       "1   c6b1388a0227cae6d6045a1dc7dd82c5   \n",
       "2   b9e493259e0b9fb9f94e4f4d66ab8ded   \n",
       "3   5229ec6562607f2de830a7826a099964   \n",
       "4   9055d52c36234595f93430ca60610b82   \n",
       "5   34f49a09c09f373422893abead2bad4e   \n",
       "6   221e2b757cee67a9babd822666eae6b1   \n",
       "7   deb8c6e4cf607cabc9fd72178b45daae   \n",
       "8   977ff53e8650679587f99ee537c8b095   \n",
       "9   e118293c4450a72349aa684baa54f5eb   \n",
       "10  edb019b4dbee72a582d41a5d60234bdd   \n",
       "\n",
       "                                             pregunta  \\\n",
       "0             ¿Dónde puedo reportar una fuga de agua?   \n",
       "1   ¿Qué debo hacer si veo una fuga de agua en la ...   \n",
       "2   ¿Qué debo hacer si veo una fuga de agua en mi ...   \n",
       "3   ¿Qué debo hacer si mi consumo de agua parece h...   \n",
       "4   ¿Cuánto tiempo tarda en repararse una fuga de ...   \n",
       "5             ¿Dónde puedo reportar una fuga de agua?   \n",
       "6               ¿Cómo reportar fugas de agua en CDMX?   \n",
       "7               ¿Qué otro de reportes puedo realizar?   \n",
       "8   ¿Qué debo tener en cuenta para levantar mi rep...   \n",
       "9   ¿Puedo reportar fugas en unidades habitacionales?   \n",
       "10  ¿Qué hacer si tengo problemas con el suministr...   \n",
       "\n",
       "                                            respuesta  \n",
       "0   Debes reportarla al organismo operador de agua...  \n",
       "1   En la Ciudad de México, debes reportarla al 55...  \n",
       "2   Lo primero que debes hacer es cortar el sumini...  \n",
       "3   Si no tienes fuga de agua en tu casa, puedes t...  \n",
       "4   Después de supervisar los materiales, maquinar...  \n",
       "5   Para reportar una fuga de agua en la Ciudad de...  \n",
       "6   Para realizar cualquier reporte por fuga en la...  \n",
       "7   Tambien puedes reportar:\\n- Brotes de aguas ne...  \n",
       "8   Para levantar un reporte debes tener en cuenta...  \n",
       "9   No, las fugas en unidades habitacionales son r...  \n",
       "10  En la Ciudad de México los encargados de propo...  "
      ]
     },
     "execution_count": 23,
     "metadata": {},
     "output_type": "execute_result"
    }
   ],
   "source": [
    "df"
   ]
  },
  {
   "cell_type": "code",
   "execution_count": 24,
   "metadata": {},
   "outputs": [
    {
     "data": {
      "text/plain": [
       "Index(['id', 'pregunta', 'respuesta'], dtype='object')"
      ]
     },
     "execution_count": 24,
     "metadata": {},
     "output_type": "execute_result"
    }
   ],
   "source": [
    "# obtenemos las columnas\n",
    "df.columns"
   ]
  },
  {
   "cell_type": "code",
   "execution_count": 25,
   "metadata": {},
   "outputs": [],
   "source": [
    "# vectorizamos \n",
    "index = minsearch.Index(\n",
    "    text_fields=['pregunta', 'respuesta'],\n",
    "    keyword_fields=['id']\n",
    ")"
   ]
  },
  {
   "cell_type": "code",
   "execution_count": null,
   "metadata": {},
   "outputs": [
    {
     "data": {
      "text/plain": [
       "<minsearch.Index at 0x150a143a840>"
      ]
     },
     "execution_count": 19,
     "metadata": {},
     "output_type": "execute_result"
    }
   ],
   "source": [
    "# Adaptamos con el contenido proporcionado\n",
    "documents = df.to_dict(orient='records')\n",
    "index.fit(documents)"
   ]
  },
  {
   "cell_type": "code",
   "execution_count": null,
   "metadata": {},
   "outputs": [
    {
     "name": "stdout",
     "output_type": "stream",
     "text": [
      "¿Dónde puedo reportar una fuga de agua?\n",
      "¿Dónde puedo reportar una fuga de agua?\n",
      "¿Qué debo hacer si veo una fuga de agua en la calle?\n",
      "¿Qué debo hacer si veo una fuga de agua en mi casa?\n",
      "¿Qué otro de reportes puedo realizar?\n",
      "¿Cómo reportar fugas de agua en CDMX?\n",
      "¿Cuánto tiempo tarda en repararse una fuga de agua?\n",
      "¿Qué debo hacer si mi consumo de agua parece haberse elevado?\n",
      "¿Puedo reportar fugas en unidades habitacionales?\n",
      "¿Qué hacer si tengo problemas con el suministro de agua potable?\n"
     ]
    }
   ],
   "source": [
    "# hacemos una busqueda sencilla\n",
    "query = '¿Dónde puedo reportar una fuga de agua?'\n",
    "result = index.search(query, num_results=10)\n",
    "for r in result:\n",
    "    print(r['pregunta'])"
   ]
  }
 ],
 "metadata": {
  "kernelspec": {
   "display_name": "data_engineer",
   "language": "python",
   "name": "python3"
  },
  "language_info": {
   "codemirror_mode": {
    "name": "ipython",
    "version": 3
   },
   "file_extension": ".py",
   "mimetype": "text/x-python",
   "name": "python",
   "nbconvert_exporter": "python",
   "pygments_lexer": "ipython3",
   "version": "3.12.2"
  }
 },
 "nbformat": 4,
 "nbformat_minor": 2
}
