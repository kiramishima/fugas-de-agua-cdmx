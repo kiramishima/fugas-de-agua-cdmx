{
 "cells": [
  {
   "cell_type": "code",
   "execution_count": 6,
   "metadata": {},
   "outputs": [],
   "source": [
    "import polars as pl\n",
    "import os"
   ]
  },
  {
   "cell_type": "code",
   "execution_count": 4,
   "metadata": {},
   "outputs": [
    {
     "data": {
      "text/html": [
       "<div><style>\n",
       ".dataframe > thead > tr,\n",
       ".dataframe > tbody > tr {\n",
       "  text-align: right;\n",
       "  white-space: pre-wrap;\n",
       "}\n",
       "</style>\n",
       "<small>shape: (15_500, 3)</small><table border=\"1\" class=\"dataframe\"><thead><tr><th>fecha_reporte</th><th>alcaldia</th><th>total_fugas</th></tr><tr><td>datetime[ms]</td><td>str</td><td>u32</td></tr></thead><tbody><tr><td>2021-01-01 00:00:00</td><td>&quot;TLALPAN&quot;</td><td>2</td></tr><tr><td>2021-01-01 00:00:00</td><td>&quot;CUAUHTEMOC&quot;</td><td>2</td></tr><tr><td>2021-01-01 00:00:00</td><td>&quot;XOCHIMILCO&quot;</td><td>1</td></tr><tr><td>2021-01-01 00:00:00</td><td>&quot;GUSTAVO A. MADERO&quot;</td><td>1</td></tr><tr><td>2021-01-01 00:00:00</td><td>&quot;ALVARO OBREGON&quot;</td><td>3</td></tr><tr><td>&hellip;</td><td>&hellip;</td><td>&hellip;</td></tr><tr><td>2024-01-31 00:00:00</td><td>&quot;IZTAPALAPA&quot;</td><td>11</td></tr><tr><td>2024-02-01 00:00:00</td><td>&quot;MIGUEL HIDALGO&quot;</td><td>1</td></tr><tr><td>2024-02-01 00:00:00</td><td>&quot;GUSTAVO A. MADERO&quot;</td><td>2</td></tr><tr><td>2024-02-01 00:00:00</td><td>&quot;VENUSTIANO CARRANZA&quot;</td><td>1</td></tr><tr><td>2024-02-01 00:00:00</td><td>&quot;TLALPAN&quot;</td><td>3</td></tr></tbody></table></div>"
      ],
      "text/plain": [
       "shape: (15_500, 3)\n",
       "┌─────────────────────┬─────────────────────┬─────────────┐\n",
       "│ fecha_reporte       ┆ alcaldia            ┆ total_fugas │\n",
       "│ ---                 ┆ ---                 ┆ ---         │\n",
       "│ datetime[ms]        ┆ str                 ┆ u32         │\n",
       "╞═════════════════════╪═════════════════════╪═════════════╡\n",
       "│ 2021-01-01 00:00:00 ┆ TLALPAN             ┆ 2           │\n",
       "│ 2021-01-01 00:00:00 ┆ CUAUHTEMOC          ┆ 2           │\n",
       "│ 2021-01-01 00:00:00 ┆ XOCHIMILCO          ┆ 1           │\n",
       "│ 2021-01-01 00:00:00 ┆ GUSTAVO A. MADERO   ┆ 1           │\n",
       "│ 2021-01-01 00:00:00 ┆ ALVARO OBREGON      ┆ 3           │\n",
       "│ …                   ┆ …                   ┆ …           │\n",
       "│ 2024-01-31 00:00:00 ┆ IZTAPALAPA          ┆ 11          │\n",
       "│ 2024-02-01 00:00:00 ┆ MIGUEL HIDALGO      ┆ 1           │\n",
       "│ 2024-02-01 00:00:00 ┆ GUSTAVO A. MADERO   ┆ 2           │\n",
       "│ 2024-02-01 00:00:00 ┆ VENUSTIANO CARRANZA ┆ 1           │\n",
       "│ 2024-02-01 00:00:00 ┆ TLALPAN             ┆ 3           │\n",
       "└─────────────────────┴─────────────────────┴─────────────┘"
      ]
     },
     "execution_count": 4,
     "metadata": {},
     "output_type": "execute_result"
    }
   ],
   "source": [
    "df_por_fecha = pl.read_parquet('../DATASETS/datos_por_alcaldia_y_fecha.parquet.gzip')\n",
    "df_por_fecha"
   ]
  },
  {
   "cell_type": "code",
   "execution_count": 7,
   "metadata": {},
   "outputs": [],
   "source": [
    "user = os.getenv(\"POSTGRES_USER\", \"postgres\")\n",
    "password = os.getenv(\"POSTGRES_PASSWORD\", \"postgres\")\n",
    "host = os.getenv(\"POSTGRES_HOST\", \"localhost\")\n",
    "port = os.getenv(\"POSTGRES_PORT\", \"5432\")\n",
    "db = os.getenv(\"POSTGRES_DB\", \"sacmex\")"
   ]
  },
  {
   "cell_type": "code",
   "execution_count": 11,
   "metadata": {},
   "outputs": [
    {
     "data": {
      "text/plain": [
       "500"
      ]
     },
     "execution_count": 11,
     "metadata": {},
     "output_type": "execute_result"
    }
   ],
   "source": [
    "uri = f'postgresql://{user}:{password}@{host}:{port}/{db}'\n",
    "\n",
    "df_por_fecha.write_database(table_name=\"fugas_por_delegacion\", connection=uri, if_table_exists='append')"
   ]
  },
  {
   "cell_type": "code",
   "execution_count": 12,
   "metadata": {},
   "outputs": [
    {
     "data": {
      "text/html": [
       "<div><style>\n",
       ".dataframe > thead > tr,\n",
       ".dataframe > tbody > tr {\n",
       "  text-align: right;\n",
       "  white-space: pre-wrap;\n",
       "}\n",
       "</style>\n",
       "<small>shape: (1_155, 3)</small><table border=\"1\" class=\"dataframe\"><thead><tr><th>total_fugas</th><th>target</th><th>fecha_reporte</th></tr><tr><td>f64</td><td>str</td><td>datetime[ns]</td></tr></thead><tbody><tr><td>17.0</td><td>&quot;ORIGEN&quot;</td><td>2021-01-01 00:00:00</td></tr><tr><td>79.0</td><td>&quot;ORIGEN&quot;</td><td>2021-01-02 00:00:00</td></tr><tr><td>84.0</td><td>&quot;ORIGEN&quot;</td><td>2021-01-03 00:00:00</td></tr><tr><td>222.0</td><td>&quot;ORIGEN&quot;</td><td>2021-01-04 00:00:00</td></tr><tr><td>83.0</td><td>&quot;ORIGEN&quot;</td><td>2021-01-05 00:00:00</td></tr><tr><td>&hellip;</td><td>&hellip;</td><td>&hellip;</td></tr><tr><td>3496.0</td><td>&quot;PRONOSTICO&quot;</td><td>2024-02-25 00:00:00</td></tr><tr><td>3910.0</td><td>&quot;PRONOSTICO&quot;</td><td>2024-02-26 00:00:00</td></tr><tr><td>2957.0</td><td>&quot;PRONOSTICO&quot;</td><td>2024-02-27 00:00:00</td></tr><tr><td>3558.0</td><td>&quot;PRONOSTICO&quot;</td><td>2024-02-28 00:00:00</td></tr><tr><td>203.0</td><td>&quot;PRONOSTICO&quot;</td><td>2024-02-29 00:00:00</td></tr></tbody></table></div>"
      ],
      "text/plain": [
       "shape: (1_155, 3)\n",
       "┌─────────────┬────────────┬─────────────────────┐\n",
       "│ total_fugas ┆ target     ┆ fecha_reporte       │\n",
       "│ ---         ┆ ---        ┆ ---                 │\n",
       "│ f64         ┆ str        ┆ datetime[ns]        │\n",
       "╞═════════════╪════════════╪═════════════════════╡\n",
       "│ 17.0        ┆ ORIGEN     ┆ 2021-01-01 00:00:00 │\n",
       "│ 79.0        ┆ ORIGEN     ┆ 2021-01-02 00:00:00 │\n",
       "│ 84.0        ┆ ORIGEN     ┆ 2021-01-03 00:00:00 │\n",
       "│ 222.0       ┆ ORIGEN     ┆ 2021-01-04 00:00:00 │\n",
       "│ 83.0        ┆ ORIGEN     ┆ 2021-01-05 00:00:00 │\n",
       "│ …           ┆ …          ┆ …                   │\n",
       "│ 3496.0      ┆ PRONOSTICO ┆ 2024-02-25 00:00:00 │\n",
       "│ 3910.0      ┆ PRONOSTICO ┆ 2024-02-26 00:00:00 │\n",
       "│ 2957.0      ┆ PRONOSTICO ┆ 2024-02-27 00:00:00 │\n",
       "│ 3558.0      ┆ PRONOSTICO ┆ 2024-02-28 00:00:00 │\n",
       "│ 203.0       ┆ PRONOSTICO ┆ 2024-02-29 00:00:00 │\n",
       "└─────────────┴────────────┴─────────────────────┘"
      ]
     },
     "execution_count": 12,
     "metadata": {},
     "output_type": "execute_result"
    }
   ],
   "source": [
    "df = pl.read_parquet('../DATASETS/combinado_fugas.parquet.gzip')\n",
    "# df = df.reset_index(names='fecha_reporte')\n",
    "df.columns = ['total_fugas', 'target', 'fecha_reporte']\n",
    "df"
   ]
  },
  {
   "cell_type": "code",
   "execution_count": 14,
   "metadata": {},
   "outputs": [
    {
     "data": {
      "text/plain": [
       "155"
      ]
     },
     "execution_count": 14,
     "metadata": {},
     "output_type": "execute_result"
    }
   ],
   "source": [
    "df.write_database(table_name=\"fugas_por_fecha\", connection=uri, if_table_exists='append')"
   ]
  },
  {
   "cell_type": "code",
   "execution_count": 17,
   "metadata": {},
   "outputs": [
    {
     "data": {
      "text/html": [
       "<div><style>\n",
       ".dataframe > thead > tr,\n",
       ".dataframe > tbody > tr {\n",
       "  text-align: right;\n",
       "  white-space: pre-wrap;\n",
       "}\n",
       "</style>\n",
       "<small>shape: (10_000, 16)</small><table border=\"1\" class=\"dataframe\"><thead><tr><th>folio</th><th>fecha_registro_incidente</th><th>id_reporte</th><th>fecha_reporte</th><th>hora_reporte</th><th>clasificacion</th><th>tipo_de_falla</th><th>medio_recepcion</th><th>alcaldia_catalogo</th><th>colonia_catalogo</th><th>latitud</th><th>longitud</th><th>day</th><th>month</th><th>year</th><th>status</th></tr><tr><td>str</td><td>datetime[ns]</td><td>str</td><td>date</td><td>time</td><td>str</td><td>str</td><td>str</td><td>str</td><td>str</td><td>f64</td><td>f64</td><td>i64</td><td>i64</td><td>i64</td><td>str</td></tr></thead><tbody><tr><td>&quot;I-20230857-3334&quot;</td><td>2024-08-14 04:16:45</td><td>&quot;R-20231207-1480&quot;</td><td>2024-08-10</td><td>04:16:45</td><td>&quot;Agua Potable&quot;</td><td>&quot;Fuga&quot;</td><td>&quot;Redes Sociales (Instagram)&quot;</td><td>&quot;ALVARO OBREGON&quot;</td><td>&quot;El Piru 2da Ampliacion&quot;</td><td>19.445022</td><td>-99.083052</td><td>10</td><td>8</td><td>2024</td><td>&quot;SOLUCIONANDO&quot;</td></tr><tr><td>&quot;I-20230376-5224&quot;</td><td>2024-08-03 14:24:40</td><td>&quot;R-20230136-8419&quot;</td><td>2024-07-31</td><td>14:24:40</td><td>&quot;Agua Tratada&quot;</td><td>&quot;Fuga&quot;</td><td>&quot;Locatel folio&quot;</td><td>&quot;TLAHUAC&quot;</td><td>&quot;La Planta&quot;</td><td>19.236461</td><td>-99.292003</td><td>31</td><td>7</td><td>2024</td><td>&quot;ATENDIENDO&quot;</td></tr><tr><td>&quot;I-20230178-4392&quot;</td><td>2024-09-28 17:05:09</td><td>&quot;R-20230324-2281&quot;</td><td>2024-09-19</td><td>17:05:09</td><td>&quot;Agua Tratada&quot;</td><td>&quot;Fuga&quot;</td><td>&quot;Redes Sociales (Facebook)&quot;</td><td>&quot;CUAJIMALPA DE MORELOS&quot;</td><td>&quot;PROVIDENCIA&quot;</td><td>19.313443</td><td>-99.046494</td><td>19</td><td>9</td><td>2024</td><td>&quot;EN PROCESO&quot;</td></tr><tr><td>&quot;I-20230857-5264&quot;</td><td>2024-07-21 12:14:30</td><td>&quot;R-20230523-7151&quot;</td><td>2024-07-19</td><td>12:14:30</td><td>&quot;Agua Potable&quot;</td><td>&quot;Fuga&quot;</td><td>&quot;Jefatura de Gobierno/Base Cúsp…</td><td>&quot;CUAUHTEMOC&quot;</td><td>&quot;HIPODROMO CONDESA&quot;</td><td>19.433645</td><td>-99.154349</td><td>19</td><td>7</td><td>2024</td><td>&quot;RESUELTO&quot;</td></tr><tr><td>&quot;I-20230165-1876&quot;</td><td>2024-03-19 21:18:53</td><td>&quot;R-20230729-3049&quot;</td><td>2024-03-16</td><td>21:18:53</td><td>&quot;Agua Potable&quot;</td><td>&quot;Fuga&quot;</td><td>&quot;Redes Sociales (Instagram)&quot;</td><td>&quot;Álvaro Obregón&quot;</td><td>&quot;SANTA MARIA AZTAHUACAN (EJ) II&quot;</td><td>19.27877</td><td>-99.071977</td><td>16</td><td>3</td><td>2024</td><td>&quot;EN REVISIÓN&quot;</td></tr><tr><td>&hellip;</td><td>&hellip;</td><td>&hellip;</td><td>&hellip;</td><td>&hellip;</td><td>&hellip;</td><td>&hellip;</td><td>&hellip;</td><td>&hellip;</td><td>&hellip;</td><td>&hellip;</td><td>&hellip;</td><td>&hellip;</td><td>&hellip;</td><td>&hellip;</td><td>&hellip;</td></tr><tr><td>&quot;I-20230410-6518&quot;</td><td>2024-11-23 21:57:18</td><td>&quot;R-20231208-7639&quot;</td><td>2024-11-19</td><td>21:57:18</td><td>&quot;Agua Tratada&quot;</td><td>&quot;Fuga&quot;</td><td>&quot;Ciudadano (Call Center)&quot;</td><td>&quot;BENITO JUAREZ&quot;</td><td>&quot;Barrio Santa Lucia&quot;</td><td>19.204625</td><td>-99.15188</td><td>19</td><td>11</td><td>2024</td><td>&quot;ATENDIENDO&quot;</td></tr><tr><td>&quot;I-20230854-2451&quot;</td><td>2024-07-14 16:20:20</td><td>&quot;R-20230234-5601&quot;</td><td>2024-07-10</td><td>16:20:20</td><td>&quot;Agua Tratada&quot;</td><td>&quot;Fuga&quot;</td><td>&quot;Personal Directivo de SACMEX&quot;</td><td>&quot;MILPA ALTA&quot;</td><td>&quot;LA ESMERALDA III&quot;</td><td>19.336959</td><td>-99.162828</td><td>10</td><td>7</td><td>2024</td><td>&quot;RESUELTO&quot;</td></tr><tr><td>&quot;I-20230808-7030&quot;</td><td>2024-11-04 20:44:44</td><td>&quot;R-20230464-8582&quot;</td><td>2024-11-03</td><td>20:44:44</td><td>&quot;Agua Potable&quot;</td><td>&quot;Fuga&quot;</td><td>&quot;Jefatura de Gobierno/Base Cúsp…</td><td>&quot;GUSTAVO A. MADERO&quot;</td><td>&quot;PEDREGAL DE STO DOMINGO IV&quot;</td><td>19.298391</td><td>-99.181271</td><td>3</td><td>11</td><td>2024</td><td>&quot;RESUELTO&quot;</td></tr><tr><td>&quot;I-20231063-4565&quot;</td><td>2024-12-05 23:49:39</td><td>&quot;R-20230626-3298&quot;</td><td>2024-11-27</td><td>23:49:39</td><td>&quot;Agua Tratada&quot;</td><td>&quot;Fuga&quot;</td><td>&quot;SUAC&quot;</td><td>&quot;Miguel Hidalgo&quot;</td><td>&quot;GRANJAS MEXICO I&quot;</td><td>19.280149</td><td>-99.02897</td><td>27</td><td>11</td><td>2024</td><td>&quot;SOLUCIONANDO&quot;</td></tr><tr><td>&quot;I-20230411-7852&quot;</td><td>2024-12-18 15:59:26</td><td>&quot;R-20230699-2571&quot;</td><td>2024-12-15</td><td>15:59:26</td><td>&quot;Agua Potable&quot;</td><td>&quot;Fuga&quot;</td><td>&quot;Puesto de Mando&quot;</td><td>&quot;LA MAGDALENA CONTRERAS&quot;</td><td>&quot;Ciudad Universitaria&quot;</td><td>19.270438</td><td>-99.192429</td><td>15</td><td>12</td><td>2024</td><td>&quot;EN PROCESO&quot;</td></tr></tbody></table></div>"
      ],
      "text/plain": [
       "shape: (10_000, 16)\n",
       "┌──────────────┬──────────────┬──────────────┬──────────────┬───┬─────┬───────┬──────┬─────────────┐\n",
       "│ folio        ┆ fecha_regist ┆ id_reporte   ┆ fecha_report ┆ … ┆ day ┆ month ┆ year ┆ status      │\n",
       "│ ---          ┆ ro_incidente ┆ ---          ┆ e            ┆   ┆ --- ┆ ---   ┆ ---  ┆ ---         │\n",
       "│ str          ┆ ---          ┆ str          ┆ ---          ┆   ┆ i64 ┆ i64   ┆ i64  ┆ str         │\n",
       "│              ┆ datetime[ns] ┆              ┆ date         ┆   ┆     ┆       ┆      ┆             │\n",
       "╞══════════════╪══════════════╪══════════════╪══════════════╪═══╪═════╪═══════╪══════╪═════════════╡\n",
       "│ I-20230857-3 ┆ 2024-08-14   ┆ R-20231207-1 ┆ 2024-08-10   ┆ … ┆ 10  ┆ 8     ┆ 2024 ┆ SOLUCIONAND │\n",
       "│ 334          ┆ 04:16:45     ┆ 480          ┆              ┆   ┆     ┆       ┆      ┆ O           │\n",
       "│ I-20230376-5 ┆ 2024-08-03   ┆ R-20230136-8 ┆ 2024-07-31   ┆ … ┆ 31  ┆ 7     ┆ 2024 ┆ ATENDIENDO  │\n",
       "│ 224          ┆ 14:24:40     ┆ 419          ┆              ┆   ┆     ┆       ┆      ┆             │\n",
       "│ I-20230178-4 ┆ 2024-09-28   ┆ R-20230324-2 ┆ 2024-09-19   ┆ … ┆ 19  ┆ 9     ┆ 2024 ┆ EN PROCESO  │\n",
       "│ 392          ┆ 17:05:09     ┆ 281          ┆              ┆   ┆     ┆       ┆      ┆             │\n",
       "│ I-20230857-5 ┆ 2024-07-21   ┆ R-20230523-7 ┆ 2024-07-19   ┆ … ┆ 19  ┆ 7     ┆ 2024 ┆ RESUELTO    │\n",
       "│ 264          ┆ 12:14:30     ┆ 151          ┆              ┆   ┆     ┆       ┆      ┆             │\n",
       "│ I-20230165-1 ┆ 2024-03-19   ┆ R-20230729-3 ┆ 2024-03-16   ┆ … ┆ 16  ┆ 3     ┆ 2024 ┆ EN REVISIÓN │\n",
       "│ 876          ┆ 21:18:53     ┆ 049          ┆              ┆   ┆     ┆       ┆      ┆             │\n",
       "│ …            ┆ …            ┆ …            ┆ …            ┆ … ┆ …   ┆ …     ┆ …    ┆ …           │\n",
       "│ I-20230410-6 ┆ 2024-11-23   ┆ R-20231208-7 ┆ 2024-11-19   ┆ … ┆ 19  ┆ 11    ┆ 2024 ┆ ATENDIENDO  │\n",
       "│ 518          ┆ 21:57:18     ┆ 639          ┆              ┆   ┆     ┆       ┆      ┆             │\n",
       "│ I-20230854-2 ┆ 2024-07-14   ┆ R-20230234-5 ┆ 2024-07-10   ┆ … ┆ 10  ┆ 7     ┆ 2024 ┆ RESUELTO    │\n",
       "│ 451          ┆ 16:20:20     ┆ 601          ┆              ┆   ┆     ┆       ┆      ┆             │\n",
       "│ I-20230808-7 ┆ 2024-11-04   ┆ R-20230464-8 ┆ 2024-11-03   ┆ … ┆ 3   ┆ 11    ┆ 2024 ┆ RESUELTO    │\n",
       "│ 030          ┆ 20:44:44     ┆ 582          ┆              ┆   ┆     ┆       ┆      ┆             │\n",
       "│ I-20231063-4 ┆ 2024-12-05   ┆ R-20230626-3 ┆ 2024-11-27   ┆ … ┆ 27  ┆ 11    ┆ 2024 ┆ SOLUCIONAND │\n",
       "│ 565          ┆ 23:49:39     ┆ 298          ┆              ┆   ┆     ┆       ┆      ┆ O           │\n",
       "│ I-20230411-7 ┆ 2024-12-18   ┆ R-20230699-2 ┆ 2024-12-15   ┆ … ┆ 15  ┆ 12    ┆ 2024 ┆ EN PROCESO  │\n",
       "│ 852          ┆ 15:59:26     ┆ 571          ┆              ┆   ┆     ┆       ┆      ┆             │\n",
       "└──────────────┴──────────────┴──────────────┴──────────────┴───┴─────┴───────┴──────┴─────────────┘"
      ]
     },
     "execution_count": 17,
     "metadata": {},
     "output_type": "execute_result"
    }
   ],
   "source": [
    "simulated_data = pl.read_parquet('../DATASETS/datos_simulados.parquet.gzip')\n",
    "simulated_data"
   ]
  },
  {
   "cell_type": "code",
   "execution_count": 18,
   "metadata": {},
   "outputs": [
    {
     "data": {
      "text/plain": [
       "1000"
      ]
     },
     "execution_count": 18,
     "metadata": {},
     "output_type": "execute_result"
    }
   ],
   "source": [
    "simulated_data.write_database(table_name=\"reportes_fugas\", connection=uri, if_table_exists='append')"
   ]
  }
 ],
 "metadata": {
  "kernelspec": {
   "display_name": "data_engineer",
   "language": "python",
   "name": "python3"
  },
  "language_info": {
   "codemirror_mode": {
    "name": "ipython",
    "version": 3
   },
   "file_extension": ".py",
   "mimetype": "text/x-python",
   "name": "python",
   "nbconvert_exporter": "python",
   "pygments_lexer": "ipython3",
   "version": "3.12.2"
  }
 },
 "nbformat": 4,
 "nbformat_minor": 2
}
