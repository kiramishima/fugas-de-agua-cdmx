{
 "cells": [
  {
   "cell_type": "markdown",
   "metadata": {},
   "source": [
    "## Busqueda hibrida"
   ]
  },
  {
   "cell_type": "code",
   "execution_count": 4,
   "metadata": {},
   "outputs": [],
   "source": [
    "import os\n",
    "from pathlib import Path\n",
    "from typing import List\n",
    "import pandas as pd\n",
    "from tqdm.auto import tqdm\n",
    "from openai import OpenAI\n",
    "import minsearch as ms"
   ]
  },
  {
   "cell_type": "code",
   "execution_count": 1,
   "metadata": {},
   "outputs": [],
   "source": [
    "def hit_rate(relevance_total):\n",
    "    cnt = 0\n",
    "\n",
    "    for line in relevance_total:\n",
    "        if True in line:\n",
    "            cnt = cnt + 1\n",
    "\n",
    "    return cnt / len(relevance_total)\n",
    "\n",
    "\n",
    "def mrr(relevance_total):\n",
    "    total_score = 0.0\n",
    "\n",
    "    for line in relevance_total:\n",
    "        for rank in range(len(line)):\n",
    "            if line[rank] == True:\n",
    "                total_score = total_score + 1 / (rank + 1)\n",
    "\n",
    "    return total_score / len(relevance_total)\n",
    "\n",
    "\n",
    "def evaluate(ground_truth, search_function, field):\n",
    "    relevance_total = []\n",
    "\n",
    "    for q in tqdm(ground_truth):\n",
    "        doc_id = q['id']\n",
    "        results = search_function(q, field)\n",
    "        relevance = [d['id'] == doc_id for d in results]\n",
    "        relevance_total.append(relevance)\n",
    "\n",
    "    return {\n",
    "        'hit_rate': hit_rate(relevance_total),\n",
    "        'mrr': mrr(relevance_total),\n",
    "    }"
   ]
  },
  {
   "cell_type": "code",
   "execution_count": 9,
   "metadata": {},
   "outputs": [],
   "source": [
    "DATA_PATH = os.getenv(\"DATA_PATH\", \"../DATASETS/faq_sacmex.csv\")\n",
    "\n",
    "def ingest_data(file_path: Path = Path(DATA_PATH), text_fields: List[str] = None):\n",
    "    # Lee el archivo csv\n",
    "    df = pd.read_csv(file_path)\n",
    "\n",
    "    # Convierte los campos a string\n",
    "    if text_fields:\n",
    "        for field in text_fields:\n",
    "            if field in df.columns:\n",
    "                df[field] = df[field].astype(str)\n",
    "\n",
    "    # Convierte el DataFrame a diccionario\n",
    "    return df.to_dict(orient='records')\n"
   ]
  },
  {
   "cell_type": "code",
   "execution_count": 7,
   "metadata": {},
   "outputs": [
    {
     "data": {
      "text/plain": [
       "{'id': 'd7c4ce5eda85cd602edc71a3f29193e0',\n",
       " 'pregunta': '¿Dónde puedo reportar una fuga de agua?'}"
      ]
     },
     "execution_count": 7,
     "metadata": {},
     "output_type": "execute_result"
    }
   ],
   "source": [
    "df_question = pd.read_csv('../DATASETS/ground-truth-retrieval_llama3_2_3b.csv')\n",
    "ground_truth = df_question.to_dict(orient='records')\n",
    "ground_truth[0]"
   ]
  },
  {
   "cell_type": "code",
   "execution_count": 10,
   "metadata": {},
   "outputs": [
    {
     "data": {
      "text/plain": [
       "{'id': 'd7c4ce5eda85cd602edc71a3f29193e0',\n",
       " 'pregunta': '¿Dónde puedo reportar una fuga de agua?',\n",
       " 'respuesta': 'Debes reportarla al organismo operador de agua potable y alcantarillado de tu localidad.',\n",
       " 'document': 'faq_sacmex'}"
      ]
     },
     "execution_count": 10,
     "metadata": {},
     "output_type": "execute_result"
    }
   ],
   "source": [
    "documents = ingest_data()\n",
    "documents[0]"
   ]
  },
  {
   "cell_type": "code",
   "execution_count": 11,
   "metadata": {},
   "outputs": [],
   "source": [
    "# El transformer\n",
    "from sentence_transformers import SentenceTransformer\n",
    "model = SentenceTransformer(\"all-mpnet-base-v2\")"
   ]
  },
  {
   "cell_type": "code",
   "execution_count": 2,
   "metadata": {},
   "outputs": [
    {
     "data": {
      "text/plain": [
       "ObjectApiResponse({'acknowledged': True, 'shards_acknowledged': True, 'index': 'faq_sacmex'})"
      ]
     },
     "execution_count": 2,
     "metadata": {},
     "output_type": "execute_result"
    }
   ],
   "source": [
    "from elasticsearch import Elasticsearch\n",
    "\n",
    "es_client = Elasticsearch('http://localhost:9200')\n",
    "\n",
    "index_settings = {\n",
    "    \"settings\": {\n",
    "        \"number_of_shards\": 1,\n",
    "        \"number_of_replicas\": 0\n",
    "    },\n",
    "    \"mappings\": {\n",
    "        \"properties\":\n",
    "            {\n",
    "                'id': {\"type\": \"keyword\"},\n",
    "                'pregunta': {\"type\": \"text\"},\n",
    "                'respuesta': {\"type\": \"text\"},\n",
    "                'document': {\"type\": \"text\"},\n",
    "                'pregunta_vector': {\"type\": \"dense_vector\", \"dims\": 768, \"index\": True, \"similarity\": \"cosine\"},\n",
    "                'respuesta_vector': {\"type\": \"dense_vector\", \"dims\": 768, \"index\": True, \"similarity\": \"cosine\"},\n",
    "                'preg_resp_vector': {\"type\": \"dense_vector\", \"dims\": 768, \"index\": True, \"similarity\": \"cosine\"}\n",
    "            }\n",
    "    }\n",
    "}\n",
    "\n",
    "index_name = \"faq_sacmex\"\n",
    "\n",
    "es_client.indices.delete(index=index_name, ignore_unavailable=True)\n",
    "es_client.indices.create(index=index_name, body=index_settings)"
   ]
  },
  {
   "cell_type": "code",
   "execution_count": 12,
   "metadata": {},
   "outputs": [
    {
     "data": {
      "application/vnd.jupyter.widget-view+json": {
       "model_id": "5e4e46e4c1c943b0813e6f58a02d59ba",
       "version_major": 2,
       "version_minor": 0
      },
      "text/plain": [
       "  0%|          | 0/11 [00:00<?, ?it/s]"
      ]
     },
     "metadata": {},
     "output_type": "display_data"
    }
   ],
   "source": [
    "operations = []\n",
    "embeddings = []\n",
    "for doc in tqdm(documents):\n",
    "    doc[\"pregunta_vector\"] = model.encode(doc[\"pregunta\"]).tolist()\n",
    "    doc[\"respuesta_vector\"] = model.encode(doc[\"respuesta\"]).tolist()\n",
    "    preg_resp = f\"{doc[\"pregunta\"]} {doc[\"respuesta\"]}\"\n",
    "    doc[\"preg_resp_vector\"] = model.encode(preg_resp).tolist()\n",
    "    operations.append(doc)\n",
    "    embeddings.append((doc[\"pregunta_vector\"], doc[\"respuesta_vector\"], doc[\"preg_resp_vector\"]))"
   ]
  },
  {
   "cell_type": "code",
   "execution_count": 13,
   "metadata": {},
   "outputs": [
    {
     "data": {
      "application/vnd.jupyter.widget-view+json": {
       "model_id": "2365852cd98f4172b24a771cc31053ff",
       "version_major": 2,
       "version_minor": 0
      },
      "text/plain": [
       "  0%|          | 0/11 [00:00<?, ?it/s]"
      ]
     },
     "metadata": {},
     "output_type": "display_data"
    }
   ],
   "source": [
    "# Carga de documentos\n",
    "for doc in tqdm(operations):\n",
    "    try:\n",
    "        es_client.index(index=index_name, document=doc)\n",
    "    except Exception as e:\n",
    "        print(e)"
   ]
  },
  {
   "cell_type": "code",
   "execution_count": 28,
   "metadata": {},
   "outputs": [],
   "source": [
    "def elastic_search_hybrid(query):\n",
    "    vector = model.encode(query)\n",
    "    knn_query = {\n",
    "        \"field\": \"preg_resp_vector\",\n",
    "        \"query_vector\": vector,\n",
    "        \"k\": 5,\n",
    "        \"num_candidates\": 10000,\n",
    "        \"boost\": 0.5\n",
    "    }\n",
    "\n",
    "    keyword_query = {\n",
    "        \"bool\": {\n",
    "            \"must\": {\n",
    "                \"multi_match\": {\n",
    "                    \"query\": query,\n",
    "                    \"fields\": [\"pregunta\", \"respuesta\"],\n",
    "                    \"type\": \"best_fields\",\n",
    "                    \"boost\": 0.5,\n",
    "                }\n",
    "            }\n",
    "        }\n",
    "    }\n",
    "\n",
    "    search_query = {\n",
    "        \"knn\": knn_query,\n",
    "        \"query\": keyword_query,\n",
    "        \"size\": 10,\n",
    "        \"_source\": [\"id\", \"pregunta\", \"respuesta\"]\n",
    "    }\n",
    "\n",
    "    es_results = es_client.search(\n",
    "        index=index_name,\n",
    "        body=search_query\n",
    "    )\n",
    "    \n",
    "    result_docs = []\n",
    "    \n",
    "    for hit in es_results['hits']['hits']:\n",
    "        result_docs.append(hit['_source'])\n",
    "\n",
    "    return result_docs"
   ]
  },
  {
   "cell_type": "code",
   "execution_count": 31,
   "metadata": {},
   "outputs": [],
   "source": [
    "def evaluate(ground_truth, search_function):\n",
    "    relevance_total = []\n",
    "\n",
    "    for q in tqdm(ground_truth):\n",
    "        results = search_function(q['pregunta'])\n",
    "        print(results[0])\n",
    "        relevance = [d['id'] == q['id'] for d in results]\n",
    "        relevance_total.append(relevance)\n",
    "\n",
    "    return {\n",
    "        'hit_rate': hit_rate(relevance_total),\n",
    "        'mrr': mrr(relevance_total)\n",
    "    }"
   ]
  },
  {
   "cell_type": "code",
   "execution_count": 32,
   "metadata": {},
   "outputs": [
    {
     "data": {
      "application/vnd.jupyter.widget-view+json": {
       "model_id": "f58693db9dfc491ea47c7d786e2808b1",
       "version_major": 2,
       "version_minor": 0
      },
      "text/plain": [
       "  0%|          | 0/11 [00:00<?, ?it/s]"
      ]
     },
     "metadata": {},
     "output_type": "display_data"
    },
    {
     "name": "stdout",
     "output_type": "stream",
     "text": [
      "{'id': 'd7c4ce5eda85cd602edc71a3f29193e0', 'pregunta': '¿Dónde puedo reportar una fuga de agua?', 'respuesta': 'Debes reportarla al organismo operador de agua potable y alcantarillado de tu localidad.'}\n",
      "{'id': 'c6b1388a0227cae6d6045a1dc7dd82c5', 'pregunta': '¿Qué debo hacer si veo una fuga de agua en la calle?', 'respuesta': 'En la Ciudad de México, debes reportarla al 55 5654 3210 para que una brigada del Sistema de Aguas de la Ciudad de México acuda a repararla.'}\n",
      "{'id': 'b9e493259e0b9fb9f94e4f4d66ab8ded', 'pregunta': '¿Qué debo hacer si veo una fuga de agua en mi casa?', 'respuesta': 'Lo primero que debes hacer es cortar el suministro de agua, ya sea con el grifo de cierre o la válvula de cierre, que generalmente se encuentran en el baño o la cocina.\\xa0'}\n",
      "{'id': '5229ec6562607f2de830a7826a099964', 'pregunta': '¿Qué debo hacer si mi consumo de agua parece haberse elevado?', 'respuesta': 'Si no tienes fuga de agua en tu casa, puedes tomar la lectura del medidor, enviar una foto y comparar con el recibo anterior.\\xa0Si hay discrepancia, puedes levantar un reporte.'}\n",
      "{'id': '9055d52c36234595f93430ca60610b82', 'pregunta': '¿Cuánto tiempo tarda en repararse una fuga de agua?', 'respuesta': 'Después de supervisar los materiales, maquinaria y personal, se comienzan los trabajos de reparación en un plazo de 48 horas.'}\n",
      "{'id': 'd7c4ce5eda85cd602edc71a3f29193e0', 'pregunta': '¿Dónde puedo reportar una fuga de agua?', 'respuesta': 'Debes reportarla al organismo operador de agua potable y alcantarillado de tu localidad.'}\n",
      "{'id': '221e2b757cee67a9babd822666eae6b1', 'pregunta': '¿Cómo reportar fugas de agua en CDMX?', 'respuesta': 'Para realizar cualquier reporte por fuga en la vía pública, el SACMEX pone a disposición de la ciudadanía el número telefónico de LOCATEL *0311 y 55 5658 1111, así como sus redes sociales oficiales @SacmexCDMX en X (antes Twitter) y @SistemaDeAguasCDMX en'}\n",
      "{'id': 'deb8c6e4cf607cabc9fd72178b45daae', 'pregunta': '¿Qué otro de reportes puedo realizar?', 'respuesta': 'Tambien puedes reportar:\\n- Brotes de aguas negras\\n- Tomas clandestinas\\n- Mala calidad del recurso\\n- Robo o desperfecto de tapas de coladeras\\n- Falta de tapas de válvulas\\n- Desbordes en tanques de almacenamiento'}\n",
      "{'id': '977ff53e8650679587f99ee537c8b095', 'pregunta': '¿Qué debo tener en cuenta para levantar mi reporte?', 'respuesta': 'Para levantar un reporte debes tener en cuenta lo siguiente:\\n- Contar con la dirección exacta del lugar y la descripción precisa del problema\\n- Proporcionar nombre de la alcaldia, colonia, calle y número oficial, calles aledañas, nombre del reportante y número telefónico.'}\n",
      "{'id': 'e118293c4450a72349aa684baa54f5eb', 'pregunta': '¿Puedo reportar fugas en unidades habitacionales?', 'respuesta': 'No, las fugas en unidades habitacionales son reparadas por la administración de las mismas unidades.\\nEn caso de fugas exteriores a tu unidad reporta a los telefonos 5556581111 o 5556543210.'}\n",
      "{'id': 'edb019b4dbee72a582d41a5d60234bdd', 'pregunta': '¿Qué hacer si tengo problemas con el suministro de agua potable?', 'respuesta': 'En la Ciudad de México los encargados de proporcionar el servicio de agua potable, drenaje y tratamiento de aguas residuales a la población son los organismos operadores y las oficinas de agua potable de cada municipio, '}\n"
     ]
    },
    {
     "data": {
      "text/plain": [
       "{'hit_rate': 1.0, 'mrr': 0.9545454545454546}"
      ]
     },
     "execution_count": 32,
     "metadata": {},
     "output_type": "execute_result"
    }
   ],
   "source": [
    "evaluate(ground_truth, elastic_search_hybrid)"
   ]
  }
 ],
 "metadata": {
  "kernelspec": {
   "display_name": "data_engineer",
   "language": "python",
   "name": "python3"
  },
  "language_info": {
   "codemirror_mode": {
    "name": "ipython",
    "version": 3
   },
   "file_extension": ".py",
   "mimetype": "text/x-python",
   "name": "python",
   "nbconvert_exporter": "python",
   "pygments_lexer": "ipython3",
   "version": "3.12.2"
  }
 },
 "nbformat": 4,
 "nbformat_minor": 2
}
