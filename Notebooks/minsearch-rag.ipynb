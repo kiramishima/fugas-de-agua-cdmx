{
 "cells": [
  {
   "cell_type": "code",
   "execution_count": 1,
   "metadata": {
    "dotnet_interactive": {
     "language": "csharp"
    },
    "polyglot_notebook": {
     "kernelName": "csharp"
    }
   },
   "outputs": [],
   "source": [
    "import os\n",
    "from pathlib import Path\n",
    "from typing import List\n",
    "import pandas as pd\n",
    "from tqdm.auto import tqdm\n",
    "from openai import OpenAI\n",
    "import minsearch as ms"
   ]
  },
  {
   "cell_type": "code",
   "execution_count": 2,
   "metadata": {},
   "outputs": [],
   "source": [
    "DATA_PATH = os.getenv(\"DATA_PATH\", \"../DATASETS/faq_sacmex.csv\")"
   ]
  },
  {
   "cell_type": "code",
   "execution_count": 3,
   "metadata": {},
   "outputs": [],
   "source": [
    "def ingest_data(file_path: Path = Path(DATA_PATH), text_fields: List[str] = None):\n",
    "    # Lee el archivo csv\n",
    "    df = pd.read_csv(file_path)\n",
    "\n",
    "    # print(df.head())\n",
    "\n",
    "    # Convierte los campos a string\n",
    "    if text_fields:\n",
    "        for field in text_fields:\n",
    "            if field in df.columns:\n",
    "                df[field] = df[field].astype(str)\n",
    "\n",
    "    # Convierte el DataFrame a diccionario\n",
    "    return df.to_dict(orient='records')\n",
    "\n",
    "\n",
    "def load_index(\n",
    "        documents,\n",
    "        text_fields: List[str],\n",
    "        keyword_fields: List[str],\n",
    "        search_index=ms.Index\n",
    "):\n",
    "    for doc in documents:\n",
    "        for key in doc:\n",
    "            if isinstance(doc[key], float):\n",
    "                doc[key] = str(doc[key])\n",
    "            elif isinstance(doc[key], int):\n",
    "                doc[key] = str(doc[key])\n",
    "            elif not isinstance(doc[key], str):\n",
    "                doc[key] = str(doc[key])\n",
    "            else:\n",
    "                doc[key] = doc[key]\n",
    "\n",
    "    index = search_index(\n",
    "        text_fields=text_fields,\n",
    "        keyword_fields=keyword_fields\n",
    "    )\n",
    "\n",
    "    index.fit(documents)\n",
    "\n",
    "    return index"
   ]
  },
  {
   "cell_type": "code",
   "execution_count": 4,
   "metadata": {},
   "outputs": [],
   "source": [
    "def minsearch_search(query, boost=None):\n",
    "    if boost is None:\n",
    "        boost = {}\n",
    "\n",
    "    results = index.search(\n",
    "        query=query,\n",
    "        filter_dict={},\n",
    "        boost_dict=boost,\n",
    "        num_results=10\n",
    "    )\n",
    "\n",
    "    return results"
   ]
  },
  {
   "cell_type": "code",
   "execution_count": 5,
   "metadata": {},
   "outputs": [],
   "source": [
    "def hit_rate(relevance_total):\n",
    "    cnt = 0\n",
    "\n",
    "    for line in relevance_total:\n",
    "        if True in line:\n",
    "            cnt = cnt + 1\n",
    "\n",
    "    return cnt / len(relevance_total)\n",
    "\n",
    "\n",
    "def mrr(relevance_total):\n",
    "    total_score = 0.0\n",
    "\n",
    "    for line in relevance_total:\n",
    "        for rank in range(len(line)):\n",
    "            if line[rank] == True:\n",
    "                total_score = total_score + 1 / (rank + 1)\n",
    "\n",
    "    return total_score / len(relevance_total)"
   ]
  },
  {
   "cell_type": "code",
   "execution_count": 6,
   "metadata": {},
   "outputs": [],
   "source": [
    "def evaluate(ground_truth, search_function):\n",
    "    relevance_total = []\n",
    "    results_dict = {}\n",
    "    for q in tqdm(ground_truth):\n",
    "        try:\n",
    "            doc_id = q['id']\n",
    "            results = search_function(q)\n",
    "\n",
    "            relevance = [str(d['id']) == str(doc_id) for d in results]\n",
    "\n",
    "            results_dict[q['id']] = (q, results)\n",
    "            relevance_total.append(relevance)\n",
    "            # if all(not r for r in relevance):\n",
    "            #     print(\"No relevant results found for query: \", q)\n",
    "            # print(\"Results: \", results)\n",
    "        except Exception as e:\n",
    "            print(f\"Error procesando el query: {q} con la excepción: {e}\")\n",
    "\n",
    "    return {\n",
    "        'hit_rate': hit_rate(relevance_total),\n",
    "        'mrr': mrr(relevance_total),\n",
    "    }"
   ]
  },
  {
   "cell_type": "markdown",
   "metadata": {},
   "source": [
    "# Evaluando la recuperación usando MinSearch y los datos de referencia con llama3.2:3b"
   ]
  },
  {
   "cell_type": "code",
   "execution_count": null,
   "metadata": {},
   "outputs": [],
   "source": [
    "df_question = pd.read_csv('../DATASETS/ground-truth-retrieval_llama3_2_3b.csv')\n",
    "df_question.head()"
   ]
  },
  {
   "cell_type": "code",
   "execution_count": null,
   "metadata": {},
   "outputs": [],
   "source": [
    "ground_truth = df_question.to_dict(orient='records')\n",
    "ground_truth[0]"
   ]
  },
  {
   "cell_type": "code",
   "execution_count": null,
   "metadata": {},
   "outputs": [],
   "source": [
    "documents = ingest_data(file_path=\"../DATASETS/faq_sacmex.csv\")\n",
    "documents[0]"
   ]
  },
  {
   "cell_type": "code",
   "execution_count": null,
   "metadata": {},
   "outputs": [],
   "source": [
    "text_fields = [\n",
    "    'id',\n",
    "    'pregunta',\n",
    "    'respuesta',\n",
    "    'document',\n",
    "]\n",
    "keyword_fields = ['id']\n",
    "index = load_index(\n",
    "    documents=documents,\n",
    "    text_fields=text_fields,\n",
    "    keyword_fields=keyword_fields\n",
    ")"
   ]
  },
  {
   "cell_type": "code",
   "execution_count": null,
   "metadata": {},
   "outputs": [],
   "source": [
    "evaluate(ground_truth, lambda q: minsearch_search(q['pregunta']))"
   ]
  },
  {
   "cell_type": "markdown",
   "metadata": {},
   "source": [
    "# Ajuste de parámetros para los datos de referencia basado en llama3.2:3b"
   ]
  },
  {
   "cell_type": "code",
   "execution_count": 7,
   "metadata": {},
   "outputs": [],
   "source": [
    "df_question = pd.read_csv('../DATASETS/ground-truth-retrieval_llama3_2_3b.csv')\n",
    "ground_truth = df_question.to_dict(orient='records')\n",
    "documents = ingest_data(file_path=\"../DATASETS/faq_sacmex.csv\")"
   ]
  },
  {
   "cell_type": "code",
   "execution_count": 8,
   "metadata": {},
   "outputs": [
    {
     "data": {
      "text/html": [
       "<div>\n",
       "<style scoped>\n",
       "    .dataframe tbody tr th:only-of-type {\n",
       "        vertical-align: middle;\n",
       "    }\n",
       "\n",
       "    .dataframe tbody tr th {\n",
       "        vertical-align: top;\n",
       "    }\n",
       "\n",
       "    .dataframe thead th {\n",
       "        text-align: right;\n",
       "    }\n",
       "</style>\n",
       "<table border=\"1\" class=\"dataframe\">\n",
       "  <thead>\n",
       "    <tr style=\"text-align: right;\">\n",
       "      <th></th>\n",
       "      <th>id</th>\n",
       "      <th>pregunta</th>\n",
       "    </tr>\n",
       "  </thead>\n",
       "  <tbody>\n",
       "    <tr>\n",
       "      <th>0</th>\n",
       "      <td>d7c4ce5eda85cd602edc71a3f29193e0</td>\n",
       "      <td>¿Dónde puedo reportar una fuga de agua?</td>\n",
       "    </tr>\n",
       "    <tr>\n",
       "      <th>1</th>\n",
       "      <td>c6b1388a0227cae6d6045a1dc7dd82c5</td>\n",
       "      <td>¿Qué debo hacer si veo una fuga de agua en la ...</td>\n",
       "    </tr>\n",
       "    <tr>\n",
       "      <th>2</th>\n",
       "      <td>b9e493259e0b9fb9f94e4f4d66ab8ded</td>\n",
       "      <td>¿Qué debo hacer si veo una fuga de agua en mi ...</td>\n",
       "    </tr>\n",
       "    <tr>\n",
       "      <th>3</th>\n",
       "      <td>5229ec6562607f2de830a7826a099964</td>\n",
       "      <td>¿Qué debo hacer si mi consumo de agua parece h...</td>\n",
       "    </tr>\n",
       "    <tr>\n",
       "      <th>4</th>\n",
       "      <td>9055d52c36234595f93430ca60610b82</td>\n",
       "      <td>¿Cuánto tiempo tarda en repararse una fuga de ...</td>\n",
       "    </tr>\n",
       "    <tr>\n",
       "      <th>5</th>\n",
       "      <td>34f49a09c09f373422893abead2bad4e</td>\n",
       "      <td>¿Dónde puedo reportar una fuga de agua?</td>\n",
       "    </tr>\n",
       "    <tr>\n",
       "      <th>6</th>\n",
       "      <td>221e2b757cee67a9babd822666eae6b1</td>\n",
       "      <td>¿Cómo reportar fugas de agua en CDMX?</td>\n",
       "    </tr>\n",
       "    <tr>\n",
       "      <th>7</th>\n",
       "      <td>deb8c6e4cf607cabc9fd72178b45daae</td>\n",
       "      <td>¿Qué otro de reportes puedo realizar?</td>\n",
       "    </tr>\n",
       "    <tr>\n",
       "      <th>8</th>\n",
       "      <td>977ff53e8650679587f99ee537c8b095</td>\n",
       "      <td>¿Qué debo tener en cuenta para levantar mi rep...</td>\n",
       "    </tr>\n",
       "    <tr>\n",
       "      <th>9</th>\n",
       "      <td>e118293c4450a72349aa684baa54f5eb</td>\n",
       "      <td>¿Puedo reportar fugas en unidades habitacionales?</td>\n",
       "    </tr>\n",
       "  </tbody>\n",
       "</table>\n",
       "</div>"
      ],
      "text/plain": [
       "                                 id  \\\n",
       "0  d7c4ce5eda85cd602edc71a3f29193e0   \n",
       "1  c6b1388a0227cae6d6045a1dc7dd82c5   \n",
       "2  b9e493259e0b9fb9f94e4f4d66ab8ded   \n",
       "3  5229ec6562607f2de830a7826a099964   \n",
       "4  9055d52c36234595f93430ca60610b82   \n",
       "5  34f49a09c09f373422893abead2bad4e   \n",
       "6  221e2b757cee67a9babd822666eae6b1   \n",
       "7  deb8c6e4cf607cabc9fd72178b45daae   \n",
       "8  977ff53e8650679587f99ee537c8b095   \n",
       "9  e118293c4450a72349aa684baa54f5eb   \n",
       "\n",
       "                                            pregunta  \n",
       "0            ¿Dónde puedo reportar una fuga de agua?  \n",
       "1  ¿Qué debo hacer si veo una fuga de agua en la ...  \n",
       "2  ¿Qué debo hacer si veo una fuga de agua en mi ...  \n",
       "3  ¿Qué debo hacer si mi consumo de agua parece h...  \n",
       "4  ¿Cuánto tiempo tarda en repararse una fuga de ...  \n",
       "5            ¿Dónde puedo reportar una fuga de agua?  \n",
       "6              ¿Cómo reportar fugas de agua en CDMX?  \n",
       "7              ¿Qué otro de reportes puedo realizar?  \n",
       "8  ¿Qué debo tener en cuenta para levantar mi rep...  \n",
       "9  ¿Puedo reportar fugas en unidades habitacionales?  "
      ]
     },
     "execution_count": 8,
     "metadata": {},
     "output_type": "execute_result"
    }
   ],
   "source": [
    "df_validation = df_question[:10]\n",
    "df_test = df_question[10:]\n",
    "df_validation"
   ]
  },
  {
   "cell_type": "code",
   "execution_count": 9,
   "metadata": {},
   "outputs": [],
   "source": [
    "text_fields = [\n",
    "    'id',\n",
    "    'pregunta',\n",
    "    'respuesta',\n",
    "    'document',\n",
    "]\n",
    "keyword_fields = ['id']\n",
    "index = load_index(\n",
    "    documents=documents,\n",
    "    text_fields=text_fields,\n",
    "    keyword_fields=keyword_fields\n",
    ")"
   ]
  },
  {
   "cell_type": "code",
   "execution_count": 16,
   "metadata": {},
   "outputs": [],
   "source": [
    "import random\n",
    "\n",
    "\n",
    "def simple_optimize(param_ranges, objective_function, n_iterations=10):\n",
    "    best_params = None\n",
    "    best_score = float('-inf')  # Asumiendo que estamos minimizando. Usamos float('-inf') si maximizamos.\n",
    "    # print(param_ranges.items())\n",
    "    for _ in range(n_iterations):\n",
    "        # Genera parametos aleatorios\n",
    "        current_params = {}\n",
    "        for param, (min_val, max_val) in param_ranges.items():\n",
    "            # print(param, (min_val, max_val))\n",
    "            if isinstance(min_val, float) and isinstance(max_val, float):\n",
    "                print(param, (min_val, max_val), random.randint(min_val, max_val))\n",
    "                current_params[param] = random.randint(min_val, max_val)\n",
    "            else:\n",
    "                current_params[param] = random.uniform(min_val, max_val)\n",
    "\n",
    "        # Evalua la función objetivo\n",
    "        current_score = objective_function(current_params)\n",
    "\n",
    "        # Actualiza si hay mejores valores\n",
    "        if current_score > best_score:  # Cambiar > en caso de maximizar\n",
    "            best_score = current_score\n",
    "            best_params = current_params\n",
    "\n",
    "    return best_params, best_score"
   ]
  },
  {
   "cell_type": "code",
   "execution_count": 11,
   "metadata": {},
   "outputs": [],
   "source": [
    "gt_val = df_validation.to_dict(orient='records')"
   ]
  },
  {
   "cell_type": "code",
   "execution_count": 12,
   "metadata": {},
   "outputs": [],
   "source": [
    "param_ranges = {\n",
    "    'pregunta': (0, 3),\n",
    "    'respuesta': (0, 3),\n",
    "}\n",
    "\n",
    "\n",
    "def objective(boost_params):\n",
    "    def search_function(q):\n",
    "        return minsearch_search(q['pregunta'], boost_params)\n",
    "\n",
    "    results = evaluate(gt_val, search_function)\n",
    "\n",
    "    return results['mrr']"
   ]
  },
  {
   "cell_type": "code",
   "execution_count": 17,
   "metadata": {},
   "outputs": [
    {
     "data": {
      "application/vnd.jupyter.widget-view+json": {
       "model_id": "e1366d654ed9417188642537ea64a7ec",
       "version_major": 2,
       "version_minor": 0
      },
      "text/plain": [
       "  0%|          | 0/10 [00:00<?, ?it/s]"
      ]
     },
     "metadata": {},
     "output_type": "display_data"
    },
    {
     "data": {
      "application/vnd.jupyter.widget-view+json": {
       "model_id": "9b4e0a8931ba419dbdb8002767f76779",
       "version_major": 2,
       "version_minor": 0
      },
      "text/plain": [
       "  0%|          | 0/10 [00:00<?, ?it/s]"
      ]
     },
     "metadata": {},
     "output_type": "display_data"
    },
    {
     "data": {
      "application/vnd.jupyter.widget-view+json": {
       "model_id": "cde9af6bedc748f6afb69eb1744856d3",
       "version_major": 2,
       "version_minor": 0
      },
      "text/plain": [
       "  0%|          | 0/10 [00:00<?, ?it/s]"
      ]
     },
     "metadata": {},
     "output_type": "display_data"
    },
    {
     "data": {
      "application/vnd.jupyter.widget-view+json": {
       "model_id": "c6dd6249c2eb4b539470f5e7c66a331a",
       "version_major": 2,
       "version_minor": 0
      },
      "text/plain": [
       "  0%|          | 0/10 [00:00<?, ?it/s]"
      ]
     },
     "metadata": {},
     "output_type": "display_data"
    },
    {
     "data": {
      "application/vnd.jupyter.widget-view+json": {
       "model_id": "5759ec8b31144ef899cfb31b6d5f9862",
       "version_major": 2,
       "version_minor": 0
      },
      "text/plain": [
       "  0%|          | 0/10 [00:00<?, ?it/s]"
      ]
     },
     "metadata": {},
     "output_type": "display_data"
    },
    {
     "data": {
      "application/vnd.jupyter.widget-view+json": {
       "model_id": "94924959542249c0ac62ddf2fab3a70d",
       "version_major": 2,
       "version_minor": 0
      },
      "text/plain": [
       "  0%|          | 0/10 [00:00<?, ?it/s]"
      ]
     },
     "metadata": {},
     "output_type": "display_data"
    },
    {
     "data": {
      "application/vnd.jupyter.widget-view+json": {
       "model_id": "b075286fb53a4224abae1e6ae5bb063f",
       "version_major": 2,
       "version_minor": 0
      },
      "text/plain": [
       "  0%|          | 0/10 [00:00<?, ?it/s]"
      ]
     },
     "metadata": {},
     "output_type": "display_data"
    },
    {
     "data": {
      "application/vnd.jupyter.widget-view+json": {
       "model_id": "f37fc81b58664303aa3c5e1bf7a3a6f9",
       "version_major": 2,
       "version_minor": 0
      },
      "text/plain": [
       "  0%|          | 0/10 [00:00<?, ?it/s]"
      ]
     },
     "metadata": {},
     "output_type": "display_data"
    },
    {
     "data": {
      "application/vnd.jupyter.widget-view+json": {
       "model_id": "2308cf265c2c45ddab323ef8f79b4895",
       "version_major": 2,
       "version_minor": 0
      },
      "text/plain": [
       "  0%|          | 0/10 [00:00<?, ?it/s]"
      ]
     },
     "metadata": {},
     "output_type": "display_data"
    },
    {
     "data": {
      "application/vnd.jupyter.widget-view+json": {
       "model_id": "20bd7b591fed4a51823f4ab6cd5691ba",
       "version_major": 2,
       "version_minor": 0
      },
      "text/plain": [
       "  0%|          | 0/10 [00:00<?, ?it/s]"
      ]
     },
     "metadata": {},
     "output_type": "display_data"
    },
    {
     "data": {
      "application/vnd.jupyter.widget-view+json": {
       "model_id": "cfcb26865f4644bd8a0a17385e44676e",
       "version_major": 2,
       "version_minor": 0
      },
      "text/plain": [
       "  0%|          | 0/10 [00:00<?, ?it/s]"
      ]
     },
     "metadata": {},
     "output_type": "display_data"
    },
    {
     "data": {
      "application/vnd.jupyter.widget-view+json": {
       "model_id": "0d287f229160440aac3ded66ae44ef17",
       "version_major": 2,
       "version_minor": 0
      },
      "text/plain": [
       "  0%|          | 0/10 [00:00<?, ?it/s]"
      ]
     },
     "metadata": {},
     "output_type": "display_data"
    },
    {
     "data": {
      "application/vnd.jupyter.widget-view+json": {
       "model_id": "0c5ff99aa1c645f49f96ed056a7b90a3",
       "version_major": 2,
       "version_minor": 0
      },
      "text/plain": [
       "  0%|          | 0/10 [00:00<?, ?it/s]"
      ]
     },
     "metadata": {},
     "output_type": "display_data"
    },
    {
     "data": {
      "application/vnd.jupyter.widget-view+json": {
       "model_id": "6778b196d64e461a8220f4306647d3b8",
       "version_major": 2,
       "version_minor": 0
      },
      "text/plain": [
       "  0%|          | 0/10 [00:00<?, ?it/s]"
      ]
     },
     "metadata": {},
     "output_type": "display_data"
    },
    {
     "data": {
      "application/vnd.jupyter.widget-view+json": {
       "model_id": "07d5b1d455fa49199e791f66b01ad957",
       "version_major": 2,
       "version_minor": 0
      },
      "text/plain": [
       "  0%|          | 0/10 [00:00<?, ?it/s]"
      ]
     },
     "metadata": {},
     "output_type": "display_data"
    },
    {
     "data": {
      "application/vnd.jupyter.widget-view+json": {
       "model_id": "fe7bb3dc4f9f473f8a0a8c45f35bf6c1",
       "version_major": 2,
       "version_minor": 0
      },
      "text/plain": [
       "  0%|          | 0/10 [00:00<?, ?it/s]"
      ]
     },
     "metadata": {},
     "output_type": "display_data"
    },
    {
     "data": {
      "application/vnd.jupyter.widget-view+json": {
       "model_id": "ec2e944b40ec419eb5ec14bd39ab54c6",
       "version_major": 2,
       "version_minor": 0
      },
      "text/plain": [
       "  0%|          | 0/10 [00:00<?, ?it/s]"
      ]
     },
     "metadata": {},
     "output_type": "display_data"
    },
    {
     "data": {
      "application/vnd.jupyter.widget-view+json": {
       "model_id": "20cfb7d9f5bb4b9899d51a08575ab722",
       "version_major": 2,
       "version_minor": 0
      },
      "text/plain": [
       "  0%|          | 0/10 [00:00<?, ?it/s]"
      ]
     },
     "metadata": {},
     "output_type": "display_data"
    },
    {
     "data": {
      "application/vnd.jupyter.widget-view+json": {
       "model_id": "30c6d70d106a47ba8a11bc5b7f929569",
       "version_major": 2,
       "version_minor": 0
      },
      "text/plain": [
       "  0%|          | 0/10 [00:00<?, ?it/s]"
      ]
     },
     "metadata": {},
     "output_type": "display_data"
    },
    {
     "data": {
      "application/vnd.jupyter.widget-view+json": {
       "model_id": "1faf6a594ebd4ab79b0ebe7faca78ba5",
       "version_major": 2,
       "version_minor": 0
      },
      "text/plain": [
       "  0%|          | 0/10 [00:00<?, ?it/s]"
      ]
     },
     "metadata": {},
     "output_type": "display_data"
    },
    {
     "data": {
      "text/plain": [
       "({'pregunta': 2.733889011355457, 'respuesta': 0.8747172772681867}, 0.95)"
      ]
     },
     "execution_count": 17,
     "metadata": {},
     "output_type": "execute_result"
    }
   ],
   "source": [
    "simple_optimize(param_ranges, objective, n_iterations=20)"
   ]
  },
  {
   "cell_type": "code",
   "execution_count": 18,
   "metadata": {},
   "outputs": [
    {
     "data": {
      "application/vnd.jupyter.widget-view+json": {
       "model_id": "ae735a00cd6d45749a8e42737f03a952",
       "version_major": 2,
       "version_minor": 0
      },
      "text/plain": [
       "  0%|          | 0/11 [00:00<?, ?it/s]"
      ]
     },
     "metadata": {},
     "output_type": "display_data"
    },
    {
     "data": {
      "text/plain": [
       "{'hit_rate': 1.0, 'mrr': 0.9545454545454546}"
      ]
     },
     "execution_count": 18,
     "metadata": {},
     "output_type": "execute_result"
    }
   ],
   "source": [
    "def minsearch_improved(\n",
    "        query,\n",
    "        boost=None\n",
    "):\n",
    "    # Set default boost values if not provided\n",
    "    if boost is None:\n",
    "        boost = {'pregunta': 2.733889011355457, 'respuesta': 0.8747172772681867}\n",
    "\n",
    "    # Perform the search using the query and boost settings\n",
    "    results = index.search(\n",
    "        query=query,\n",
    "        filter_dict={},\n",
    "        boost_dict=boost,\n",
    "        num_results=10\n",
    "    )\n",
    "\n",
    "    return results\n",
    "\n",
    "evaluate(ground_truth, lambda q: minsearch_improved(q['pregunta']))"
   ]
  }
 ],
 "metadata": {
  "kernelspec": {
   "display_name": "data_engineer",
   "language": "python",
   "name": "python3"
  },
  "language_info": {
   "codemirror_mode": {
    "name": "ipython",
    "version": 3
   },
   "file_extension": ".py",
   "mimetype": "text/x-python",
   "name": "python",
   "nbconvert_exporter": "python",
   "pygments_lexer": "ipython3",
   "version": "3.12.2"
  },
  "polyglot_notebook": {
   "kernelInfo": {
    "defaultKernelName": "csharp",
    "items": [
     {
      "aliases": [],
      "name": "csharp"
     }
    ]
   }
  }
 },
 "nbformat": 4,
 "nbformat_minor": 2
}
