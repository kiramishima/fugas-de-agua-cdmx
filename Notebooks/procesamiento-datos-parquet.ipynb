{
 "cells": [
  {
   "cell_type": "markdown",
   "metadata": {},
   "source": [
    "# Configuración Spark con Delta y AWS"
   ]
  },
  {
   "cell_type": "markdown",
   "metadata": {},
   "source": [
    "> Es necesario agregar paquetes externos a la instancia de Spark, ya que son necesarios para conectar con MinIO o el servicio de AWS S3.\n",
    "\n",
    "Ejemplo:\n",
    "```python\n",
    "builder = pyspark.sql.SparkSession.builder.appName(\"ETL_Fugas\") \\\n",
    "    .config(\"spark.sql.extensions\", \"io.delta.sql.DeltaSparkSessionExtension\") \\\n",
    "    .config(\"spark.sql.catalog.spark_catalog\", \"org.apache.spark.sql.delta.catalog.DeltaCatalog\") \\\n",
    "    .config(\"spark.hadoop.fs.s3a.endpoint\", \"http://minio_url:9000\") \\\n",
    "    .config(\"spark.hadoop.fs.s3a.access.key\", \"<access_key>\") \\\n",
    "    .config(\"spark.hadoop.fs.s3a.secret.key\", \"<secret_key>\") \\\n",
    "    .config(\"spark.hadoop.fs.s3a.path.style.access\", \"true\") \\\n",
    "    .config('spark.hadoop.fs.s3a.aws.credentials.provider', 'org.apache.hadoop.fs.s3a.SimpleAWSCredentialsProvider') \\\n",
    "    .config(\"fs.s3a.connection.ssl.enabled\", \"false\") \\\n",
    "    .config(\"spark.databricks.delta.retentionDurationCheck.enabled\", \"false\")\n",
    "```"
   ]
  },
  {
   "cell_type": "code",
   "execution_count": 2,
   "metadata": {},
   "outputs": [],
   "source": [
    "import pyspark\n",
    "from delta import *"
   ]
  },
  {
   "cell_type": "code",
   "execution_count": null,
   "metadata": {},
   "outputs": [],
   "source": [
    "builder = pyspark.sql.SparkSession.builder.appName(\"ETL_Fugas\") \\\n",
    "    .config(\"spark.sql.extensions\", \"io.delta.sql.DeltaSparkSessionExtension\") \\\n",
    "    .config(\"spark.sql.catalog.spark_catalog\", \"org.apache.spark.sql.delta.catalog.DeltaCatalog\") \\\n",
    "    .config(\"spark.hadoop.fs.s3a.endpoint\", \"http://localhost:9000\") \\\n",
    "    .config(\"spark.hadoop.fs.s3a.access.key\", \"GVTZ4kb69J0Gop6YaWSf\") \\\n",
    "    .config(\"spark.hadoop.fs.s3a.secret.key\", \"WDkCNivmHhMRrBPgOWRIHZSHb5iMNyzBJgSgFk4f\") \\\n",
    "    .config(\"spark.hadoop.fs.s3a.path.style.access\", \"true\") \\\n",
    "    .config('spark.hadoop.fs.s3a.aws.credentials.provider', 'org.apache.hadoop.fs.s3a.SimpleAWSCredentialsProvider') \\\n",
    "    .config(\"fs.s3a.connection.ssl.enabled\", \"false\") \\\n",
    "    .config(\"spark.databricks.delta.retentionDurationCheck.enabled\", \"false\")\n",
    "\n",
    "# Configuración de paquetes\n",
    "my_packages = [\"org.apache.hadoop:hadoop-aws:3.3.4\",\n",
    "            \"org.apache.hadoop:hadoop-client-runtime:3.3.4\",\n",
    "            \"org.apache.hadoop:hadoop-client-api:3.3.4\",\n",
    "            \"com.amazonaws:aws-java-sdk-bundle:1.12.779\",\n",
    "]\n",
    "\n",
    "# Creación de la sesión de spark\n",
    "spark = configure_spark_with_delta_pip(builder, extra_packages=my_packages).getOrCreate()"
   ]
  },
  {
   "cell_type": "code",
   "execution_count": 4,
   "metadata": {},
   "outputs": [
    {
     "name": "stdout",
     "output_type": "stream",
     "text": [
      "+---------------+------------------------+---------------+-------------+------------+-------------+-------------+--------------------+-----------------+--------------------+------------------+------------------+\n",
      "|          folio|fecha_registro_incidente|     id_reporte|fecha_reporte|hora_reporte|clasificacion|tipo_de_falla|     medio_recepcion|alcaldia_catalogo|    colonia_catalogo|           latitud|          longitud|\n",
      "+---------------+------------------------+---------------+-------------+------------+-------------+-------------+--------------------+-----------------+--------------------+------------------+------------------+\n",
      "|I-20220101-0001|              2022-01-02|R-20220101-0105|   2022-01-01|    18:33:08| Agua Potable|         Fuga|Ciudadano (Call C...|         Coyoacán|Cuadrante De San ...|19.341799572539976| -99.1682732538209|\n",
      "|I-20220101-0003|              2022-01-02|R-20220101-0103|   2022-01-01|    18:12:39| Agua Potable|         Fuga|Ciudadano (Call C...|          Tláhuac|Barrio Santiago N...|        19.3005139|       -99.0302869|\n",
      "|I-20220101-0004|              2022-01-02|R-20220101-0108|   2022-01-01|    19:01:39| Agua Potable|         Fuga|Ciudadano (Call C...|               NA|                  NA|        19.5438901|-99.15496999999999|\n",
      "|I-20220101-0006|              2022-01-02|R-20220101-0111|   2022-01-01|    19:10:41| Agua Potable|         Fuga|Ciudadano (Call C...|   Álvaro Obregón|             Florida|        19.3607533|       -99.1799217|\n",
      "|I-20220101-0008|              2022-01-02|R-20221204-0151|   2022-12-04|    17:51:20| Agua Potable|         Fuga|Ciudadano (Call C...|          Tlalpan|Miguel Hidalgo 4a...|19.273898646080504|-99.20703643705711|\n",
      "|I-20220101-0008|              2022-01-02|R-20220101-0104|   2022-01-01|    18:13:24| Agua Potable|         Fuga|Ciudadano (Call C...|          Tlalpan|Miguel Hidalgo 4a...|19.273898646080504|-99.20703643705711|\n",
      "|I-20220101-0009|              2022-01-02|R-20220101-0112|   2022-01-01|    19:13:08| Agua Potable|         Fuga|Ciudadano (Call C...|          Tlalpan|   Barrio El Capulin| 19.28256755679879|-99.19231617558489|\n",
      "|I-20220101-0010|              2022-01-02|R-20220101-0102|   2022-01-01|    18:11:18| Agua Potable|         Fuga|Ciudadano (Call C...|Gustavo A. Madero|Residencial Zacat...|        19.5003422|-99.12569959999999|\n",
      "|I-20220101-0011|              2022-01-02|R-20220101-0101|   2022-01-01|    18:05:26| Agua Potable|         Fuga|Ciudadano (Call C...|          Tlalpan|Miguel Hidalgo 2a...| 19.27970160107543| -99.1955672701364|\n",
      "|I-20220101-0011|              2022-01-02|R-20220101-0046|   2022-01-01|    12:32:11| Agua Potable|         Fuga|Ciudadano (Call C...|          Tlalpan|Miguel Hidalgo 2a...| 19.27970160107543| -99.1955672701364|\n",
      "|I-20220101-0013|              2022-01-02|R-20220101-0099|   2022-01-01|    17:58:37| Agua Potable|         Fuga|Ciudadano (Call C...|          Tlalpan|Ampliacion Fuente...|        19.3047887|       -99.2075514|\n",
      "|I-20220101-0015|              2022-01-02|R-20220101-0097|   2022-01-01|    17:54:49| Agua Potable|         Fuga|Ciudadano (Call C...|Gustavo A. Madero| Chalma De Guadalupe|        19.5499238|       -99.1468336|\n",
      "|I-20220101-0017|              2022-01-02|R-20220101-0113|   2022-01-01|    19:18:00| Agua Potable|         Fuga|Ciudadano (Call C...|   Miguel Hidalgo|      Reforma Social|19.431204239525375|-99.21572687448915|\n",
      "|I-20220101-0019|              2022-01-02|R-20220101-0114|   2022-01-01|    19:28:03| Agua Potable|         Fuga|Ciudadano (Call C...|   Miguel Hidalgo|Lomas De Chapulte...|         19.420738|       -99.2122158|\n",
      "|I-20220101-0021|              2022-01-02|R-20220101-0067|   2022-01-01|    14:04:01| Agua Potable|         Fuga|Ciudadano (Call C...|Gustavo A. Madero| Chalma De Guadalupe|19.552268341892827|-99.15106415748596|\n",
      "|I-20220101-0021|              2022-01-02|R-20220101-0025|   2022-01-01|    11:04:13| Agua Potable|         Fuga|Ciudadano (Call C...|Gustavo A. Madero| Chalma De Guadalupe|19.552268341892827|-99.15106415748596|\n",
      "|I-20220101-0021|              2022-01-02|R-20220101-0072|   2022-01-01|    14:25:55| Agua Potable|         Fuga|Ciudadano (Call C...|Gustavo A. Madero| Chalma De Guadalupe|19.552268341892827|-99.15106415748596|\n",
      "|I-20220101-0021|              2022-01-02|R-20220101-0117|   2022-01-01|    19:48:23| Agua Potable|         Fuga|Ciudadano (Call C...|Gustavo A. Madero| Chalma De Guadalupe|19.552268341892827|-99.15106415748596|\n",
      "|I-20220101-0022|              2022-01-02|R-20220101-0109|   2022-01-01|    19:05:18| Agua Potable|         Fuga|Ciudadano (Call C...|          Tlalpan|Pedregal De San N...| 19.27752425113109|-99.23216342756241|\n",
      "|I-20220101-0027|              2022-01-02|R-20220101-0094|   2022-01-01|    17:35:34| Agua Potable|         Fuga|Ciudadano (Call C...|   Álvaro Obregón|   Torres De Potrero| 19.32782882601293|-99.25656068955217|\n",
      "+---------------+------------------------+---------------+-------------+------------+-------------+-------------+--------------------+-----------------+--------------------+------------------+------------------+\n",
      "only showing top 20 rows\n",
      "\n"
     ]
    }
   ],
   "source": [
    "spark.sparkContext.setLogLevel(\"DEBUG\")\n",
    "\n",
    "try:\n",
    "    # Leer el archivo\n",
    "    df = spark.read.format(\"parquet\").load(\"s3a://cero-fugas/reportes_agua_2024_01.parquet\")\n",
    "    df.show()\n",
    "except Exception as e:\n",
    "    print(f\"Error al leer el archivo: {e}\")\n",
    "    import traceback\n",
    "    traceback.print_exc()"
   ]
  },
  {
   "cell_type": "code",
   "execution_count": 6,
   "metadata": {},
   "outputs": [
    {
     "name": "stdout",
     "output_type": "stream",
     "text": [
      "root\n",
      " |-- folio: string (nullable = true)\n",
      " |-- fecha_registro_incidente: date (nullable = true)\n",
      " |-- id_reporte: string (nullable = true)\n",
      " |-- fecha_reporte: date (nullable = true)\n",
      " |-- hora_reporte: string (nullable = true)\n",
      " |-- clasificacion: string (nullable = true)\n",
      " |-- tipo_de_falla: string (nullable = true)\n",
      " |-- medio_recepcion: string (nullable = true)\n",
      " |-- alcaldia_catalogo: string (nullable = true)\n",
      " |-- colonia_catalogo: string (nullable = true)\n",
      " |-- latitud: double (nullable = true)\n",
      " |-- longitud: double (nullable = true)\n",
      "\n"
     ]
    }
   ],
   "source": [
    "df.printSchema()"
   ]
  },
  {
   "cell_type": "code",
   "execution_count": null,
   "metadata": {},
   "outputs": [],
   "source": [
    "# Convertimos a Delta y Particionamos los datos por fecha_reporte y alcaldia\n",
    "df.write \\\n",
    "    .partitionBy(\"fecha_reporte\", \"alcaldia_catalogo\") \\\n",
    "    .format(\"delta\").save(\"s3a://cero-fugas/delta-tables\")"
   ]
  },
  {
   "cell_type": "markdown",
   "metadata": {},
   "source": [
    "# Carga de datos del historico"
   ]
  },
  {
   "cell_type": "code",
   "execution_count": 10,
   "metadata": {},
   "outputs": [
    {
     "name": "stdout",
     "output_type": "stream",
     "text": [
      "+-------------+-------------+-----------------+----------+-----------+-------------+----------+-----------------------+----------------------+-----------------+\n",
      "|        folio|tipo_de_falla|    quien_atiende|   latitud|   longitud|codigo_postal|     fecha|colonia_registro_sacmex|colonia_datos_abiertos|         alcaldia|\n",
      "+-------------+-------------+-----------------+----------+-----------+-------------+----------+-----------------------+----------------------+-----------------+\n",
      "|20210107-0129|         Fuga|         TlÃ¡huac|19.3101922|-99.0477861|         NULL|2021-01-07|      Ciudad de MÃ©xico|         LAS ARBOLEDAS|          TLAHUAC|\n",
      "|20210101-0008|         Fuga|       Iztapalapa|19.3706151| -99.030413|         9239|2021-01-01|      Ciudad de MÃ©xico|  EJERCITO DE ORIEN...|       IZTAPALAPA|\n",
      "|20210101-0020|         Fuga| Ãlvaro ObregÃ³n|19.3758572|-99.2338191|         NULL|2021-01-01|      Ciudad de MÃ©xico|  2DA  JALALPA TEPI...|   ALVARO OBREGON|\n",
      "|20210101-0048|         Fuga| Ãlvaro ObregÃ³n|19.3884329|  -99.20185|         1150|2021-01-01|     Colonia Cristo Rey|            CRISTO REY|   ALVARO OBREGON|\n",
      "|20210101-0049|         Fuga|     Azcapotzalco|19.4737587| -99.176527|         2060|2021-01-01|   Un Hogar Para Cad...|  UN HOGAR PARA CAD...|     AZCAPOTZALCO|\n",
      "|20210101-0062|         Fuga|       Xochimilco|19.2463002|-99.0830958|        16443|2021-01-01|      Ciudad de MÃ©xico|  SANTA CRUZ ACALPI...|       XOCHIMILCO|\n",
      "|20210101-0066|         Fuga|   Benito JuÃ¡rez|19.4752421|-99.1765245|         2060|2021-01-01|      Ciudad de MÃ©xico|  SINDICATO MEXICAN...|     AZCAPOTZALCO|\n",
      "|20210101-0077|         Fuga| Ãlvaro ObregÃ³n|19.3879678| -99.201665|         NULL|2021-01-01|      Ciudad de MÃ©xico|          1RA VICTORIA|   ALVARO OBREGON|\n",
      "|20210102-0004|         Fuga|     Azcapotzalco|19.4662973|-99.1453733|         2990|2021-01-02|                La Raza|               LA RAZA|     AZCAPOTZALCO|\n",
      "|20210102-0006|         Fuga|Gustavo A. Madero|19.4549747|-99.0536212|         7990|2021-01-02|   AmpliaciÃ³n San J...|      C T M ARAGON (U)|GUSTAVO A. MADERO|\n",
      "|20210102-0007|         Fuga|Gustavo A. Madero|19.4750546|-99.1272944|         7800|2021-01-02|             Industrial|         INDUSTRIAL II|GUSTAVO A. MADERO|\n",
      "|20210102-0008|         Fuga|Gustavo A. Madero|19.4959893|-99.0824627|         NULL|2021-01-02|      Ciudad de MÃ©xico|           25 DE JULIO|GUSTAVO A. MADERO|\n",
      "|20210102-0009|         Fuga|Gustavo A. Madero|19.4923421|-99.1205701|         NULL|2021-01-02|      Ciudad de MÃ©xico|         LINDAVISTA II|GUSTAVO A. MADERO|\n",
      "|20210102-0011|         Fuga|Gustavo A. Madero|19.4741202|-99.1275379|         7800|2021-01-02|      Ciudad de MÃ©xico|         INDUSTRIAL II|GUSTAVO A. MADERO|\n",
      "|20210102-0013|         Fuga|Gustavo A. Madero|19.4790402|-99.1434078|         7770|2021-01-02|           Panamericana|          PANAMERICANA|GUSTAVO A. MADERO|\n",
      "|20210102-0017|         Fuga|       Xochimilco|19.2514436|-99.0557886|        16600|2021-01-02|      Ciudad de MÃ©xico|  SAN GREGORIO ATLA...|       XOCHIMILCO|\n",
      "|20210102-0019|         Fuga|Gustavo A. Madero|19.4966739|-99.0819653|         NULL|2021-01-02|      Ciudad de MÃ©xico|           25 DE JULIO|GUSTAVO A. MADERO|\n",
      "|20210102-0020|         Fuga|Gustavo A. Madero|19.4484976|-99.0587735|         7900|2021-01-02|    Cuchilla del Tesoro|   CUCHILLA DEL TESORO|GUSTAVO A. MADERO|\n",
      "|20210102-0023|         Fuga|     Azcapotzalco|19.4878102|-99.1865794|         NULL|2021-01-02|       Nuevo San Rafael|  NUEVO SAN RAFAEL ...|     AZCAPOTZALCO|\n",
      "|20210102-0027|         Fuga|Gustavo A. Madero|19.4721793|-99.0635719|         7509|2021-01-02|    Pradera II SecciÃ³n|  LA PRADERA II (U ...|GUSTAVO A. MADERO|\n",
      "+-------------+-------------+-----------------+----------+-----------+-------------+----------+-----------------------+----------------------+-----------------+\n",
      "only showing top 20 rows\n",
      "\n"
     ]
    }
   ],
   "source": [
    "spark.sparkContext.setLogLevel(\"DEBUG\")\n",
    "\n",
    "try:\n",
    "    # Leer el archivo\n",
    "    df_hist = spark.read.format(\"parquet\").load(\"s3a://cero-fugas/reportes_agua_hist.parquet\")\n",
    "    df_hist.show()\n",
    "except Exception as e:\n",
    "    print(f\"Error al leer el archivo: {e}\")\n",
    "    import traceback\n",
    "    traceback.print_exc()"
   ]
  },
  {
   "cell_type": "code",
   "execution_count": 11,
   "metadata": {},
   "outputs": [
    {
     "name": "stdout",
     "output_type": "stream",
     "text": [
      "root\n",
      " |-- folio: string (nullable = true)\n",
      " |-- tipo_de_falla: string (nullable = true)\n",
      " |-- quien_atiende: string (nullable = true)\n",
      " |-- latitud: double (nullable = true)\n",
      " |-- longitud: double (nullable = true)\n",
      " |-- codigo_postal: short (nullable = true)\n",
      " |-- fecha: date (nullable = true)\n",
      " |-- colonia_registro_sacmex: string (nullable = true)\n",
      " |-- colonia_datos_abiertos: string (nullable = true)\n",
      " |-- alcaldia: string (nullable = true)\n",
      "\n"
     ]
    }
   ],
   "source": [
    "df_hist.printSchema()"
   ]
  },
  {
   "cell_type": "markdown",
   "metadata": {},
   "source": [
    "# Unión Datos y Delta"
   ]
  },
  {
   "cell_type": "code",
   "execution_count": 19,
   "metadata": {},
   "outputs": [],
   "source": [
    "df.createOrReplaceTempView(\"fugas_actual\")"
   ]
  },
  {
   "cell_type": "code",
   "execution_count": 20,
   "metadata": {},
   "outputs": [],
   "source": [
    "res = spark.sql(\"\"\"\n",
    "    SELECT folio, fecha_registro_incidente, id_reporte, fecha_reporte, hora_reporte, clasificacion, tipo_de_falla, medio_recepcion,\n",
    "            UPPER(alcaldia_catalogo) AS alcaldia_catalogo, UPPER(colonia_catalogo) AS colonia_catalogo, latitud, longitud\n",
    "    FROM fugas_actual\n",
    "\"\"\")"
   ]
  },
  {
   "cell_type": "code",
   "execution_count": 21,
   "metadata": {},
   "outputs": [
    {
     "name": "stdout",
     "output_type": "stream",
     "text": [
      "+---------------+------------------------+---------------+-------------+------------+-------------+-------------+--------------------+-----------------+--------------------+------------------+------------------+\n",
      "|          folio|fecha_registro_incidente|     id_reporte|fecha_reporte|hora_reporte|clasificacion|tipo_de_falla|     medio_recepcion|alcaldia_catalogo|    colonia_catalogo|           latitud|          longitud|\n",
      "+---------------+------------------------+---------------+-------------+------------+-------------+-------------+--------------------+-----------------+--------------------+------------------+------------------+\n",
      "|I-20220101-0001|              2022-01-02|R-20220101-0105|   2022-01-01|    18:33:08| Agua Potable|         Fuga|Ciudadano (Call C...|         COYOACÁN|CUADRANTE DE SAN ...|19.341799572539976| -99.1682732538209|\n",
      "|I-20220101-0003|              2022-01-02|R-20220101-0103|   2022-01-01|    18:12:39| Agua Potable|         Fuga|Ciudadano (Call C...|          TLÁHUAC|BARRIO SANTIAGO N...|        19.3005139|       -99.0302869|\n",
      "|I-20220101-0004|              2022-01-02|R-20220101-0108|   2022-01-01|    19:01:39| Agua Potable|         Fuga|Ciudadano (Call C...|               NA|                  NA|        19.5438901|-99.15496999999999|\n",
      "|I-20220101-0006|              2022-01-02|R-20220101-0111|   2022-01-01|    19:10:41| Agua Potable|         Fuga|Ciudadano (Call C...|   ÁLVARO OBREGÓN|             FLORIDA|        19.3607533|       -99.1799217|\n",
      "|I-20220101-0008|              2022-01-02|R-20221204-0151|   2022-12-04|    17:51:20| Agua Potable|         Fuga|Ciudadano (Call C...|          TLALPAN|MIGUEL HIDALGO 4A...|19.273898646080504|-99.20703643705711|\n",
      "|I-20220101-0008|              2022-01-02|R-20220101-0104|   2022-01-01|    18:13:24| Agua Potable|         Fuga|Ciudadano (Call C...|          TLALPAN|MIGUEL HIDALGO 4A...|19.273898646080504|-99.20703643705711|\n",
      "|I-20220101-0009|              2022-01-02|R-20220101-0112|   2022-01-01|    19:13:08| Agua Potable|         Fuga|Ciudadano (Call C...|          TLALPAN|   BARRIO EL CAPULIN| 19.28256755679879|-99.19231617558489|\n",
      "|I-20220101-0010|              2022-01-02|R-20220101-0102|   2022-01-01|    18:11:18| Agua Potable|         Fuga|Ciudadano (Call C...|GUSTAVO A. MADERO|RESIDENCIAL ZACAT...|        19.5003422|-99.12569959999999|\n",
      "|I-20220101-0011|              2022-01-02|R-20220101-0101|   2022-01-01|    18:05:26| Agua Potable|         Fuga|Ciudadano (Call C...|          TLALPAN|MIGUEL HIDALGO 2A...| 19.27970160107543| -99.1955672701364|\n",
      "|I-20220101-0011|              2022-01-02|R-20220101-0046|   2022-01-01|    12:32:11| Agua Potable|         Fuga|Ciudadano (Call C...|          TLALPAN|MIGUEL HIDALGO 2A...| 19.27970160107543| -99.1955672701364|\n",
      "|I-20220101-0013|              2022-01-02|R-20220101-0099|   2022-01-01|    17:58:37| Agua Potable|         Fuga|Ciudadano (Call C...|          TLALPAN|AMPLIACION FUENTE...|        19.3047887|       -99.2075514|\n",
      "|I-20220101-0015|              2022-01-02|R-20220101-0097|   2022-01-01|    17:54:49| Agua Potable|         Fuga|Ciudadano (Call C...|GUSTAVO A. MADERO| CHALMA DE GUADALUPE|        19.5499238|       -99.1468336|\n",
      "|I-20220101-0017|              2022-01-02|R-20220101-0113|   2022-01-01|    19:18:00| Agua Potable|         Fuga|Ciudadano (Call C...|   MIGUEL HIDALGO|      REFORMA SOCIAL|19.431204239525375|-99.21572687448915|\n",
      "|I-20220101-0019|              2022-01-02|R-20220101-0114|   2022-01-01|    19:28:03| Agua Potable|         Fuga|Ciudadano (Call C...|   MIGUEL HIDALGO|LOMAS DE CHAPULTE...|         19.420738|       -99.2122158|\n",
      "|I-20220101-0021|              2022-01-02|R-20220101-0067|   2022-01-01|    14:04:01| Agua Potable|         Fuga|Ciudadano (Call C...|GUSTAVO A. MADERO| CHALMA DE GUADALUPE|19.552268341892827|-99.15106415748596|\n",
      "|I-20220101-0021|              2022-01-02|R-20220101-0025|   2022-01-01|    11:04:13| Agua Potable|         Fuga|Ciudadano (Call C...|GUSTAVO A. MADERO| CHALMA DE GUADALUPE|19.552268341892827|-99.15106415748596|\n",
      "|I-20220101-0021|              2022-01-02|R-20220101-0072|   2022-01-01|    14:25:55| Agua Potable|         Fuga|Ciudadano (Call C...|GUSTAVO A. MADERO| CHALMA DE GUADALUPE|19.552268341892827|-99.15106415748596|\n",
      "|I-20220101-0021|              2022-01-02|R-20220101-0117|   2022-01-01|    19:48:23| Agua Potable|         Fuga|Ciudadano (Call C...|GUSTAVO A. MADERO| CHALMA DE GUADALUPE|19.552268341892827|-99.15106415748596|\n",
      "|I-20220101-0022|              2022-01-02|R-20220101-0109|   2022-01-01|    19:05:18| Agua Potable|         Fuga|Ciudadano (Call C...|          TLALPAN|PEDREGAL DE SAN N...| 19.27752425113109|-99.23216342756241|\n",
      "|I-20220101-0027|              2022-01-02|R-20220101-0094|   2022-01-01|    17:35:34| Agua Potable|         Fuga|Ciudadano (Call C...|   ÁLVARO OBREGÓN|   TORRES DE POTRERO| 19.32782882601293|-99.25656068955217|\n",
      "+---------------+------------------------+---------------+-------------+------------+-------------+-------------+--------------------+-----------------+--------------------+------------------+------------------+\n",
      "only showing top 20 rows\n",
      "\n"
     ]
    }
   ],
   "source": [
    "res.show()"
   ]
  },
  {
   "cell_type": "code",
   "execution_count": 22,
   "metadata": {},
   "outputs": [],
   "source": [
    "res.createTempView(\"fugas_actual_convertido\")"
   ]
  },
  {
   "cell_type": "code",
   "execution_count": null,
   "metadata": {},
   "outputs": [],
   "source": [
    "# Creamos la tabla temporal\n",
    "df_hist.createTempView(\"fugas_historico\")"
   ]
  },
  {
   "cell_type": "code",
   "execution_count": 28,
   "metadata": {},
   "outputs": [],
   "source": [
    "results = spark.sql(\"\"\"SELECT folio, NULL AS fecha_registro_incidente, 'NA' AS id_reporte, fecha AS fecha_reporte, 'NA' AS hora_reporte, \n",
    "        'Agua Potable' AS clasificacion, tipo_de_falla, 'Ciudadano (Call Center)' AS medio_recepcion, UPPER(alcaldia) AS alcaldia_catalogo,\n",
    "        UPPER(colonia_datos_abiertos) AS colonia_catalogo, latitud, longitud\n",
    "        FROM fugas_historico\"\"\")"
   ]
  },
  {
   "cell_type": "code",
   "execution_count": 29,
   "metadata": {},
   "outputs": [
    {
     "name": "stdout",
     "output_type": "stream",
     "text": [
      "+-------------+------------------------+----------+-------------+------------+-------------+-------------+--------------------+-----------------+--------------------+----------+-----------+\n",
      "|        folio|fecha_registro_incidente|id_reporte|fecha_reporte|hora_reporte|clasificacion|tipo_de_falla|     medio_recepcion|alcaldia_catalogo|    colonia_catalogo|   latitud|   longitud|\n",
      "+-------------+------------------------+----------+-------------+------------+-------------+-------------+--------------------+-----------------+--------------------+----------+-----------+\n",
      "|20210107-0129|                    NULL|        NA|   2021-01-07|          NA| Agua Potable|         Fuga|Ciudadano (Call C...|          TLAHUAC|       LAS ARBOLEDAS|19.3101922|-99.0477861|\n",
      "|20210101-0008|                    NULL|        NA|   2021-01-01|          NA| Agua Potable|         Fuga|Ciudadano (Call C...|       IZTAPALAPA|EJERCITO DE ORIEN...|19.3706151| -99.030413|\n",
      "|20210101-0020|                    NULL|        NA|   2021-01-01|          NA| Agua Potable|         Fuga|Ciudadano (Call C...|   ALVARO OBREGON|2DA  JALALPA TEPI...|19.3758572|-99.2338191|\n",
      "|20210101-0048|                    NULL|        NA|   2021-01-01|          NA| Agua Potable|         Fuga|Ciudadano (Call C...|   ALVARO OBREGON|          CRISTO REY|19.3884329|  -99.20185|\n",
      "|20210101-0049|                    NULL|        NA|   2021-01-01|          NA| Agua Potable|         Fuga|Ciudadano (Call C...|     AZCAPOTZALCO|UN HOGAR PARA CAD...|19.4737587| -99.176527|\n",
      "|20210101-0062|                    NULL|        NA|   2021-01-01|          NA| Agua Potable|         Fuga|Ciudadano (Call C...|       XOCHIMILCO|SANTA CRUZ ACALPI...|19.2463002|-99.0830958|\n",
      "|20210101-0066|                    NULL|        NA|   2021-01-01|          NA| Agua Potable|         Fuga|Ciudadano (Call C...|     AZCAPOTZALCO|SINDICATO MEXICAN...|19.4752421|-99.1765245|\n",
      "|20210101-0077|                    NULL|        NA|   2021-01-01|          NA| Agua Potable|         Fuga|Ciudadano (Call C...|   ALVARO OBREGON|        1RA VICTORIA|19.3879678| -99.201665|\n",
      "|20210102-0004|                    NULL|        NA|   2021-01-02|          NA| Agua Potable|         Fuga|Ciudadano (Call C...|     AZCAPOTZALCO|             LA RAZA|19.4662973|-99.1453733|\n",
      "|20210102-0006|                    NULL|        NA|   2021-01-02|          NA| Agua Potable|         Fuga|Ciudadano (Call C...|GUSTAVO A. MADERO|    C T M ARAGON (U)|19.4549747|-99.0536212|\n",
      "|20210102-0007|                    NULL|        NA|   2021-01-02|          NA| Agua Potable|         Fuga|Ciudadano (Call C...|GUSTAVO A. MADERO|       INDUSTRIAL II|19.4750546|-99.1272944|\n",
      "|20210102-0008|                    NULL|        NA|   2021-01-02|          NA| Agua Potable|         Fuga|Ciudadano (Call C...|GUSTAVO A. MADERO|         25 DE JULIO|19.4959893|-99.0824627|\n",
      "|20210102-0009|                    NULL|        NA|   2021-01-02|          NA| Agua Potable|         Fuga|Ciudadano (Call C...|GUSTAVO A. MADERO|       LINDAVISTA II|19.4923421|-99.1205701|\n",
      "|20210102-0011|                    NULL|        NA|   2021-01-02|          NA| Agua Potable|         Fuga|Ciudadano (Call C...|GUSTAVO A. MADERO|       INDUSTRIAL II|19.4741202|-99.1275379|\n",
      "|20210102-0013|                    NULL|        NA|   2021-01-02|          NA| Agua Potable|         Fuga|Ciudadano (Call C...|GUSTAVO A. MADERO|        PANAMERICANA|19.4790402|-99.1434078|\n",
      "|20210102-0017|                    NULL|        NA|   2021-01-02|          NA| Agua Potable|         Fuga|Ciudadano (Call C...|       XOCHIMILCO|SAN GREGORIO ATLA...|19.2514436|-99.0557886|\n",
      "|20210102-0019|                    NULL|        NA|   2021-01-02|          NA| Agua Potable|         Fuga|Ciudadano (Call C...|GUSTAVO A. MADERO|         25 DE JULIO|19.4966739|-99.0819653|\n",
      "|20210102-0020|                    NULL|        NA|   2021-01-02|          NA| Agua Potable|         Fuga|Ciudadano (Call C...|GUSTAVO A. MADERO| CUCHILLA DEL TESORO|19.4484976|-99.0587735|\n",
      "|20210102-0023|                    NULL|        NA|   2021-01-02|          NA| Agua Potable|         Fuga|Ciudadano (Call C...|     AZCAPOTZALCO|NUEVO SAN RAFAEL ...|19.4878102|-99.1865794|\n",
      "|20210102-0027|                    NULL|        NA|   2021-01-02|          NA| Agua Potable|         Fuga|Ciudadano (Call C...|GUSTAVO A. MADERO|LA PRADERA II (U ...|19.4721793|-99.0635719|\n",
      "+-------------+------------------------+----------+-------------+------------+-------------+-------------+--------------------+-----------------+--------------------+----------+-----------+\n",
      "only showing top 20 rows\n",
      "\n"
     ]
    }
   ],
   "source": [
    "results.show()"
   ]
  },
  {
   "cell_type": "code",
   "execution_count": 30,
   "metadata": {},
   "outputs": [],
   "source": [
    "results.createOrReplaceTempView(\"fugas_hist_convertido\")"
   ]
  },
  {
   "cell_type": "code",
   "execution_count": 31,
   "metadata": {},
   "outputs": [
    {
     "name": "stdout",
     "output_type": "stream",
     "text": [
      "+--------------------+---------+-------+\n",
      "|            col_name|data_type|comment|\n",
      "+--------------------+---------+-------+\n",
      "|               folio|   string|   NULL|\n",
      "|fecha_registro_in...|     void|   NULL|\n",
      "|          id_reporte|   string|   NULL|\n",
      "|       fecha_reporte|     date|   NULL|\n",
      "|        hora_reporte|   string|   NULL|\n",
      "|       clasificacion|   string|   NULL|\n",
      "|       tipo_de_falla|   string|   NULL|\n",
      "|     medio_recepcion|   string|   NULL|\n",
      "|   alcaldia_catalogo|   string|   NULL|\n",
      "|    colonia_catalogo|   string|   NULL|\n",
      "|             latitud|   double|   NULL|\n",
      "|            longitud|   double|   NULL|\n",
      "+--------------------+---------+-------+\n",
      "\n"
     ]
    }
   ],
   "source": [
    "# Revisar el schema\n",
    "spark.sql(\"DESCRIBE fugas_hist_convertido\").show()"
   ]
  },
  {
   "cell_type": "code",
   "execution_count": 32,
   "metadata": {},
   "outputs": [
    {
     "name": "stdout",
     "output_type": "stream",
     "text": [
      "+--------------------+---------+-------+\n",
      "|            col_name|data_type|comment|\n",
      "+--------------------+---------+-------+\n",
      "|               folio|   string|   NULL|\n",
      "|fecha_registro_in...|     date|   NULL|\n",
      "|          id_reporte|   string|   NULL|\n",
      "|       fecha_reporte|     date|   NULL|\n",
      "|        hora_reporte|   string|   NULL|\n",
      "|       clasificacion|   string|   NULL|\n",
      "|       tipo_de_falla|   string|   NULL|\n",
      "|     medio_recepcion|   string|   NULL|\n",
      "|   alcaldia_catalogo|   string|   NULL|\n",
      "|    colonia_catalogo|   string|   NULL|\n",
      "|             latitud|   double|   NULL|\n",
      "|            longitud|   double|   NULL|\n",
      "+--------------------+---------+-------+\n",
      "\n"
     ]
    }
   ],
   "source": [
    "spark.sql(\"DESCRIBE fugas_actual_convertido\").show()"
   ]
  },
  {
   "cell_type": "code",
   "execution_count": 33,
   "metadata": {},
   "outputs": [],
   "source": [
    "# Uniendo los datos\n",
    "result_2 = spark.sql(\"\"\"\n",
    "    SELECT folio, fecha_registro_incidente, id_reporte, fecha_reporte, hora_reporte, clasificacion, tipo_de_falla, medio_recepcion, \n",
    "        alcaldia_catalogo, colonia_catalogo, latitud, longitud\n",
    "    FROM fugas_hist_convertido\n",
    "    UNION\n",
    "    SELECT folio, fecha_registro_incidente, id_reporte, fecha_reporte, hora_reporte, clasificacion, tipo_de_falla, medio_recepcion,\n",
    "            alcaldia_catalogo, colonia_catalogo, latitud, longitud\n",
    "    FROM fugas_actual_convertido\n",
    "\"\"\")"
   ]
  },
  {
   "cell_type": "code",
   "execution_count": 34,
   "metadata": {},
   "outputs": [
    {
     "name": "stdout",
     "output_type": "stream",
     "text": [
      "+---------------+------------------------+---------------+-------------+------------+-------------+-------------+--------------------+-----------------+--------------------+------------------+------------------+\n",
      "|          folio|fecha_registro_incidente|     id_reporte|fecha_reporte|hora_reporte|clasificacion|tipo_de_falla|     medio_recepcion|alcaldia_catalogo|    colonia_catalogo|           latitud|          longitud|\n",
      "+---------------+------------------------+---------------+-------------+------------+-------------+-------------+--------------------+-----------------+--------------------+------------------+------------------+\n",
      "|I-20220101-0021|              2022-01-02|R-20220101-0025|   2022-01-01|    11:04:13| Agua Potable|         Fuga|Ciudadano (Call C...|GUSTAVO A. MADERO| CHALMA DE GUADALUPE|19.552268341892827|-99.15106415748596|\n",
      "|I-20220103-0083|              2022-01-03|R-20220105-0320|   2022-01-05|    14:18:19| Agua Potable|         Fuga|Redes Sociales (T...|        IZTACALCO|     VIADUCTO PIEDAD|19.403165566186388|-99.13555031960206|\n",
      "|I-20220104-0025|              2022-01-04|R-20220909-0071|   2022-09-09|    09:08:07| Agua Potable|         Fuga|Redes Sociales (T...|          TLALPAN|  HEROES DE PADIERNA|19.278977508752874|-99.21831250190736|\n",
      "|I-20220106-0306|              2022-01-06|R-20220103-0032|   2022-01-03|    10:24:43| Agua Potable|         Fuga|Ciudadano (Call C...|GUSTAVO A. MADERO|      LINDAVISTA SUR|        19.4921232|       -99.1372956|\n",
      "|I-20220107-0022|              2022-01-07|R-20220107-0028|   2022-01-07|    08:21:42| Agua Potable|         Fuga|Ciudadano (Call C...|       IZTAPALAPA|DESARROLLO URBANO...|19.322888160310924| -99.0422632991034|\n",
      "|I-20220107-0088|              2022-01-07|R-20220107-0109|   2022-01-07|    10:09:56| Agua Potable|         Fuga|Ciudadano (Call C...|         COYOACÁN|    BARRIO SAN LUCAS|        19.3448113|       -99.1519064|\n",
      "|I-20220108-0063|              2022-01-08|R-20220108-0067|   2022-01-08|    12:18:59| Agua Potable|         Fuga|Medios de Comunic...|         COYOACÁN|              AJUSCO|        19.3254082|       -99.1583393|\n",
      "|I-20220110-0013|              2022-01-10|R-20220110-0030|   2022-01-10|    08:30:19| Agua Potable|         Fuga|Ciudadano (Call C...|       IZTAPALAPA|CONSEJO AGRARISTA...|        19.3255935|-99.05743679999999|\n",
      "|I-20220111-0082|              2022-01-11|R-20220112-0210|   2022-01-12|    13:15:33| Agua Potable|         Fuga|Ciudadano (Call C...|          TLALPAN|              VERANO|        19.2657228|       -99.2006091|\n",
      "|I-20220120-0068|              2022-01-20|R-20220119-0294|   2022-01-19|    15:01:12| Agua Potable|         Fuga|Redes Sociales (T...|   ÁLVARO OBREGÓN|        MERCED GOMEZ| 19.36641757088908|-99.20750319957735|\n",
      "|I-20220121-0175|              2022-01-21|R-20220516-0399|   2022-05-16|    16:06:24| Agua Potable|         Fuga|Ciudadano (Call C...|GUSTAVO A. MADERO|    C T M ATZACOALCO|        19.5069334|-99.09735979999999|\n",
      "|I-20220122-0098|              2022-01-22|R-20220122-0097|   2022-01-22|    16:50:15| Agua Potable|         Fuga|Ciudadano (Call C...|   ÁLVARO OBREGÓN|     LOMAS DE LA ERA|        19.3201081|       -99.2611572|\n",
      "|I-20220125-0020|              2022-01-25|R-20220126-0369|   2022-01-26|    16:02:52| Agua Potable|         Fuga|Ciudadano (Call C...|     AZCAPOTZALCO|     BARRIO COLTONGO|19.482599271797806|-99.15422916412354|\n",
      "|I-20220128-0359|              2022-01-29|R-20220128-0438|   2022-01-28|    20:05:38| Agua Potable|         Fuga|Ciudadano (Call C...|GUSTAVO A. MADERO|         SAN ANTONIO|        19.5602582|       -99.1365027|\n",
      "|I-20220131-0267|              2022-01-31|R-20220131-0313|   2022-01-31|    14:51:28| Agua Potable|         Fuga|Campamento o Alca...|          TLÁHUAC|PUEBLO SAN NICOLA...|        19.2186804|       -98.9712818|\n",
      "|I-20220201-0133|              2022-02-01|R-20220201-0136|   2022-02-01|    11:24:48| Agua Potable|         Fuga|Ciudadano (Call C...|   MIGUEL HIDALGO|LOMAS DE CHAPULTE...| 19.42632431141477|-99.20783277558283|\n",
      "|I-20220201-0359|              2022-02-02|R-20220201-0408|   2022-02-01|    20:38:57| Agua Potable|         Fuga|Ciudadano (Call C...|         COYOACÁN|  PASEOS DE TAXQUEÑA|        19.3468826|-99.12406109999999|\n",
      "|I-20220202-0088|              2022-02-02|R-20221122-0192|   2022-11-22|    11:36:31| Agua Potable|         Fuga|Ciudadano (Call C...|         COYOACÁN|CULHUACAN CTM SEC...|        19.3115202|-99.10392689999999|\n",
      "|I-20220203-0206|              2022-02-03|R-20220203-0197|   2022-02-03|    13:53:00| Agua Potable|         Fuga|Ciudadano (Call C...|         COYOACÁN|CUADRANTE DE SAN ...|        19.3439856|         -99.16467|\n",
      "|I-20220207-0104|              2022-02-07|R-20220207-0111|   2022-02-07|    11:36:48| Agua Potable|         Fuga|Ciudadano (Call C...|          TLALPAN|  HEROES DE PADIERNA|        19.2801696|-99.21893109999999|\n",
      "+---------------+------------------------+---------------+-------------+------------+-------------+-------------+--------------------+-----------------+--------------------+------------------+------------------+\n",
      "only showing top 20 rows\n",
      "\n"
     ]
    }
   ],
   "source": [
    "result_2.show()"
   ]
  },
  {
   "cell_type": "code",
   "execution_count": 35,
   "metadata": {},
   "outputs": [],
   "source": [
    "# Export a Delta y MinIO\n",
    "result_2.write \\\n",
    "    .partitionBy(\"fecha_reporte\", \"alcaldia_catalogo\") \\\n",
    "    .format(\"delta\").save(\"s3a://cero-fugas/delta-tables/fugas\")"
   ]
  },
  {
   "cell_type": "markdown",
   "metadata": {},
   "source": [
    "# Conexion a PostgreSQL"
   ]
  },
  {
   "cell_type": "code",
   "execution_count": 3,
   "metadata": {},
   "outputs": [],
   "source": [
    "builder = pyspark.sql.SparkSession.builder.appName(\"ETL_Fugas\") \\\n",
    "    .config(\"spark.sql.extensions\", \"io.delta.sql.DeltaSparkSessionExtension\") \\\n",
    "    .config(\"spark.sql.catalog.spark_catalog\", \"org.apache.spark.sql.delta.catalog.DeltaCatalog\") \\\n",
    "    .config(\"spark.hadoop.fs.s3a.endpoint\", \"http://localhost:9000\") \\\n",
    "    .config(\"spark.hadoop.fs.s3a.access.key\", \"GVTZ4kb69J0Gop6YaWSf\") \\\n",
    "    .config(\"spark.hadoop.fs.s3a.secret.key\", \"WDkCNivmHhMRrBPgOWRIHZSHb5iMNyzBJgSgFk4f\") \\\n",
    "    .config(\"spark.hadoop.fs.s3a.path.style.access\", \"true\") \\\n",
    "    .config('spark.hadoop.fs.s3a.aws.credentials.provider', 'org.apache.hadoop.fs.s3a.SimpleAWSCredentialsProvider') \\\n",
    "    .config(\"fs.s3a.connection.ssl.enabled\", \"false\") \\\n",
    "    .config(\"spark.databricks.delta.retentionDurationCheck.enabled\", \"false\")\n",
    "\n",
    "# Configuración de paquetes\n",
    "my_packages = [\"org.apache.hadoop:hadoop-aws:3.3.4\",\n",
    "            \"org.apache.hadoop:hadoop-client-runtime:3.3.4\",\n",
    "            \"org.apache.hadoop:hadoop-client-api:3.3.4\",\n",
    "            \"com.amazonaws:aws-java-sdk-bundle:1.12.779\",\n",
    "            \"org.postgresql:postgresql:42.7.4\"\n",
    "]\n",
    "\n",
    "# Creación de la sesión de spark\n",
    "spark = configure_spark_with_delta_pip(builder, extra_packages=my_packages).getOrCreate()"
   ]
  },
  {
   "cell_type": "code",
   "execution_count": 4,
   "metadata": {},
   "outputs": [
    {
     "name": "stdout",
     "output_type": "stream",
     "text": [
      "+-------------+------------------------+----------+-------------+------------+-------------+-------------+--------------------+-----------------+--------------------+----------+-----------+\n",
      "|        folio|fecha_registro_incidente|id_reporte|fecha_reporte|hora_reporte|clasificacion|tipo_de_falla|     medio_recepcion|alcaldia_catalogo|    colonia_catalogo|   latitud|   longitud|\n",
      "+-------------+------------------------+----------+-------------+------------+-------------+-------------+--------------------+-----------------+--------------------+----------+-----------+\n",
      "|20210104-0005|                    NULL|        NA|   2021-01-04|          NA| Agua Potable|         Fuga|Ciudadano (Call C...|GUSTAVO A. MADERO|CASAS ALEMAN (AMP...|19.4804576|-99.0819222|\n",
      "|20210104-0281|                    NULL|        NA|   2021-01-04|          NA| Agua Potable|         Fuga|Ciudadano (Call C...|GUSTAVO A. MADERO|           MALACATES|19.5737057|-99.1298101|\n",
      "|20210104-0101|                    NULL|        NA|   2021-01-04|          NA| Agua Potable|         Fuga|Ciudadano (Call C...|GUSTAVO A. MADERO|       LINDAVISTA II|19.5003422|-99.1256996|\n",
      "|20210104-0022|                    NULL|        NA|   2021-01-04|          NA| Agua Potable|         Fuga|Ciudadano (Call C...|GUSTAVO A. MADERO|SAN JUAN DE ARAGO...|19.4583803|-99.0628706|\n",
      "|20210104-0086|                    NULL|        NA|   2021-01-04|          NA| Agua Potable|         Fuga|Ciudadano (Call C...|GUSTAVO A. MADERO|CONSTITUCION DE L...|19.4818894|-99.1020196|\n",
      "|20210104-0141|                    NULL|        NA|   2021-01-04|          NA| Agua Potable|         Fuga|Ciudadano (Call C...|GUSTAVO A. MADERO|ZONA ESCOLAR ORIENTE|19.5396397|-99.1422868|\n",
      "|20210106-0144|                    NULL|        NA|   2021-01-06|          NA| Agua Potable|         Fuga|Ciudadano (Call C...|GUSTAVO A. MADERO|RESIDENCIAL ZACAT...|19.4988402|-99.1246153|\n",
      "|20210106-0139|                    NULL|        NA|   2021-01-06|          NA| Agua Potable|         Fuga|Ciudadano (Call C...|GUSTAVO A. MADERO|    C T M ARAGON (U)|19.4549747|-99.0536212|\n",
      "|20210106-0251|                    NULL|        NA|   2021-01-06|          NA| Agua Potable|         Fuga|Ciudadano (Call C...|GUSTAVO A. MADERO| CUCHILLA DEL TESORO|19.4481919|-99.0591821|\n",
      "|20210106-0242|                    NULL|        NA|   2021-01-06|          NA| Agua Potable|         Fuga|Ciudadano (Call C...|GUSTAVO A. MADERO|SANTA ISABEL TOLA...|19.4953631|-99.1133431|\n",
      "|20210106-0113|                    NULL|        NA|   2021-01-06|          NA| Agua Potable|         Fuga|Ciudadano (Call C...|GUSTAVO A. MADERO|   GABRIEL HERNANDEZ|19.5014353|-99.0999192|\n",
      "|20210106-0123|                    NULL|        NA|   2021-01-06|          NA| Agua Potable|         Fuga|Ciudadano (Call C...|GUSTAVO A. MADERO|   GABRIEL HERNANDEZ|19.4978729|-99.1006852|\n",
      "|20210106-0156|                    NULL|        NA|   2021-01-06|          NA| Agua Potable|         Fuga|Ciudadano (Call C...|GUSTAVO A. MADERO|  EX-ESCUELA DE TIRO| 19.452581|-99.0997292|\n",
      "|20210106-0131|                    NULL|        NA|   2021-01-06|          NA| Agua Potable|         Fuga|Ciudadano (Call C...|GUSTAVO A. MADERO|SAN JUAN DE ARAGO...|19.4539284|-99.0836307|\n",
      "|20210102-0017|                    NULL|        NA|   2021-01-02|          NA| Agua Potable|         Fuga|Ciudadano (Call C...|       XOCHIMILCO|SAN GREGORIO ATLA...|19.2514436|-99.0557886|\n",
      "|20210102-0088|                    NULL|        NA|   2021-01-02|          NA| Agua Potable|         Fuga|Ciudadano (Call C...|       XOCHIMILCO|SAN MATEO XALPA (...|19.2337779|-99.1234387|\n",
      "|20210107-0077|                    NULL|        NA|   2021-01-07|          NA| Agua Potable|         Fuga|Ciudadano (Call C...|         COYOACAN|CTM VIII CULHUACA...|19.3196551|-99.1039934|\n",
      "|20210107-0023|                    NULL|        NA|   2021-01-07|          NA| Agua Potable|         Fuga|Ciudadano (Call C...|         COYOACAN|CAMPESTRE CHURUBUSCO|19.3522996|-99.1339699|\n",
      "|20210107-0129|                    NULL|        NA|   2021-01-07|          NA| Agua Potable|         Fuga|Ciudadano (Call C...|          TLAHUAC|       LAS ARBOLEDAS|19.3101922|-99.0477861|\n",
      "|20210107-0190|                    NULL|        NA|   2021-01-07|          NA| Agua Potable|         Fuga|Ciudadano (Call C...|          TLAHUAC|         OJO DE AGUA|19.2887654|-99.0139871|\n",
      "+-------------+------------------------+----------+-------------+------------+-------------+-------------+--------------------+-----------------+--------------------+----------+-----------+\n",
      "only showing top 20 rows\n",
      "\n"
     ]
    }
   ],
   "source": [
    "# Cargamos los datos del Data lake\n",
    "fugas_df = spark.read.format(\"delta\").load(\"s3a://cero-fugas/delta-tables/fugas\")\n",
    "fugas_df.show()"
   ]
  },
  {
   "cell_type": "code",
   "execution_count": 7,
   "metadata": {},
   "outputs": [],
   "source": [
    "# Datos de conexion\n",
    "url = \"jdbc:postgresql://localhost:5432/sacmex\"\n",
    "properties = {\n",
    "    \"user\": \"postgres\",\n",
    "    \"password\": \"postgres\",\n",
    "    \"driver\": \"org.postgresql.Driver\"\n",
    "}"
   ]
  },
  {
   "cell_type": "code",
   "execution_count": 8,
   "metadata": {},
   "outputs": [],
   "source": [
    "fugas_df.write.jdbc(url, \"reportes\", mode=\"append\", properties=properties)"
   ]
  }
 ],
 "metadata": {
  "kernelspec": {
   "display_name": "spark-workshop",
   "language": "python",
   "name": "python3"
  },
  "language_info": {
   "codemirror_mode": {
    "name": "ipython",
    "version": 3
   },
   "file_extension": ".py",
   "mimetype": "text/x-python",
   "name": "python",
   "nbconvert_exporter": "python",
   "pygments_lexer": "ipython3",
   "version": "3.13.0"
  },
  "polyglot_notebook": {
   "kernelInfo": {
    "defaultKernelName": "csharp",
    "items": [
     {
      "aliases": [],
      "name": "csharp"
     }
    ]
   }
  }
 },
 "nbformat": 4,
 "nbformat_minor": 2
}
