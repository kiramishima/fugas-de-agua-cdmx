{
 "cells": [
  {
   "cell_type": "code",
   "execution_count": 2,
   "metadata": {},
   "outputs": [],
   "source": [
    "import polars as pl\n",
    "import matplotlib.pyplot as plt\n",
    "import seaborn as sns\n",
    "\n",
    "sns.set_theme()"
   ]
  },
  {
   "cell_type": "code",
   "execution_count": 3,
   "metadata": {},
   "outputs": [],
   "source": [
    "df_hist = pl.read_csv('../DATASETS/reportes_agua_hist.csv')"
   ]
  },
  {
   "cell_type": "markdown",
   "metadata": {},
   "source": [
    "# Exploracion de los datos"
   ]
  },
  {
   "cell_type": "code",
   "execution_count": 4,
   "metadata": {},
   "outputs": [
    {
     "data": {
      "text/html": [
       "<div><style>\n",
       ".dataframe > thead > tr,\n",
       ".dataframe > tbody > tr {\n",
       "  text-align: right;\n",
       "  white-space: pre-wrap;\n",
       "}\n",
       "</style>\n",
       "<small>shape: (5, 10)</small><table border=\"1\" class=\"dataframe\"><thead><tr><th>folio</th><th>tipo_de_falla</th><th>quien_atiende</th><th>latitud</th><th>longitud</th><th>codigo_postal</th><th>fecha</th><th>colonia_registro_sacmex</th><th>colonia_datos_abiertos</th><th>alcaldia</th></tr><tr><td>str</td><td>str</td><td>str</td><td>f64</td><td>f64</td><td>str</td><td>str</td><td>str</td><td>str</td><td>str</td></tr></thead><tbody><tr><td>&quot;20210405-0030&quot;</td><td>&quot;Falta de agua&quot;</td><td>&quot;Poniente&quot;</td><td>19.378935</td><td>-99.191926</td><td>&quot;1420&quot;</td><td>&quot;2021-04-05&quot;</td><td>&quot;Alfonso XIII&quot;</td><td>&quot;SANTA MARIA NONOALCO&quot;</td><td>&quot;ALVARO OBREGON&quot;</td></tr><tr><td>&quot;20210428-0107&quot;</td><td>&quot;Falta de agua&quot;</td><td>&quot;Poniente&quot;</td><td>19.342617</td><td>-99.218876</td><td>&quot;1780&quot;</td><td>&quot;2021-04-28&quot;</td><td>&quot;Olivar de los Padres&quot;</td><td>&quot;LOMAS DE LOS ANGELES TETELPAN&quot;</td><td>&quot;ALVARO OBREGON&quot;</td></tr><tr><td>&quot;20210428-0184&quot;</td><td>&quot;Falta de agua&quot;</td><td>&quot;Poniente&quot;</td><td>19.342893</td><td>-99.218</td><td>&quot;NA&quot;</td><td>&quot;2021-04-28&quot;</td><td>&quot;Lomas de los Ángeles Tetelpan&quot;</td><td>&quot;LOMAS DE LOS ANGELES TETELPAN&quot;</td><td>&quot;ALVARO OBREGON&quot;</td></tr><tr><td>&quot;20210429-0075&quot;</td><td>&quot;Falta de agua&quot;</td><td>&quot;Poniente&quot;</td><td>19.342617</td><td>-99.218876</td><td>&quot;1780&quot;</td><td>&quot;2021-04-29&quot;</td><td>&quot;Olivar de los Padres&quot;</td><td>&quot;LOMAS DE LOS ANGELES TETELPAN&quot;</td><td>&quot;ALVARO OBREGON&quot;</td></tr><tr><td>&quot;20210429-0157&quot;</td><td>&quot;Falta de agua&quot;</td><td>&quot;Poniente&quot;</td><td>19.342831</td><td>-99.217981</td><td>&quot;1780&quot;</td><td>&quot;2021-04-29&quot;</td><td>&quot;Lomas de los Ángeles Tetelpan&quot;</td><td>&quot;LOMAS DE LOS ANGELES TETELPAN&quot;</td><td>&quot;ALVARO OBREGON&quot;</td></tr></tbody></table></div>"
      ],
      "text/plain": [
       "shape: (5, 10)\n",
       "┌───────────┬───────────┬───────────┬───────────┬───┬───────────┬───────────┬───────────┬──────────┐\n",
       "│ folio     ┆ tipo_de_f ┆ quien_ati ┆ latitud   ┆ … ┆ fecha     ┆ colonia_r ┆ colonia_d ┆ alcaldia │\n",
       "│ ---       ┆ alla      ┆ ende      ┆ ---       ┆   ┆ ---       ┆ egistro_s ┆ atos_abie ┆ ---      │\n",
       "│ str       ┆ ---       ┆ ---       ┆ f64       ┆   ┆ str       ┆ acmex     ┆ rtos      ┆ str      │\n",
       "│           ┆ str       ┆ str       ┆           ┆   ┆           ┆ ---       ┆ ---       ┆          │\n",
       "│           ┆           ┆           ┆           ┆   ┆           ┆ str       ┆ str       ┆          │\n",
       "╞═══════════╪═══════════╪═══════════╪═══════════╪═══╪═══════════╪═══════════╪═══════════╪══════════╡\n",
       "│ 20210405- ┆ Falta de  ┆ Poniente  ┆ 19.378935 ┆ … ┆ 2021-04-0 ┆ Alfonso   ┆ SANTA     ┆ ALVARO   │\n",
       "│ 0030      ┆ agua      ┆           ┆           ┆   ┆ 5         ┆ XIII      ┆ MARIA     ┆ OBREGON  │\n",
       "│           ┆           ┆           ┆           ┆   ┆           ┆           ┆ NONOALCO  ┆          │\n",
       "│ 20210428- ┆ Falta de  ┆ Poniente  ┆ 19.342617 ┆ … ┆ 2021-04-2 ┆ Olivar de ┆ LOMAS DE  ┆ ALVARO   │\n",
       "│ 0107      ┆ agua      ┆           ┆           ┆   ┆ 8         ┆ los       ┆ LOS       ┆ OBREGON  │\n",
       "│           ┆           ┆           ┆           ┆   ┆           ┆ Padres    ┆ ANGELES   ┆          │\n",
       "│           ┆           ┆           ┆           ┆   ┆           ┆           ┆ TETELPAN  ┆          │\n",
       "│ 20210428- ┆ Falta de  ┆ Poniente  ┆ 19.342893 ┆ … ┆ 2021-04-2 ┆ Lomas de  ┆ LOMAS DE  ┆ ALVARO   │\n",
       "│ 0184      ┆ agua      ┆           ┆           ┆   ┆ 8         ┆ los       ┆ LOS       ┆ OBREGON  │\n",
       "│           ┆           ┆           ┆           ┆   ┆           ┆ Ángeles   ┆ ANGELES   ┆          │\n",
       "│           ┆           ┆           ┆           ┆   ┆           ┆ Tetelpan  ┆ TETELPAN  ┆          │\n",
       "│ 20210429- ┆ Falta de  ┆ Poniente  ┆ 19.342617 ┆ … ┆ 2021-04-2 ┆ Olivar de ┆ LOMAS DE  ┆ ALVARO   │\n",
       "│ 0075      ┆ agua      ┆           ┆           ┆   ┆ 9         ┆ los       ┆ LOS       ┆ OBREGON  │\n",
       "│           ┆           ┆           ┆           ┆   ┆           ┆ Padres    ┆ ANGELES   ┆          │\n",
       "│           ┆           ┆           ┆           ┆   ┆           ┆           ┆ TETELPAN  ┆          │\n",
       "│ 20210429- ┆ Falta de  ┆ Poniente  ┆ 19.342831 ┆ … ┆ 2021-04-2 ┆ Lomas de  ┆ LOMAS DE  ┆ ALVARO   │\n",
       "│ 0157      ┆ agua      ┆           ┆           ┆   ┆ 9         ┆ los       ┆ LOS       ┆ OBREGON  │\n",
       "│           ┆           ┆           ┆           ┆   ┆           ┆ Ángeles   ┆ ANGELES   ┆          │\n",
       "│           ┆           ┆           ┆           ┆   ┆           ┆ Tetelpan  ┆ TETELPAN  ┆          │\n",
       "└───────────┴───────────┴───────────┴───────────┴───┴───────────┴───────────┴───────────┴──────────┘"
      ]
     },
     "execution_count": 4,
     "metadata": {},
     "output_type": "execute_result"
    }
   ],
   "source": [
    "df_hist.head()"
   ]
  },
  {
   "cell_type": "code",
   "execution_count": 5,
   "metadata": {},
   "outputs": [
    {
     "name": "stdout",
     "output_type": "stream",
     "text": [
      "['folio', 'tipo_de_falla', 'quien_atiende', 'latitud', 'longitud', 'codigo_postal', 'fecha', 'colonia_registro_sacmex', 'colonia_datos_abiertos', 'alcaldia']\n",
      "[String, String, String, Float64, Float64, String, String, String, String, String]\n"
     ]
    }
   ],
   "source": [
    "print(df_hist.columns)\n",
    "print(df_hist.dtypes)"
   ]
  },
  {
   "cell_type": "code",
   "execution_count": 6,
   "metadata": {},
   "outputs": [
    {
     "data": {
      "text/html": [
       "<div><style>\n",
       ".dataframe > thead > tr,\n",
       ".dataframe > tbody > tr {\n",
       "  text-align: right;\n",
       "  white-space: pre-wrap;\n",
       "}\n",
       "</style>\n",
       "<small>shape: (5, 10)</small><table border=\"1\" class=\"dataframe\"><thead><tr><th>folio</th><th>tipo_de_falla</th><th>quien_atiende</th><th>latitud</th><th>longitud</th><th>codigo_postal</th><th>fecha</th><th>colonia_registro_sacmex</th><th>colonia_datos_abiertos</th><th>alcaldia</th></tr><tr><td>str</td><td>str</td><td>str</td><td>f64</td><td>f64</td><td>i16</td><td>date</td><td>str</td><td>str</td><td>str</td></tr></thead><tbody><tr><td>&quot;20210405-0030&quot;</td><td>&quot;Falta de agua&quot;</td><td>&quot;Poniente&quot;</td><td>19.378935</td><td>-99.191926</td><td>1420</td><td>2021-04-05</td><td>&quot;Alfonso XIII&quot;</td><td>&quot;SANTA MARIA NONOALCO&quot;</td><td>&quot;ALVARO OBREGON&quot;</td></tr><tr><td>&quot;20210428-0107&quot;</td><td>&quot;Falta de agua&quot;</td><td>&quot;Poniente&quot;</td><td>19.342617</td><td>-99.218876</td><td>1780</td><td>2021-04-28</td><td>&quot;Olivar de los Padres&quot;</td><td>&quot;LOMAS DE LOS ANGELES TETELPAN&quot;</td><td>&quot;ALVARO OBREGON&quot;</td></tr><tr><td>&quot;20210428-0184&quot;</td><td>&quot;Falta de agua&quot;</td><td>&quot;Poniente&quot;</td><td>19.342893</td><td>-99.218</td><td>null</td><td>2021-04-28</td><td>&quot;Lomas de los Ángeles Tetelpan&quot;</td><td>&quot;LOMAS DE LOS ANGELES TETELPAN&quot;</td><td>&quot;ALVARO OBREGON&quot;</td></tr><tr><td>&quot;20210429-0075&quot;</td><td>&quot;Falta de agua&quot;</td><td>&quot;Poniente&quot;</td><td>19.342617</td><td>-99.218876</td><td>1780</td><td>2021-04-29</td><td>&quot;Olivar de los Padres&quot;</td><td>&quot;LOMAS DE LOS ANGELES TETELPAN&quot;</td><td>&quot;ALVARO OBREGON&quot;</td></tr><tr><td>&quot;20210429-0157&quot;</td><td>&quot;Falta de agua&quot;</td><td>&quot;Poniente&quot;</td><td>19.342831</td><td>-99.217981</td><td>1780</td><td>2021-04-29</td><td>&quot;Lomas de los Ángeles Tetelpan&quot;</td><td>&quot;LOMAS DE LOS ANGELES TETELPAN&quot;</td><td>&quot;ALVARO OBREGON&quot;</td></tr></tbody></table></div>"
      ],
      "text/plain": [
       "shape: (5, 10)\n",
       "┌───────────┬───────────┬───────────┬───────────┬───┬───────────┬───────────┬───────────┬──────────┐\n",
       "│ folio     ┆ tipo_de_f ┆ quien_ati ┆ latitud   ┆ … ┆ fecha     ┆ colonia_r ┆ colonia_d ┆ alcaldia │\n",
       "│ ---       ┆ alla      ┆ ende      ┆ ---       ┆   ┆ ---       ┆ egistro_s ┆ atos_abie ┆ ---      │\n",
       "│ str       ┆ ---       ┆ ---       ┆ f64       ┆   ┆ date      ┆ acmex     ┆ rtos      ┆ str      │\n",
       "│           ┆ str       ┆ str       ┆           ┆   ┆           ┆ ---       ┆ ---       ┆          │\n",
       "│           ┆           ┆           ┆           ┆   ┆           ┆ str       ┆ str       ┆          │\n",
       "╞═══════════╪═══════════╪═══════════╪═══════════╪═══╪═══════════╪═══════════╪═══════════╪══════════╡\n",
       "│ 20210405- ┆ Falta de  ┆ Poniente  ┆ 19.378935 ┆ … ┆ 2021-04-0 ┆ Alfonso   ┆ SANTA     ┆ ALVARO   │\n",
       "│ 0030      ┆ agua      ┆           ┆           ┆   ┆ 5         ┆ XIII      ┆ MARIA     ┆ OBREGON  │\n",
       "│           ┆           ┆           ┆           ┆   ┆           ┆           ┆ NONOALCO  ┆          │\n",
       "│ 20210428- ┆ Falta de  ┆ Poniente  ┆ 19.342617 ┆ … ┆ 2021-04-2 ┆ Olivar de ┆ LOMAS DE  ┆ ALVARO   │\n",
       "│ 0107      ┆ agua      ┆           ┆           ┆   ┆ 8         ┆ los       ┆ LOS       ┆ OBREGON  │\n",
       "│           ┆           ┆           ┆           ┆   ┆           ┆ Padres    ┆ ANGELES   ┆          │\n",
       "│           ┆           ┆           ┆           ┆   ┆           ┆           ┆ TETELPAN  ┆          │\n",
       "│ 20210428- ┆ Falta de  ┆ Poniente  ┆ 19.342893 ┆ … ┆ 2021-04-2 ┆ Lomas de  ┆ LOMAS DE  ┆ ALVARO   │\n",
       "│ 0184      ┆ agua      ┆           ┆           ┆   ┆ 8         ┆ los       ┆ LOS       ┆ OBREGON  │\n",
       "│           ┆           ┆           ┆           ┆   ┆           ┆ Ángeles   ┆ ANGELES   ┆          │\n",
       "│           ┆           ┆           ┆           ┆   ┆           ┆ Tetelpan  ┆ TETELPAN  ┆          │\n",
       "│ 20210429- ┆ Falta de  ┆ Poniente  ┆ 19.342617 ┆ … ┆ 2021-04-2 ┆ Olivar de ┆ LOMAS DE  ┆ ALVARO   │\n",
       "│ 0075      ┆ agua      ┆           ┆           ┆   ┆ 9         ┆ los       ┆ LOS       ┆ OBREGON  │\n",
       "│           ┆           ┆           ┆           ┆   ┆           ┆ Padres    ┆ ANGELES   ┆          │\n",
       "│           ┆           ┆           ┆           ┆   ┆           ┆           ┆ TETELPAN  ┆          │\n",
       "│ 20210429- ┆ Falta de  ┆ Poniente  ┆ 19.342831 ┆ … ┆ 2021-04-2 ┆ Lomas de  ┆ LOMAS DE  ┆ ALVARO   │\n",
       "│ 0157      ┆ agua      ┆           ┆           ┆   ┆ 9         ┆ los       ┆ LOS       ┆ OBREGON  │\n",
       "│           ┆           ┆           ┆           ┆   ┆           ┆ Ángeles   ┆ ANGELES   ┆          │\n",
       "│           ┆           ┆           ┆           ┆   ┆           ┆ Tetelpan  ┆ TETELPAN  ┆          │\n",
       "└───────────┴───────────┴───────────┴───────────┴───┴───────────┴───────────┴───────────┴──────────┘"
      ]
     },
     "execution_count": 6,
     "metadata": {},
     "output_type": "execute_result"
    }
   ],
   "source": [
    "# Parse/Cast de los datos al tipo de dato correcto\n",
    "df_hist2 = df_hist.select(\n",
    "    pl.col(\"folio\").cast(pl.Utf8),\n",
    "    pl.col(\"tipo_de_falla\").cast(pl.Utf8),\n",
    "    pl.col(\"quien_atiende\").cast(pl.Utf8),\n",
    "    pl.col(\"latitud\").cast(pl.Float64),\n",
    "    pl.col(\"longitud\").cast(pl.Float64),\n",
    "    pl.col(\"codigo_postal\").cast(pl.Int16, strict=False),\n",
    "    pl.col(\"fecha\").str.to_date(),\n",
    "    pl.col(\"colonia_registro_sacmex\").cast(pl.Utf8),\n",
    "    pl.col(\"colonia_datos_abiertos\").cast(pl.Utf8),\n",
    "    pl.col(\"alcaldia\").cast(pl.Utf8)\n",
    ")\n",
    "df_hist2.head()"
   ]
  },
  {
   "cell_type": "code",
   "execution_count": 7,
   "metadata": {},
   "outputs": [
    {
     "data": {
      "text/html": [
       "<div><style>\n",
       ".dataframe > thead > tr,\n",
       ".dataframe > tbody > tr {\n",
       "  text-align: right;\n",
       "  white-space: pre-wrap;\n",
       "}\n",
       "</style>\n",
       "<small>shape: (1, 10)</small><table border=\"1\" class=\"dataframe\"><thead><tr><th>folio</th><th>tipo_de_falla</th><th>quien_atiende</th><th>latitud</th><th>longitud</th><th>codigo_postal</th><th>fecha</th><th>colonia_registro_sacmex</th><th>colonia_datos_abiertos</th><th>alcaldia</th></tr><tr><td>u32</td><td>u32</td><td>u32</td><td>u32</td><td>u32</td><td>u32</td><td>u32</td><td>u32</td><td>u32</td><td>u32</td></tr></thead><tbody><tr><td>0</td><td>0</td><td>0</td><td>0</td><td>0</td><td>16494</td><td>0</td><td>0</td><td>0</td><td>0</td></tr></tbody></table></div>"
      ],
      "text/plain": [
       "shape: (1, 10)\n",
       "┌───────┬──────────────┬──────────────┬─────────┬───┬───────┬─────────────┬─────────────┬──────────┐\n",
       "│ folio ┆ tipo_de_fall ┆ quien_atiend ┆ latitud ┆ … ┆ fecha ┆ colonia_reg ┆ colonia_dat ┆ alcaldia │\n",
       "│ ---   ┆ a            ┆ e            ┆ ---     ┆   ┆ ---   ┆ istro_sacme ┆ os_abiertos ┆ ---      │\n",
       "│ u32   ┆ ---          ┆ ---          ┆ u32     ┆   ┆ u32   ┆ x           ┆ ---         ┆ u32      │\n",
       "│       ┆ u32          ┆ u32          ┆         ┆   ┆       ┆ ---         ┆ u32         ┆          │\n",
       "│       ┆              ┆              ┆         ┆   ┆       ┆ u32         ┆             ┆          │\n",
       "╞═══════╪══════════════╪══════════════╪═════════╪═══╪═══════╪═════════════╪═════════════╪══════════╡\n",
       "│ 0     ┆ 0            ┆ 0            ┆ 0       ┆ … ┆ 0     ┆ 0           ┆ 0           ┆ 0        │\n",
       "└───────┴──────────────┴──────────────┴─────────┴───┴───────┴─────────────┴─────────────┴──────────┘"
      ]
     },
     "execution_count": 7,
     "metadata": {},
     "output_type": "execute_result"
    }
   ],
   "source": [
    "df_hist2.null_count()"
   ]
  },
  {
   "cell_type": "code",
   "execution_count": 8,
   "metadata": {},
   "outputs": [
    {
     "data": {
      "text/html": [
       "<div><style>\n",
       ".dataframe > thead > tr,\n",
       ".dataframe > tbody > tr {\n",
       "  text-align: right;\n",
       "  white-space: pre-wrap;\n",
       "}\n",
       "</style>\n",
       "<small>shape: (1, 1)</small><table border=\"1\" class=\"dataframe\"><thead><tr><th>codigo_postal</th></tr><tr><td>f64</td></tr></thead><tbody><tr><td>6.48</td></tr></tbody></table></div>"
      ],
      "text/plain": [
       "shape: (1, 1)\n",
       "┌───────────────┐\n",
       "│ codigo_postal │\n",
       "│ ---           │\n",
       "│ f64           │\n",
       "╞═══════════════╡\n",
       "│ 6.48          │\n",
       "└───────────────┘"
      ]
     },
     "execution_count": 8,
     "metadata": {},
     "output_type": "execute_result"
    }
   ],
   "source": [
    "df_hist2.select((pl.col('codigo_postal').null_count()/df_hist2.shape[0] * 100).round(2))"
   ]
  },
  {
   "cell_type": "markdown",
   "metadata": {},
   "source": [
    "> Podemos elegir eliminar esos registros o llenarlos con un valor default. Ya que nos interesa más los otros datos."
   ]
  },
  {
   "cell_type": "code",
   "execution_count": 9,
   "metadata": {},
   "outputs": [
    {
     "data": {
      "text/html": [
       "<div><style>\n",
       ".dataframe > thead > tr,\n",
       ".dataframe > tbody > tr {\n",
       "  text-align: right;\n",
       "  white-space: pre-wrap;\n",
       "}\n",
       "</style>\n",
       "<small>shape: (4,)</small><table border=\"1\" class=\"dataframe\"><thead><tr><th>tipo_de_falla</th></tr><tr><td>str</td></tr></thead><tbody><tr><td>&quot;NA&quot;</td></tr><tr><td>&quot;Falta de agua&quot;</td></tr><tr><td>&quot;Fuga&quot;</td></tr><tr><td>&quot;Mala calidad&quot;</td></tr></tbody></table></div>"
      ],
      "text/plain": [
       "shape: (4,)\n",
       "Series: 'tipo_de_falla' [str]\n",
       "[\n",
       "\t\"NA\"\n",
       "\t\"Falta de agua\"\n",
       "\t\"Fuga\"\n",
       "\t\"Mala calidad\"\n",
       "]"
      ]
     },
     "execution_count": 9,
     "metadata": {},
     "output_type": "execute_result"
    }
   ],
   "source": [
    "# tipos de falla\n",
    "df_hist2['tipo_de_falla'].unique()"
   ]
  },
  {
   "cell_type": "code",
   "execution_count": 10,
   "metadata": {},
   "outputs": [
    {
     "data": {
      "text/html": [
       "<div><style>\n",
       ".dataframe > thead > tr,\n",
       ".dataframe > tbody > tr {\n",
       "  text-align: right;\n",
       "  white-space: pre-wrap;\n",
       "}\n",
       "</style>\n",
       "<small>shape: (4, 2)</small><table border=\"1\" class=\"dataframe\"><thead><tr><th>fecha</th><th>count</th></tr><tr><td>i32</td><td>u32</td></tr></thead><tbody><tr><td>2019</td><td>69378</td></tr><tr><td>2020</td><td>33559</td></tr><tr><td>2021</td><td>83994</td></tr><tr><td>2018</td><td>67799</td></tr></tbody></table></div>"
      ],
      "text/plain": [
       "shape: (4, 2)\n",
       "┌───────┬───────┐\n",
       "│ fecha ┆ count │\n",
       "│ ---   ┆ ---   │\n",
       "│ i32   ┆ u32   │\n",
       "╞═══════╪═══════╡\n",
       "│ 2019  ┆ 69378 │\n",
       "│ 2020  ┆ 33559 │\n",
       "│ 2021  ┆ 83994 │\n",
       "│ 2018  ┆ 67799 │\n",
       "└───────┴───────┘"
      ]
     },
     "execution_count": 10,
     "metadata": {},
     "output_type": "execute_result"
    }
   ],
   "source": [
    "df_hist2['fecha'].dt.year().value_counts()"
   ]
  },
  {
   "cell_type": "code",
   "execution_count": 11,
   "metadata": {},
   "outputs": [
    {
     "data": {
      "text/html": [
       "<div><style>\n",
       ".dataframe > thead > tr,\n",
       ".dataframe > tbody > tr {\n",
       "  text-align: right;\n",
       "  white-space: pre-wrap;\n",
       "}\n",
       "</style>\n",
       "<small>shape: (1, 2)</small><table border=\"1\" class=\"dataframe\"><thead><tr><th>fecha</th><th>tipo_de_falla</th></tr><tr><td>i32</td><td>u32</td></tr></thead><tbody><tr><td>2021</td><td>33018</td></tr></tbody></table></div>"
      ],
      "text/plain": [
       "shape: (1, 2)\n",
       "┌───────┬───────────────┐\n",
       "│ fecha ┆ tipo_de_falla │\n",
       "│ ---   ┆ ---           │\n",
       "│ i32   ┆ u32           │\n",
       "╞═══════╪═══════════════╡\n",
       "│ 2021  ┆ 33018         │\n",
       "└───────┴───────────────┘"
      ]
     },
     "execution_count": 11,
     "metadata": {},
     "output_type": "execute_result"
    }
   ],
   "source": [
    "df_hist2.select(\n",
    "    pl.col('fecha').dt.year(),\n",
    "    pl.col('tipo_de_falla')\n",
    ").filter(\n",
    "    pl.col('tipo_de_falla') == 'Fuga'\n",
    ").group_by('fecha').agg(pl.col('tipo_de_falla').count())"
   ]
  },
  {
   "cell_type": "code",
   "execution_count": 12,
   "metadata": {},
   "outputs": [
    {
     "data": {
      "text/html": [
       "<div><style>\n",
       ".dataframe > thead > tr,\n",
       ".dataframe > tbody > tr {\n",
       "  text-align: right;\n",
       "  white-space: pre-wrap;\n",
       "}\n",
       "</style>\n",
       "<small>shape: (4, 2)</small><table border=\"1\" class=\"dataframe\"><thead><tr><th>tipo_de_falla</th><th>count</th></tr><tr><td>str</td><td>u32</td></tr></thead><tbody><tr><td>&quot;NA&quot;</td><td>5</td></tr><tr><td>&quot;Fuga&quot;</td><td>33018</td></tr><tr><td>&quot;Mala calidad&quot;</td><td>843</td></tr><tr><td>&quot;Falta de agua&quot;</td><td>220864</td></tr></tbody></table></div>"
      ],
      "text/plain": [
       "shape: (4, 2)\n",
       "┌───────────────┬────────┐\n",
       "│ tipo_de_falla ┆ count  │\n",
       "│ ---           ┆ ---    │\n",
       "│ str           ┆ u32    │\n",
       "╞═══════════════╪════════╡\n",
       "│ NA            ┆ 5      │\n",
       "│ Fuga          ┆ 33018  │\n",
       "│ Mala calidad  ┆ 843    │\n",
       "│ Falta de agua ┆ 220864 │\n",
       "└───────────────┴────────┘"
      ]
     },
     "execution_count": 12,
     "metadata": {},
     "output_type": "execute_result"
    }
   ],
   "source": [
    "df_hist2['tipo_de_falla'].value_counts()"
   ]
  },
  {
   "cell_type": "code",
   "execution_count": 13,
   "metadata": {},
   "outputs": [
    {
     "data": {
      "text/html": [
       "<div><style>\n",
       ".dataframe > thead > tr,\n",
       ".dataframe > tbody > tr {\n",
       "  text-align: right;\n",
       "  white-space: pre-wrap;\n",
       "}\n",
       "</style>\n",
       "<small>shape: (3, 2)</small><table border=\"1\" class=\"dataframe\"><thead><tr><th>tipo_de_falla</th><th>count</th></tr><tr><td>str</td><td>u32</td></tr></thead><tbody><tr><td>&quot;Mala calidad&quot;</td><td>843</td></tr><tr><td>&quot;Fuga&quot;</td><td>33018</td></tr><tr><td>&quot;Falta de agua&quot;</td><td>220864</td></tr></tbody></table></div>"
      ],
      "text/plain": [
       "shape: (3, 2)\n",
       "┌───────────────┬────────┐\n",
       "│ tipo_de_falla ┆ count  │\n",
       "│ ---           ┆ ---    │\n",
       "│ str           ┆ u32    │\n",
       "╞═══════════════╪════════╡\n",
       "│ Mala calidad  ┆ 843    │\n",
       "│ Fuga          ┆ 33018  │\n",
       "│ Falta de agua ┆ 220864 │\n",
       "└───────────────┴────────┘"
      ]
     },
     "execution_count": 13,
     "metadata": {},
     "output_type": "execute_result"
    }
   ],
   "source": [
    "# Quitamos los que son NA\n",
    "df_hist2 = df_hist2.filter(pl.col('tipo_de_falla') != 'NA')\n",
    "df_hist2['tipo_de_falla'].value_counts()"
   ]
  },
  {
   "cell_type": "code",
   "execution_count": 14,
   "metadata": {},
   "outputs": [
    {
     "data": {
      "text/html": [
       "<div><style>\n",
       ".dataframe > thead > tr,\n",
       ".dataframe > tbody > tr {\n",
       "  text-align: right;\n",
       "  white-space: pre-wrap;\n",
       "}\n",
       "</style>\n",
       "<small>shape: (5, 10)</small><table border=\"1\" class=\"dataframe\"><thead><tr><th>folio</th><th>tipo_de_falla</th><th>quien_atiende</th><th>latitud</th><th>longitud</th><th>codigo_postal</th><th>fecha</th><th>colonia_registro_sacmex</th><th>colonia_datos_abiertos</th><th>alcaldia</th></tr><tr><td>str</td><td>str</td><td>str</td><td>f64</td><td>f64</td><td>i16</td><td>date</td><td>str</td><td>str</td><td>str</td></tr></thead><tbody><tr><td>&quot;20210107-0129&quot;</td><td>&quot;Fuga&quot;</td><td>&quot;Tláhuac&quot;</td><td>19.310192</td><td>-99.047786</td><td>null</td><td>2021-01-07</td><td>&quot;Ciudad de México&quot;</td><td>&quot;LAS ARBOLEDAS&quot;</td><td>&quot;TLAHUAC&quot;</td></tr><tr><td>&quot;20210101-0008&quot;</td><td>&quot;Fuga&quot;</td><td>&quot;Iztapalapa&quot;</td><td>19.370615</td><td>-99.030413</td><td>9239</td><td>2021-01-01</td><td>&quot;Ciudad de México&quot;</td><td>&quot;EJERCITO DE ORIENTE (U HAB) I&quot;</td><td>&quot;IZTAPALAPA&quot;</td></tr><tr><td>&quot;20210101-0020&quot;</td><td>&quot;Fuga&quot;</td><td>&quot;Álvaro Obregón&quot;</td><td>19.375857</td><td>-99.233819</td><td>null</td><td>2021-01-01</td><td>&quot;Ciudad de México&quot;</td><td>&quot;2DA  JALALPA TEPITO (AMPL)&quot;</td><td>&quot;ALVARO OBREGON&quot;</td></tr><tr><td>&quot;20210101-0048&quot;</td><td>&quot;Fuga&quot;</td><td>&quot;Álvaro Obregón&quot;</td><td>19.388433</td><td>-99.20185</td><td>1150</td><td>2021-01-01</td><td>&quot;Colonia Cristo Rey&quot;</td><td>&quot;CRISTO REY&quot;</td><td>&quot;ALVARO OBREGON&quot;</td></tr><tr><td>&quot;20210101-0049&quot;</td><td>&quot;Fuga&quot;</td><td>&quot;Azcapotzalco&quot;</td><td>19.473759</td><td>-99.176527</td><td>2060</td><td>2021-01-01</td><td>&quot;Un Hogar Para Cada Trabajador&quot;</td><td>&quot;UN HOGAR PARA CADA TRABAJADOR&quot;</td><td>&quot;AZCAPOTZALCO&quot;</td></tr></tbody></table></div>"
      ],
      "text/plain": [
       "shape: (5, 10)\n",
       "┌───────────┬───────────┬───────────┬───────────┬───┬───────────┬───────────┬───────────┬──────────┐\n",
       "│ folio     ┆ tipo_de_f ┆ quien_ati ┆ latitud   ┆ … ┆ fecha     ┆ colonia_r ┆ colonia_d ┆ alcaldia │\n",
       "│ ---       ┆ alla      ┆ ende      ┆ ---       ┆   ┆ ---       ┆ egistro_s ┆ atos_abie ┆ ---      │\n",
       "│ str       ┆ ---       ┆ ---       ┆ f64       ┆   ┆ date      ┆ acmex     ┆ rtos      ┆ str      │\n",
       "│           ┆ str       ┆ str       ┆           ┆   ┆           ┆ ---       ┆ ---       ┆          │\n",
       "│           ┆           ┆           ┆           ┆   ┆           ┆ str       ┆ str       ┆          │\n",
       "╞═══════════╪═══════════╪═══════════╪═══════════╪═══╪═══════════╪═══════════╪═══════════╪══════════╡\n",
       "│ 20210107- ┆ Fuga      ┆ Tláhuac   ┆ 19.310192 ┆ … ┆ 2021-01-0 ┆ Ciudad de ┆ LAS       ┆ TLAHUAC  │\n",
       "│ 0129      ┆           ┆           ┆           ┆   ┆ 7         ┆ México    ┆ ARBOLEDAS ┆          │\n",
       "│ 20210101- ┆ Fuga      ┆ Iztapalap ┆ 19.370615 ┆ … ┆ 2021-01-0 ┆ Ciudad de ┆ EJERCITO  ┆ IZTAPALA │\n",
       "│ 0008      ┆           ┆ a         ┆           ┆   ┆ 1         ┆ México    ┆ DE        ┆ PA       │\n",
       "│           ┆           ┆           ┆           ┆   ┆           ┆           ┆ ORIENTE   ┆          │\n",
       "│           ┆           ┆           ┆           ┆   ┆           ┆           ┆ (U HAB) I ┆          │\n",
       "│ 20210101- ┆ Fuga      ┆ Álvaro    ┆ 19.375857 ┆ … ┆ 2021-01-0 ┆ Ciudad de ┆ 2DA       ┆ ALVARO   │\n",
       "│ 0020      ┆           ┆ Obregón   ┆           ┆   ┆ 1         ┆ México    ┆ JALALPA   ┆ OBREGON  │\n",
       "│           ┆           ┆           ┆           ┆   ┆           ┆           ┆ TEPITO    ┆          │\n",
       "│           ┆           ┆           ┆           ┆   ┆           ┆           ┆ (AMPL)    ┆          │\n",
       "│ 20210101- ┆ Fuga      ┆ Álvaro    ┆ 19.388433 ┆ … ┆ 2021-01-0 ┆ Colonia   ┆ CRISTO    ┆ ALVARO   │\n",
       "│ 0048      ┆           ┆ Obregón   ┆           ┆   ┆ 1         ┆ Cristo    ┆ REY       ┆ OBREGON  │\n",
       "│           ┆           ┆           ┆           ┆   ┆           ┆ Rey       ┆           ┆          │\n",
       "│ 20210101- ┆ Fuga      ┆ Azcapotza ┆ 19.473759 ┆ … ┆ 2021-01-0 ┆ Un Hogar  ┆ UN HOGAR  ┆ AZCAPOTZ │\n",
       "│ 0049      ┆           ┆ lco       ┆           ┆   ┆ 1         ┆ Para Cada ┆ PARA CADA ┆ ALCO     │\n",
       "│           ┆           ┆           ┆           ┆   ┆           ┆ Trabajado ┆ TRABAJADO ┆          │\n",
       "│           ┆           ┆           ┆           ┆   ┆           ┆ r         ┆ R         ┆          │\n",
       "└───────────┴───────────┴───────────┴───────────┴───┴───────────┴───────────┴───────────┴──────────┘"
      ]
     },
     "execution_count": 14,
     "metadata": {},
     "output_type": "execute_result"
    }
   ],
   "source": [
    "# Solo los casos de Fugas\n",
    "df_fugas_hist = df_hist2.filter(pl.col('tipo_de_falla') == 'Fuga')\n",
    "df_fugas_hist.head()"
   ]
  },
  {
   "cell_type": "code",
   "execution_count": 15,
   "metadata": {},
   "outputs": [
    {
     "data": {
      "text/html": [
       "<div><style>\n",
       ".dataframe > thead > tr,\n",
       ".dataframe > tbody > tr {\n",
       "  text-align: right;\n",
       "  white-space: pre-wrap;\n",
       "}\n",
       "</style>\n",
       "<small>shape: (1,)</small><table border=\"1\" class=\"dataframe\"><thead><tr><th>fecha</th></tr><tr><td>i32</td></tr></thead><tbody><tr><td>2021</td></tr></tbody></table></div>"
      ],
      "text/plain": [
       "shape: (1,)\n",
       "Series: 'fecha' [i32]\n",
       "[\n",
       "\t2021\n",
       "]"
      ]
     },
     "execution_count": 15,
     "metadata": {},
     "output_type": "execute_result"
    }
   ],
   "source": [
    "df_fugas_hist['fecha'].dt.year().unique()"
   ]
  },
  {
   "cell_type": "code",
   "execution_count": 16,
   "metadata": {},
   "outputs": [
    {
     "data": {
      "text/html": [
       "<div><style>\n",
       ".dataframe > thead > tr,\n",
       ".dataframe > tbody > tr {\n",
       "  text-align: right;\n",
       "  white-space: pre-wrap;\n",
       "}\n",
       "</style>\n",
       "<small>shape: (17, 3)</small><table border=\"1\" class=\"dataframe\"><thead><tr><th>fecha</th><th>alcaldia</th><th>tipo_de_falla</th></tr><tr><td>i32</td><td>str</td><td>u32</td></tr></thead><tbody><tr><td>2021</td><td>&quot;TLAHUAC&quot;</td><td>974</td></tr><tr><td>2021</td><td>&quot;CUAJIMALPA DE MORELOS&quot;</td><td>531</td></tr><tr><td>2021</td><td>&quot;MILPA ALTA&quot;</td><td>210</td></tr><tr><td>2021</td><td>&quot;GUSTAVO A. MADERO&quot;</td><td>5153</td></tr><tr><td>2021</td><td>&quot;COYOACAN&quot;</td><td>4795</td></tr><tr><td>&hellip;</td><td>&hellip;</td><td>&hellip;</td></tr><tr><td>2021</td><td>&quot;IZTACALCO&quot;</td><td>655</td></tr><tr><td>2021</td><td>&quot;TLALPAN&quot;</td><td>3502</td></tr><tr><td>2021</td><td>&quot;MIGUEL HIDALGO&quot;</td><td>1502</td></tr><tr><td>2021</td><td>&quot;XOCHIMILCO&quot;</td><td>1839</td></tr><tr><td>2021</td><td>&quot;IZTAPALAPA&quot;</td><td>3370</td></tr></tbody></table></div>"
      ],
      "text/plain": [
       "shape: (17, 3)\n",
       "┌───────┬───────────────────────┬───────────────┐\n",
       "│ fecha ┆ alcaldia              ┆ tipo_de_falla │\n",
       "│ ---   ┆ ---                   ┆ ---           │\n",
       "│ i32   ┆ str                   ┆ u32           │\n",
       "╞═══════╪═══════════════════════╪═══════════════╡\n",
       "│ 2021  ┆ TLAHUAC               ┆ 974           │\n",
       "│ 2021  ┆ CUAJIMALPA DE MORELOS ┆ 531           │\n",
       "│ 2021  ┆ MILPA ALTA            ┆ 210           │\n",
       "│ 2021  ┆ GUSTAVO A. MADERO     ┆ 5153          │\n",
       "│ 2021  ┆ COYOACAN              ┆ 4795          │\n",
       "│ …     ┆ …                     ┆ …             │\n",
       "│ 2021  ┆ IZTACALCO             ┆ 655           │\n",
       "│ 2021  ┆ TLALPAN               ┆ 3502          │\n",
       "│ 2021  ┆ MIGUEL HIDALGO        ┆ 1502          │\n",
       "│ 2021  ┆ XOCHIMILCO            ┆ 1839          │\n",
       "│ 2021  ┆ IZTAPALAPA            ┆ 3370          │\n",
       "└───────┴───────────────────────┴───────────────┘"
      ]
     },
     "execution_count": 16,
     "metadata": {},
     "output_type": "execute_result"
    }
   ],
   "source": [
    "# Fugas por año\n",
    "df_fugas_hist.group_by([pl.col('fecha').dt.year(), 'alcaldia']).agg(pl.col('tipo_de_falla').count())"
   ]
  },
  {
   "cell_type": "code",
   "execution_count": 17,
   "metadata": {},
   "outputs": [
    {
     "data": {
      "text/html": [
       "<div><style>\n",
       ".dataframe > thead > tr,\n",
       ".dataframe > tbody > tr {\n",
       "  text-align: right;\n",
       "  white-space: pre-wrap;\n",
       "}\n",
       "</style>\n",
       "<small>shape: (27, 3)</small><table border=\"1\" class=\"dataframe\"><thead><tr><th>fecha</th><th>quien_atiende</th><th>total_fugas</th></tr><tr><td>i32</td><td>str</td><td>u32</td></tr></thead><tbody><tr><td>2021</td><td>&quot;Coyoacán&quot;</td><td>4224</td></tr><tr><td>2021</td><td>&quot;Álvaro Obregón&quot;</td><td>3835</td></tr><tr><td>2021</td><td>&quot;Gustavo A. Madero&quot;</td><td>3078</td></tr><tr><td>2021</td><td>&quot;Tlalpan&quot;</td><td>2698</td></tr><tr><td>2021</td><td>&quot;Iztapalapa&quot;</td><td>2258</td></tr><tr><td>&hellip;</td><td>&hellip;</td><td>&hellip;</td></tr><tr><td>2021</td><td>&quot;Oriente Santa Catarina&quot;</td><td>351</td></tr><tr><td>2021</td><td>&quot;NA&quot;</td><td>51</td></tr><tr><td>2021</td><td>&quot;Cuajimalpa de Morelos&quot;</td><td>7</td></tr><tr><td>2021</td><td>&quot;Cuauhtémoc&quot;</td><td>1</td></tr><tr><td>2021</td><td>&quot;Milpa Alta&quot;</td><td>1</td></tr></tbody></table></div>"
      ],
      "text/plain": [
       "shape: (27, 3)\n",
       "┌───────┬────────────────────────┬─────────────┐\n",
       "│ fecha ┆ quien_atiende          ┆ total_fugas │\n",
       "│ ---   ┆ ---                    ┆ ---         │\n",
       "│ i32   ┆ str                    ┆ u32         │\n",
       "╞═══════╪════════════════════════╪═════════════╡\n",
       "│ 2021  ┆ Coyoacán               ┆ 4224        │\n",
       "│ 2021  ┆ Álvaro Obregón         ┆ 3835        │\n",
       "│ 2021  ┆ Gustavo A. Madero      ┆ 3078        │\n",
       "│ 2021  ┆ Tlalpan                ┆ 2698        │\n",
       "│ 2021  ┆ Iztapalapa             ┆ 2258        │\n",
       "│ …     ┆ …                      ┆ …           │\n",
       "│ 2021  ┆ Oriente Santa Catarina ┆ 351         │\n",
       "│ 2021  ┆ NA                     ┆ 51          │\n",
       "│ 2021  ┆ Cuajimalpa de Morelos  ┆ 7           │\n",
       "│ 2021  ┆ Cuauhtémoc             ┆ 1           │\n",
       "│ 2021  ┆ Milpa Alta             ┆ 1           │\n",
       "└───────┴────────────────────────┴─────────────┘"
      ]
     },
     "execution_count": 17,
     "metadata": {},
     "output_type": "execute_result"
    }
   ],
   "source": [
    "df_fugas_hist \\\n",
    "    .group_by([pl.col('fecha').dt.year(), 'quien_atiende']) \\\n",
    "    .agg(total_fugas=(pl.col('tipo_de_falla').count())) \\\n",
    "    .sort(by='total_fugas', descending=True)"
   ]
  },
  {
   "cell_type": "code",
   "execution_count": 18,
   "metadata": {},
   "outputs": [],
   "source": [
    "df_fugas_hist.write_parquet('../DATASETS/fugas_2021.parquet', compression='gzip')"
   ]
  }
 ],
 "metadata": {
  "kernelspec": {
   "display_name": "data_engineer",
   "language": "python",
   "name": "python3"
  },
  "language_info": {
   "codemirror_mode": {
    "name": "ipython",
    "version": 3
   },
   "file_extension": ".py",
   "mimetype": "text/x-python",
   "name": "python",
   "nbconvert_exporter": "python",
   "pygments_lexer": "ipython3",
   "version": "3.12.2"
  }
 },
 "nbformat": 4,
 "nbformat_minor": 2
}
