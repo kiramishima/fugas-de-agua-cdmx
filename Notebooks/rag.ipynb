{
 "cells": [
  {
   "cell_type": "code",
   "execution_count": 14,
   "metadata": {},
   "outputs": [],
   "source": [
    "import pandas as pd\n",
    "import minsearch as ms\n",
    "from openai import OpenAI"
   ]
  },
  {
   "cell_type": "code",
   "execution_count": 2,
   "metadata": {},
   "outputs": [],
   "source": [
    "# Cargamos los datos\n",
    "df = pd.read_csv('../DATASETS/faq_sacmex.csv')"
   ]
  },
  {
   "cell_type": "code",
   "execution_count": 4,
   "metadata": {},
   "outputs": [],
   "source": [
    "df['document'] = 'faq_sacmex'"
   ]
  },
  {
   "cell_type": "code",
   "execution_count": 5,
   "metadata": {},
   "outputs": [],
   "source": [
    "index = ms.Index(\n",
    "    text_fields=['pregunta', 'respuesta'],\n",
    "    keyword_fields=['document']\n",
    ")"
   ]
  },
  {
   "cell_type": "code",
   "execution_count": 6,
   "metadata": {},
   "outputs": [
    {
     "data": {
      "text/plain": [
       "[{'id': 'd7c4ce5eda85cd602edc71a3f29193e0',\n",
       "  'pregunta': '¿Dónde puedo reportar una fuga de agua?',\n",
       "  'respuesta': 'Debes reportarla al organismo operador de agua potable y alcantarillado de tu localidad.',\n",
       "  'document': 'faq_sacmex'},\n",
       " {'id': 'c6b1388a0227cae6d6045a1dc7dd82c5',\n",
       "  'pregunta': '¿Qué debo hacer si veo una fuga de agua en la calle?',\n",
       "  'respuesta': 'En la Ciudad de México, debes reportarla al 55 5654 3210 para que una brigada del Sistema de Aguas de la Ciudad de México acuda a repararla.',\n",
       "  'document': 'faq_sacmex'},\n",
       " {'id': 'b9e493259e0b9fb9f94e4f4d66ab8ded',\n",
       "  'pregunta': '¿Qué debo hacer si veo una fuga de agua en mi casa?',\n",
       "  'respuesta': 'Lo primero que debes hacer es cortar el suministro de agua, ya sea con el grifo de cierre o la válvula de cierre, que generalmente se encuentran en el baño o la cocina.\\xa0',\n",
       "  'document': 'faq_sacmex'},\n",
       " {'id': '5229ec6562607f2de830a7826a099964',\n",
       "  'pregunta': '¿Qué debo hacer si mi consumo de agua parece haberse elevado?',\n",
       "  'respuesta': 'Si no tienes fuga de agua en tu casa, puedes tomar la lectura del medidor, enviar una foto y comparar con el recibo anterior.\\xa0Si hay discrepancia, puedes levantar un reporte.',\n",
       "  'document': 'faq_sacmex'},\n",
       " {'id': '9055d52c36234595f93430ca60610b82',\n",
       "  'pregunta': '¿Cuánto tiempo tarda en repararse una fuga de agua?',\n",
       "  'respuesta': 'Después de supervisar los materiales, maquinaria y personal, se comienzan los trabajos de reparación en un plazo de 48 horas.',\n",
       "  'document': 'faq_sacmex'},\n",
       " {'id': '34f49a09c09f373422893abead2bad4e',\n",
       "  'pregunta': '¿Dónde puedo reportar una fuga de agua?',\n",
       "  'respuesta': 'Para reportar una fuga de agua en la Ciudad de México, puedes: \\nLlamar al LOCATEL al *0311 o al 55 5658 1111 \\nContactar a las redes sociales oficiales del SACMEX en X (antes Twitter) y @SistemaDeAguasCDMX en Facebook \\nIngresar a la página web de atención ciudadana de la CDMX y llenar el cuadro con la descripción del servicio que requieres \\nSi el daño es imputable al usuario, deberá cubrir el costo de la reparación. Para ello, se puede acudir al Área de Atención Ciudadana más cercana al domicilio.',\n",
       "  'document': 'faq_sacmex'},\n",
       " {'id': '221e2b757cee67a9babd822666eae6b1',\n",
       "  'pregunta': '¿Cómo reportar fugas de agua en CDMX?',\n",
       "  'respuesta': 'Para realizar cualquier reporte por fuga en la vía pública, el SACMEX pone a disposición de la ciudadanía el número telefónico de LOCATEL *0311 y 55 5658 1111, así como sus redes sociales oficiales @SacmexCDMX en X (antes Twitter) y @SistemaDeAguasCDMX en',\n",
       "  'document': 'faq_sacmex'},\n",
       " {'id': 'deb8c6e4cf607cabc9fd72178b45daae',\n",
       "  'pregunta': '¿Qué otro de reportes puedo realizar?',\n",
       "  'respuesta': 'Tambien puedes reportar:\\n- Brotes de aguas negras\\n- Tomas clandestinas\\n- Mala calidad del recurso\\n- Robo o desperfecto de tapas de coladeras\\n- Falta de tapas de válvulas\\n- Desbordes en tanques de almacenamiento',\n",
       "  'document': 'faq_sacmex'},\n",
       " {'id': '977ff53e8650679587f99ee537c8b095',\n",
       "  'pregunta': '¿Qué debo tener en cuenta para levantar mi reporte?',\n",
       "  'respuesta': 'Para levantar un reporte debes tener en cuenta lo siguiente:\\n- Contar con la dirección exacta del lugar y la descripción precisa del problema\\n- Proporcionar nombre de la alcaldia, colonia, calle y número oficial, calles aledañas, nombre del reportante y número telefónico.',\n",
       "  'document': 'faq_sacmex'},\n",
       " {'id': 'e118293c4450a72349aa684baa54f5eb',\n",
       "  'pregunta': '¿Puedo reportar fugas en unidades habitacionales?',\n",
       "  'respuesta': 'No, las fugas en unidades habitacionales son reparadas por la administración de las mismas unidades.\\nEn caso de fugas exteriores a tu unidad reporta a los telefonos 5556581111 o 5556543210.',\n",
       "  'document': 'faq_sacmex'},\n",
       " {'id': 'edb019b4dbee72a582d41a5d60234bdd',\n",
       "  'pregunta': '¿Qué hacer si tengo problemas con el suministro de agua potable?',\n",
       "  'respuesta': 'En la Ciudad de México los encargados de proporcionar el servicio de agua potable, drenaje y tratamiento de aguas residuales a la población son los organismos operadores y las oficinas de agua potable de cada municipio, ',\n",
       "  'document': 'faq_sacmex'}]"
      ]
     },
     "execution_count": 6,
     "metadata": {},
     "output_type": "execute_result"
    }
   ],
   "source": [
    "documents = df.to_dict(orient='records')\n",
    "documents"
   ]
  },
  {
   "cell_type": "code",
   "execution_count": 7,
   "metadata": {},
   "outputs": [
    {
     "data": {
      "text/plain": [
       "<minsearch.Index at 0x1c9d3331400>"
      ]
     },
     "execution_count": 7,
     "metadata": {},
     "output_type": "execute_result"
    }
   ],
   "source": [
    "for doc in documents:\n",
    "    for key in doc:\n",
    "        if isinstance(doc[key], float):\n",
    "            doc[key] = str(doc[key])\n",
    "\n",
    "index.fit(documents)"
   ]
  },
  {
   "cell_type": "code",
   "execution_count": 8,
   "metadata": {},
   "outputs": [],
   "source": [
    "def search(query):\n",
    "    boost = {'pregunta': 3.0, 'respuesta': 0.5}\n",
    "    # boost = {}\n",
    "    number_of_results = 5\n",
    "\n",
    "    results = index.search(\n",
    "        query,\n",
    "        filter_dict={},\n",
    "        boost_dict=boost,\n",
    "        num_results=number_of_results\n",
    "    )\n",
    "    return results"
   ]
  },
  {
   "cell_type": "code",
   "execution_count": 9,
   "metadata": {},
   "outputs": [
    {
     "data": {
      "text/plain": [
       "{'id': 'd7c4ce5eda85cd602edc71a3f29193e0',\n",
       " 'pregunta': '¿Dónde puedo reportar una fuga de agua?',\n",
       " 'respuesta': 'Debes reportarla al organismo operador de agua potable y alcantarillado de tu localidad.',\n",
       " 'document': 'faq_sacmex'}"
      ]
     },
     "execution_count": 9,
     "metadata": {},
     "output_type": "execute_result"
    }
   ],
   "source": [
    "documents[0]"
   ]
  },
  {
   "cell_type": "code",
   "execution_count": null,
   "metadata": {},
   "outputs": [],
   "source": [
    "entry_template = \"\"\"\n",
    "pregunta: {pregunta}\n",
    "respuesta: {respuesta}\n",
    "\"\"\".strip()\n",
    "\n",
    "prompt_template = \"\"\"\n",
    "Eres un agente chatbot que ayuda a levantar reportes de fugas de agua en la SACMEX. Responde a la PREGUNTA de abajo basado en el CONTEXTO. Usa el CONTEXTO para dar una repuesta precisa.\n",
    "\n",
    "PREGUNTA: {pregunta}\n",
    "\n",
    "CONTEXTO: {respuesta}\n",
    "\"\"\"\n",
    "\n",
    "\n",
    "def build_prompt(query, results):\n",
    "    context = \"\"\n",
    "    for doc in results:\n",
    "        context = context + entry_template.format(**doc) + \"\\n\\n\"\n",
    "\n",
    "    prompt = prompt_template.format(pregunta=query, respuesta=context).strip()\n",
    "    return prompt"
   ]
  },
  {
   "cell_type": "code",
   "execution_count": 11,
   "metadata": {},
   "outputs": [],
   "source": [
    "query = documents[0]['pregunta']"
   ]
  },
  {
   "cell_type": "code",
   "execution_count": 13,
   "metadata": {},
   "outputs": [
    {
     "name": "stdout",
     "output_type": "stream",
     "text": [
      "Eres un agente chatbot que ayuda a levantar reportes de fugas de agua en la SACMEX. Responde a la PREGUNTA de abajo basado en el CONTEXTO. Usa el CONTEXTO para dar una repuesta para dar una respuesta precisa.\n",
      "\n",
      "PREGUNTA: ¿Dónde puedo reportar una fuga de agua?\n",
      "\n",
      "CONTEXTO: pregunta: ¿Dónde puedo reportar una fuga de agua?\n",
      "respuesta: Para reportar una fuga de agua en la Ciudad de México, puedes: \n",
      "Llamar al LOCATEL al *0311 o al 55 5658 1111 \n",
      "Contactar a las redes sociales oficiales del SACMEX en X (antes Twitter) y @SistemaDeAguasCDMX en Facebook \n",
      "Ingresar a la página web de atención ciudadana de la CDMX y llenar el cuadro con la descripción del servicio que requieres \n",
      "Si el daño es imputable al usuario, deberá cubrir el costo de la reparación. Para ello, se puede acudir al Área de Atención Ciudadana más cercana al domicilio.\n",
      "\n",
      "pregunta: ¿Dónde puedo reportar una fuga de agua?\n",
      "respuesta: Debes reportarla al organismo operador de agua potable y alcantarillado de tu localidad.\n",
      "\n",
      "pregunta: ¿Qué debo hacer si veo una fuga de agua en la calle?\n",
      "respuesta: En la Ciudad de México, debes reportarla al 55 5654 3210 para que una brigada del Sistema de Aguas de la Ciudad de México acuda a repararla.\n",
      "\n",
      "pregunta: ¿Qué debo hacer si veo una fuga de agua en mi casa?\n",
      "respuesta: Lo primero que debes hacer es cortar el suministro de agua, ya sea con el grifo de cierre o la válvula de cierre, que generalmente se encuentran en el baño o la cocina. \n",
      "\n",
      "pregunta: ¿Cuánto tiempo tarda en repararse una fuga de agua?\n",
      "respuesta: Después de supervisar los materiales, maquinaria y personal, se comienzan los trabajos de reparación en un plazo de 48 horas.\n"
     ]
    }
   ],
   "source": [
    "search_results = search(query)\n",
    "prompt = build_prompt(query, search_results)\n",
    "print(prompt)"
   ]
  },
  {
   "cell_type": "code",
   "execution_count": null,
   "metadata": {},
   "outputs": [],
   "source": [
    "client = OpenAI(\n",
    "    base_url='http://localhost:11434/v1/',\n",
    "    api_key='ollama',\n",
    ")"
   ]
  },
  {
   "cell_type": "code",
   "execution_count": null,
   "metadata": {},
   "outputs": [],
   "source": [
    "def llm(prompt, model='gpt-4o-mini'):\n",
    "    response = client.chat.completions.create(\n",
    "        model=model,\n",
    "        messages=[\n",
    "            {\n",
    "                'role': 'system',\n",
    "                'content': 'Eres un agente útil.'\n",
    "            },\n",
    "            {\n",
    "                'role': 'user',\n",
    "                'content': prompt\n",
    "            }\n",
    "        ]\n",
    "    )\n",
    "    return response.choices[0].message.content"
   ]
  },
  {
   "cell_type": "code",
   "execution_count": null,
   "metadata": {},
   "outputs": [],
   "source": [
    "def rag(query):\n",
    "    search_results = search(query)\n",
    "    prompt = build_prompt(query, search_results)\n",
    "    answer = llm(prompt, 'llama3.2:1b')\n",
    "    return answer"
   ]
  },
  {
   "cell_type": "code",
   "execution_count": null,
   "metadata": {},
   "outputs": [],
   "source": [
    "query = 'Whats a good chinese meal that uses soy sauce and is low fat.'\n",
    "answer = rag(query)\n",
    "print(answer)"
   ]
  }
 ],
 "metadata": {
  "kernelspec": {
   "display_name": "data_engineer",
   "language": "python",
   "name": "python3"
  },
  "language_info": {
   "codemirror_mode": {
    "name": "ipython",
    "version": 3
   },
   "file_extension": ".py",
   "mimetype": "text/x-python",
   "name": "python",
   "nbconvert_exporter": "python",
   "pygments_lexer": "ipython3",
   "version": "3.12.2"
  }
 },
 "nbformat": 4,
 "nbformat_minor": 2
}
