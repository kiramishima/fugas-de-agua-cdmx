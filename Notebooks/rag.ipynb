{
 "cells": [
  {
   "cell_type": "code",
   "execution_count": 1,
   "metadata": {},
   "outputs": [],
   "source": [
    "import pandas as pd\n",
    "import minsearch as ms\n",
    "from openai import OpenAI"
   ]
  },
  {
   "cell_type": "code",
   "execution_count": 2,
   "metadata": {},
   "outputs": [],
   "source": [
    "# Cargamos los datos\n",
    "df = pd.read_csv('../DATASETS/faq_sacmex.csv')"
   ]
  },
  {
   "cell_type": "code",
   "execution_count": 3,
   "metadata": {},
   "outputs": [
    {
     "data": {
      "text/html": [
       "<div>\n",
       "<style scoped>\n",
       "    .dataframe tbody tr th:only-of-type {\n",
       "        vertical-align: middle;\n",
       "    }\n",
       "\n",
       "    .dataframe tbody tr th {\n",
       "        vertical-align: top;\n",
       "    }\n",
       "\n",
       "    .dataframe thead th {\n",
       "        text-align: right;\n",
       "    }\n",
       "</style>\n",
       "<table border=\"1\" class=\"dataframe\">\n",
       "  <thead>\n",
       "    <tr style=\"text-align: right;\">\n",
       "      <th></th>\n",
       "      <th>id</th>\n",
       "      <th>pregunta</th>\n",
       "      <th>respuesta</th>\n",
       "      <th>document</th>\n",
       "    </tr>\n",
       "  </thead>\n",
       "  <tbody>\n",
       "    <tr>\n",
       "      <th>0</th>\n",
       "      <td>d7c4ce5eda85cd602edc71a3f29193e0</td>\n",
       "      <td>¿Dónde puedo reportar una fuga de agua?</td>\n",
       "      <td>Debes reportarla al organismo operador de agua...</td>\n",
       "      <td>faq_sacmex</td>\n",
       "    </tr>\n",
       "    <tr>\n",
       "      <th>1</th>\n",
       "      <td>c6b1388a0227cae6d6045a1dc7dd82c5</td>\n",
       "      <td>¿Qué debo hacer si veo una fuga de agua en la ...</td>\n",
       "      <td>En la Ciudad de México, debes reportarla al 55...</td>\n",
       "      <td>faq_sacmex</td>\n",
       "    </tr>\n",
       "    <tr>\n",
       "      <th>2</th>\n",
       "      <td>b9e493259e0b9fb9f94e4f4d66ab8ded</td>\n",
       "      <td>¿Qué debo hacer si veo una fuga de agua en mi ...</td>\n",
       "      <td>Lo primero que debes hacer es cortar el sumini...</td>\n",
       "      <td>faq_sacmex</td>\n",
       "    </tr>\n",
       "    <tr>\n",
       "      <th>3</th>\n",
       "      <td>5229ec6562607f2de830a7826a099964</td>\n",
       "      <td>¿Qué debo hacer si mi consumo de agua parece h...</td>\n",
       "      <td>Si no tienes fuga de agua en tu casa, puedes t...</td>\n",
       "      <td>faq_sacmex</td>\n",
       "    </tr>\n",
       "    <tr>\n",
       "      <th>4</th>\n",
       "      <td>9055d52c36234595f93430ca60610b82</td>\n",
       "      <td>¿Cuánto tiempo tarda en repararse una fuga de ...</td>\n",
       "      <td>Después de supervisar los materiales, maquinar...</td>\n",
       "      <td>faq_sacmex</td>\n",
       "    </tr>\n",
       "    <tr>\n",
       "      <th>5</th>\n",
       "      <td>34f49a09c09f373422893abead2bad4e</td>\n",
       "      <td>¿Dónde puedo reportar una fuga de agua?</td>\n",
       "      <td>Para reportar una fuga de agua en la Ciudad de...</td>\n",
       "      <td>faq_sacmex</td>\n",
       "    </tr>\n",
       "    <tr>\n",
       "      <th>6</th>\n",
       "      <td>221e2b757cee67a9babd822666eae6b1</td>\n",
       "      <td>¿Cómo reportar fugas de agua en CDMX?</td>\n",
       "      <td>Para realizar cualquier reporte por fuga en la...</td>\n",
       "      <td>faq_sacmex</td>\n",
       "    </tr>\n",
       "    <tr>\n",
       "      <th>7</th>\n",
       "      <td>deb8c6e4cf607cabc9fd72178b45daae</td>\n",
       "      <td>¿Qué otro de reportes puedo realizar?</td>\n",
       "      <td>Tambien puedes reportar:\\n- Brotes de aguas ne...</td>\n",
       "      <td>faq_sacmex</td>\n",
       "    </tr>\n",
       "    <tr>\n",
       "      <th>8</th>\n",
       "      <td>977ff53e8650679587f99ee537c8b095</td>\n",
       "      <td>¿Qué debo tener en cuenta para levantar mi rep...</td>\n",
       "      <td>Para levantar un reporte debes tener en cuenta...</td>\n",
       "      <td>faq_sacmex</td>\n",
       "    </tr>\n",
       "    <tr>\n",
       "      <th>9</th>\n",
       "      <td>e118293c4450a72349aa684baa54f5eb</td>\n",
       "      <td>¿Puedo reportar fugas en unidades habitacionales?</td>\n",
       "      <td>No, las fugas en unidades habitacionales son r...</td>\n",
       "      <td>faq_sacmex</td>\n",
       "    </tr>\n",
       "    <tr>\n",
       "      <th>10</th>\n",
       "      <td>edb019b4dbee72a582d41a5d60234bdd</td>\n",
       "      <td>¿Qué hacer si tengo problemas con el suministr...</td>\n",
       "      <td>En la Ciudad de México los encargados de propo...</td>\n",
       "      <td>faq_sacmex</td>\n",
       "    </tr>\n",
       "  </tbody>\n",
       "</table>\n",
       "</div>"
      ],
      "text/plain": [
       "                                  id  \\\n",
       "0   d7c4ce5eda85cd602edc71a3f29193e0   \n",
       "1   c6b1388a0227cae6d6045a1dc7dd82c5   \n",
       "2   b9e493259e0b9fb9f94e4f4d66ab8ded   \n",
       "3   5229ec6562607f2de830a7826a099964   \n",
       "4   9055d52c36234595f93430ca60610b82   \n",
       "5   34f49a09c09f373422893abead2bad4e   \n",
       "6   221e2b757cee67a9babd822666eae6b1   \n",
       "7   deb8c6e4cf607cabc9fd72178b45daae   \n",
       "8   977ff53e8650679587f99ee537c8b095   \n",
       "9   e118293c4450a72349aa684baa54f5eb   \n",
       "10  edb019b4dbee72a582d41a5d60234bdd   \n",
       "\n",
       "                                             pregunta  \\\n",
       "0             ¿Dónde puedo reportar una fuga de agua?   \n",
       "1   ¿Qué debo hacer si veo una fuga de agua en la ...   \n",
       "2   ¿Qué debo hacer si veo una fuga de agua en mi ...   \n",
       "3   ¿Qué debo hacer si mi consumo de agua parece h...   \n",
       "4   ¿Cuánto tiempo tarda en repararse una fuga de ...   \n",
       "5             ¿Dónde puedo reportar una fuga de agua?   \n",
       "6               ¿Cómo reportar fugas de agua en CDMX?   \n",
       "7               ¿Qué otro de reportes puedo realizar?   \n",
       "8   ¿Qué debo tener en cuenta para levantar mi rep...   \n",
       "9   ¿Puedo reportar fugas en unidades habitacionales?   \n",
       "10  ¿Qué hacer si tengo problemas con el suministr...   \n",
       "\n",
       "                                            respuesta    document  \n",
       "0   Debes reportarla al organismo operador de agua...  faq_sacmex  \n",
       "1   En la Ciudad de México, debes reportarla al 55...  faq_sacmex  \n",
       "2   Lo primero que debes hacer es cortar el sumini...  faq_sacmex  \n",
       "3   Si no tienes fuga de agua en tu casa, puedes t...  faq_sacmex  \n",
       "4   Después de supervisar los materiales, maquinar...  faq_sacmex  \n",
       "5   Para reportar una fuga de agua en la Ciudad de...  faq_sacmex  \n",
       "6   Para realizar cualquier reporte por fuga en la...  faq_sacmex  \n",
       "7   Tambien puedes reportar:\\n- Brotes de aguas ne...  faq_sacmex  \n",
       "8   Para levantar un reporte debes tener en cuenta...  faq_sacmex  \n",
       "9   No, las fugas en unidades habitacionales son r...  faq_sacmex  \n",
       "10  En la Ciudad de México los encargados de propo...  faq_sacmex  "
      ]
     },
     "execution_count": 3,
     "metadata": {},
     "output_type": "execute_result"
    }
   ],
   "source": [
    "df"
   ]
  },
  {
   "cell_type": "code",
   "execution_count": null,
   "metadata": {},
   "outputs": [],
   "source": [
    "index = ms.Index(\n",
    "    text_fields=['pregunta', 'respuesta'],\n",
    "    keyword_fields=['document']\n",
    ")"
   ]
  },
  {
   "cell_type": "code",
   "execution_count": 4,
   "metadata": {},
   "outputs": [
    {
     "data": {
      "text/plain": [
       "[{'id': 'd7c4ce5eda85cd602edc71a3f29193e0',\n",
       "  'pregunta': '¿Dónde puedo reportar una fuga de agua?',\n",
       "  'respuesta': 'Debes reportarla al organismo operador de agua potable y alcantarillado de tu localidad.',\n",
       "  'document': 'faq_sacmex'},\n",
       " {'id': 'c6b1388a0227cae6d6045a1dc7dd82c5',\n",
       "  'pregunta': '¿Qué debo hacer si veo una fuga de agua en la calle?',\n",
       "  'respuesta': 'En la Ciudad de México, debes reportarla al 55 5654 3210 para que una brigada del Sistema de Aguas de la Ciudad de México acuda a repararla.',\n",
       "  'document': 'faq_sacmex'},\n",
       " {'id': 'b9e493259e0b9fb9f94e4f4d66ab8ded',\n",
       "  'pregunta': '¿Qué debo hacer si veo una fuga de agua en mi casa?',\n",
       "  'respuesta': 'Lo primero que debes hacer es cortar el suministro de agua, ya sea con el grifo de cierre o la válvula de cierre, que generalmente se encuentran en el baño o la cocina.\\xa0',\n",
       "  'document': 'faq_sacmex'},\n",
       " {'id': '5229ec6562607f2de830a7826a099964',\n",
       "  'pregunta': '¿Qué debo hacer si mi consumo de agua parece haberse elevado?',\n",
       "  'respuesta': 'Si no tienes fuga de agua en tu casa, puedes tomar la lectura del medidor, enviar una foto y comparar con el recibo anterior.\\xa0Si hay discrepancia, puedes levantar un reporte.',\n",
       "  'document': 'faq_sacmex'},\n",
       " {'id': '9055d52c36234595f93430ca60610b82',\n",
       "  'pregunta': '¿Cuánto tiempo tarda en repararse una fuga de agua?',\n",
       "  'respuesta': 'Después de supervisar los materiales, maquinaria y personal, se comienzan los trabajos de reparación en un plazo de 48 horas.',\n",
       "  'document': 'faq_sacmex'},\n",
       " {'id': '34f49a09c09f373422893abead2bad4e',\n",
       "  'pregunta': '¿Dónde puedo reportar una fuga de agua?',\n",
       "  'respuesta': 'Para reportar una fuga de agua en la Ciudad de México, puedes: \\nLlamar al LOCATEL al *0311 o al 55 5658 1111 \\nContactar a las redes sociales oficiales del SACMEX en X (antes Twitter) y @SistemaDeAguasCDMX en Facebook \\nIngresar a la página web de atención ciudadana de la CDMX y llenar el cuadro con la descripción del servicio que requieres \\nSi el daño es imputable al usuario, deberá cubrir el costo de la reparación. Para ello, se puede acudir al Área de Atención Ciudadana más cercana al domicilio.',\n",
       "  'document': 'faq_sacmex'},\n",
       " {'id': '221e2b757cee67a9babd822666eae6b1',\n",
       "  'pregunta': '¿Cómo reportar fugas de agua en CDMX?',\n",
       "  'respuesta': 'Para realizar cualquier reporte por fuga en la vía pública, el SACMEX pone a disposición de la ciudadanía el número telefónico de LOCATEL *0311 y 55 5658 1111, así como sus redes sociales oficiales @SacmexCDMX en X (antes Twitter) y @SistemaDeAguasCDMX en',\n",
       "  'document': 'faq_sacmex'},\n",
       " {'id': 'deb8c6e4cf607cabc9fd72178b45daae',\n",
       "  'pregunta': '¿Qué otro de reportes puedo realizar?',\n",
       "  'respuesta': 'Tambien puedes reportar:\\n- Brotes de aguas negras\\n- Tomas clandestinas\\n- Mala calidad del recurso\\n- Robo o desperfecto de tapas de coladeras\\n- Falta de tapas de válvulas\\n- Desbordes en tanques de almacenamiento',\n",
       "  'document': 'faq_sacmex'},\n",
       " {'id': '977ff53e8650679587f99ee537c8b095',\n",
       "  'pregunta': '¿Qué debo tener en cuenta para levantar mi reporte?',\n",
       "  'respuesta': 'Para levantar un reporte debes tener en cuenta lo siguiente:\\n- Contar con la dirección exacta del lugar y la descripción precisa del problema\\n- Proporcionar nombre de la alcaldia, colonia, calle y número oficial, calles aledañas, nombre del reportante y número telefónico.',\n",
       "  'document': 'faq_sacmex'},\n",
       " {'id': 'e118293c4450a72349aa684baa54f5eb',\n",
       "  'pregunta': '¿Puedo reportar fugas en unidades habitacionales?',\n",
       "  'respuesta': 'No, las fugas en unidades habitacionales son reparadas por la administración de las mismas unidades.\\nEn caso de fugas exteriores a tu unidad reporta a los telefonos 5556581111 o 5556543210.',\n",
       "  'document': 'faq_sacmex'},\n",
       " {'id': 'edb019b4dbee72a582d41a5d60234bdd',\n",
       "  'pregunta': '¿Qué hacer si tengo problemas con el suministro de agua potable?',\n",
       "  'respuesta': 'En la Ciudad de México los encargados de proporcionar el servicio de agua potable, drenaje y tratamiento de aguas residuales a la población son los organismos operadores y las oficinas de agua potable de cada municipio, ',\n",
       "  'document': 'faq_sacmex'}]"
      ]
     },
     "execution_count": 4,
     "metadata": {},
     "output_type": "execute_result"
    }
   ],
   "source": [
    "documents = df.to_dict(orient='records')\n",
    "documents"
   ]
  },
  {
   "cell_type": "code",
   "execution_count": null,
   "metadata": {},
   "outputs": [],
   "source": [
    "for doc in documents:\n",
    "    for key in doc:\n",
    "        if isinstance(doc[key], float):\n",
    "            doc[key] = str(doc[key])\n",
    "\n",
    "index.fit(documents)"
   ]
  },
  {
   "cell_type": "code",
   "execution_count": null,
   "metadata": {},
   "outputs": [],
   "source": [
    "def search(query):\n",
    "    boost = {'pregunta': 3.0, 'respuesta': 0.5}\n",
    "    # boost = {}\n",
    "    number_of_results = 5\n",
    "\n",
    "    results = index.search(\n",
    "        query,\n",
    "        filter_dict={},\n",
    "        boost_dict=boost,\n",
    "        num_results=number_of_results\n",
    "    )\n",
    "    return results"
   ]
  },
  {
   "cell_type": "code",
   "execution_count": 5,
   "metadata": {},
   "outputs": [
    {
     "data": {
      "text/plain": [
       "{'id': 'd7c4ce5eda85cd602edc71a3f29193e0',\n",
       " 'pregunta': '¿Dónde puedo reportar una fuga de agua?',\n",
       " 'respuesta': 'Debes reportarla al organismo operador de agua potable y alcantarillado de tu localidad.',\n",
       " 'document': 'faq_sacmex'}"
      ]
     },
     "execution_count": 5,
     "metadata": {},
     "output_type": "execute_result"
    }
   ],
   "source": [
    "documents[0]"
   ]
  },
  {
   "cell_type": "code",
   "execution_count": 6,
   "metadata": {},
   "outputs": [],
   "source": [
    "entry_template = \"\"\"\n",
    "pregunta: {pregunta}\n",
    "respuesta: {respuesta}\n",
    "\"\"\".strip()\n",
    "\n",
    "prompt_template = \"\"\"\n",
    "Eres un agente chatbot que ayuda a levantar reportes de fugas de agua en la SACMEX. Responde a la PREGUNTA de abajo basado en el CONTEXTO. Usa el CONTEXTO para dar una repuesta precisa.\n",
    "\n",
    "PREGUNTA: {pregunta}\n",
    "\n",
    "CONTEXTO: {respuesta}\n",
    "\"\"\"\n",
    "\n",
    "\n",
    "def build_prompt(query, results):\n",
    "    context = \"\"\n",
    "    for doc in results:\n",
    "        context = context + entry_template.format(**doc) + \"\\n\\n\"\n",
    "\n",
    "    prompt = prompt_template.format(pregunta=query, respuesta=context).strip()\n",
    "    return prompt"
   ]
  },
  {
   "cell_type": "code",
   "execution_count": 7,
   "metadata": {},
   "outputs": [],
   "source": [
    "query = documents[0]['pregunta']"
   ]
  },
  {
   "cell_type": "code",
   "execution_count": null,
   "metadata": {},
   "outputs": [],
   "source": [
    "search_results = search(query)\n",
    "prompt = build_prompt(query, search_results)\n",
    "print(prompt)"
   ]
  },
  {
   "cell_type": "code",
   "execution_count": 8,
   "metadata": {},
   "outputs": [],
   "source": [
    "client = OpenAI(\n",
    "    base_url='http://localhost:11434/v1/',\n",
    "    api_key='ollama',\n",
    ")"
   ]
  },
  {
   "cell_type": "code",
   "execution_count": null,
   "metadata": {},
   "outputs": [],
   "source": [
    "def llm(prompt, model='gpt-4o-mini'):\n",
    "    response = client.chat.completions.create(\n",
    "        model=model,\n",
    "        messages=[\n",
    "            {\n",
    "                'role': 'system',\n",
    "                'content': 'Eres un agente útil.'\n",
    "            },\n",
    "            {\n",
    "                'role': 'user',\n",
    "                'content': prompt\n",
    "            }\n",
    "        ]\n",
    "    )\n",
    "    return response.choices[0].message.content"
   ]
  },
  {
   "cell_type": "code",
   "execution_count": null,
   "metadata": {},
   "outputs": [],
   "source": [
    "def rag(query):\n",
    "    search_results = search(query)\n",
    "    prompt = build_prompt(query, search_results)\n",
    "    answer = llm(prompt, 'llama3.2:3b')\n",
    "    return answer"
   ]
  },
  {
   "cell_type": "code",
   "execution_count": null,
   "metadata": {},
   "outputs": [],
   "source": [
    "query = '¿Dónde puedo reportar una fuga de agua?'\n",
    "answer = rag(query)\n",
    "print(answer)"
   ]
  },
  {
   "cell_type": "markdown",
   "metadata": {},
   "source": [
    "## Indentificando el tipo de Solicitud"
   ]
  },
  {
   "cell_type": "code",
   "execution_count": 11,
   "metadata": {},
   "outputs": [
    {
     "data": {
      "text/plain": [
       "'¿Dónde puedo reportar una fuga de agua?'"
      ]
     },
     "execution_count": 11,
     "metadata": {},
     "output_type": "execute_result"
    }
   ],
   "source": [
    "query = documents[0]['pregunta']\n",
    "query"
   ]
  },
  {
   "cell_type": "code",
   "execution_count": 99,
   "metadata": {},
   "outputs": [],
   "source": [
    "entry_template = \"\"\"\n",
    "- {tipo}: {solicitud}\\n\n",
    "\"\"\".strip()\n",
    "\n",
    "prompt_template = \"\"\"\n",
    "Eres un agente de SACMEX.\n",
    "\n",
    "INSTRUCCIONES ESTRICTAS:\n",
    "- Analiza cuidadosamente la SOLICITUD\n",
    "- Genera ÚNICAMENTE un JSON con dos campos: \"tipo_solicitud\" y \"solicitud\"\n",
    "- NO incluyas información adicional ni estructuras anidadas\n",
    "- El \"tipo_solicitud\" debe ser UNO de estos: \"pregunta\", \"nuevo_reporte\", \"status_reporte\"\n",
    "- La \"solicitud\" es el texto original del usuario\n",
    "- Sin texto adicional, solo el JSON en una línea exacta\n",
    "\n",
    "FORMATO REQUERIDO:\n",
    "{{\"tipo_solicitud\": \"categoria\", \"solicitud\": \"texto_completo\"}}\n",
    "\n",
    "EJEMPLOS:\n",
    "{contexto}\n",
    "\n",
    "REGLA PRINCIPAL:\n",
    "- Elige ÚNICAMENTE UN tipo de solicitud que coincida EXACTAMENTE\n",
    "- Si la solicitud es sobre CÓMO, DÓNDE o INFORMACIÓN para realizar un reporte o cuales son los telefonos o redes sociales, usa \"pregunta\"\n",
    "- Si la solicitud contiene palabras clave como \"levantar\", \"reportar\", \"fuga\", usa \"nuevo_reporte\"\n",
    "- Si la solicitud menciona \"estatus\" o \"reporte\" específico, usa \"status_reporte\"\n",
    "- Si no hay coincidencia exacta, usa \"otro\" por defecto\n",
    "\n",
    "SOLICITUD: {solicitud}\n",
    "\n",
    "JSON DEFINITIVO:\"\"\"\n",
    "\n",
    "\n",
    "def build_prompt(query, results):\n",
    "    context = \"\"\n",
    "    for doc in results:\n",
    "        context = context + entry_template.format(**doc) + \"\\n\\n\"\n",
    "\n",
    "    prompt = prompt_template.format(solicitud=query, contexto=context).strip()\n",
    "    return prompt"
   ]
  },
  {
   "cell_type": "code",
   "execution_count": 104,
   "metadata": {},
   "outputs": [],
   "source": [
    "tipos = [{\n",
    "        \"solicitud\": \"¿Como realizo un reporte?\",\n",
    "        \"tipo\": \"pregunta\"\n",
    "    },{\n",
    "        \"solicitud\": \"¿Dónde puedo levantar un reporte?\",\n",
    "        \"tipo\": \"pregunta\"\n",
    "    },{\n",
    "        \"solicitud\": \"¿Donde puedo levantar un reporte?\",\n",
    "        \"tipo\": \"pregunta\"\n",
    "    },\n",
    "    {\n",
    "        \"solicitud\": \"Sabes cuales son los telefonos de la sacmex\",\n",
    "        \"tipo\": \"pregunta\"\n",
    "    },\n",
    "    {\n",
    "        \"solicitud\": \"Hola, me gustaria levantar reporte de fuga de agua en la calle orquidea entre calle cda 5 de mayo y vicente guerrero, en san pedro martir, aca en Tlalpan\",\n",
    "        \"tipo\": \"nuevo_reporte\"\n",
    "    },\n",
    "    {\n",
    "        \"solicitud\": \"quisiera reportar una fuga de fuga de agua\",\n",
    "        \"tipo\": \"nuevo_reporte\"\n",
    "    },\n",
    "    {\n",
    "        \"solicitud\": \"Hola, me gustaria conocer el estatus de mi reporte\",\n",
    "        \"tipo\": \"status_reporte\"\n",
    "    },\n",
    "    {\n",
    "        \"solicitud\": \"cual es el estatus del reporte XXX-YYY-UUU\",\n",
    "        \"tipo\": \"status_reporte\"\n",
    "    },\n",
    "]"
   ]
  },
  {
   "cell_type": "code",
   "execution_count": 100,
   "metadata": {},
   "outputs": [],
   "source": [
    "def llm(prompt, model='gpt-4o-mini'):\n",
    "    response = client.chat.completions.create(\n",
    "        model=model,\n",
    "        messages=[\n",
    "            {\n",
    "                'role': 'assistant',\n",
    "                'content': 'Eres un agente útil.'\n",
    "            },\n",
    "            {\n",
    "                'role': 'user',\n",
    "                'content': prompt\n",
    "            }\n",
    "        ],\n",
    "        temperature=0.7\n",
    "    )\n",
    "    return response.choices[0].message.content"
   ]
  },
  {
   "cell_type": "code",
   "execution_count": 105,
   "metadata": {},
   "outputs": [
    {
     "name": "stdout",
     "output_type": "stream",
     "text": [
      "Eres un agente de SACMEX.\n",
      "\n",
      "INSTRUCCIONES ESTRICTAS:\n",
      "- Analiza cuidadosamente la SOLICITUD\n",
      "- Genera ÚNICAMENTE un JSON con dos campos: \"tipo_solicitud\" y \"solicitud\"\n",
      "- NO incluyas información adicional ni estructuras anidadas\n",
      "- El \"tipo_solicitud\" debe ser UNO de estos: \"pregunta\", \"nuevo_reporte\", \"status_reporte\"\n",
      "- La \"solicitud\" es el texto original del usuario\n",
      "- Sin texto adicional, solo el JSON en una línea exacta\n",
      "\n",
      "FORMATO REQUERIDO:\n",
      "{\"tipo_solicitud\": \"categoria\", \"solicitud\": \"texto_completo\"}\n",
      "\n",
      "EJEMPLOS:\n",
      "- pregunta: ¿Como realizo un reporte?\n",
      "\n",
      "- pregunta: ¿Dónde puedo levantar un reporte?\n",
      "\n",
      "- pregunta: ¿Donde puedo levantar un reporte?\n",
      "\n",
      "- pregunta: Sabes cuales son los telefonos de la sacmex\n",
      "\n",
      "- nuevo_reporte: Hola, me gustaria levantar reporte de fuga de agua en la calle orquidea entre calle cda 5 de mayo y vicente guerrero, en san pedro martir, aca en Tlalpan\n",
      "\n",
      "- nuevo_reporte: quisiera reportar una fuga de fuga de agua\n",
      "\n",
      "- status_reporte: Hola, me gustaria conocer el estatus de mi reporte\n",
      "\n",
      "- status_reporte: cual es el estatus del reporte XXX-YYY-UUU\n",
      "\n",
      "\n",
      "\n",
      "REGLA PRINCIPAL:\n",
      "- Elige ÚNICAMENTE UN tipo de solicitud que coincida EXACTAMENTE\n",
      "- Si la solicitud es sobre CÓMO, DÓNDE o INFORMACIÓN para realizar un reporte o cuales son los telefonos o redes sociales, usa \"pregunta\"\n",
      "- Si la solicitud contiene palabras clave como \"levantar\", \"reportar\", \"fuga\", usa \"nuevo_reporte\"\n",
      "- Si la solicitud menciona \"estatus\" o \"reporte\" específico, usa \"status_reporte\"\n",
      "- Si no hay coincidencia exacta, usa \"otro\" por defecto\n",
      "\n",
      "SOLICITUD: Me gustaria reportar una fuga en la calle bugambilias, en la colonia condechi, en la gustavo a madero\n",
      "\n",
      "JSON DEFINITIVO:\n"
     ]
    }
   ],
   "source": [
    "prompt = build_prompt(\"Me gustaria reportar una fuga en la calle bugambilias, en la colonia condechi, en la gustavo a madero\", tipos)\n",
    "print(prompt)"
   ]
  },
  {
   "cell_type": "code",
   "execution_count": 96,
   "metadata": {},
   "outputs": [
    {
     "data": {
      "text/plain": [
       "'{\"tipo_solicitud\": \"nuevo_reporte\", \"solicitud\": \"Me gustaria reportar una fuga en la calle bugambilias, en la colonia condechi, en la gustavo a madero\"}'"
      ]
     },
     "execution_count": 96,
     "metadata": {},
     "output_type": "execute_result"
    }
   ],
   "source": [
    "answer = llm(prompt, 'llama3.2:3b')\n",
    "answer"
   ]
  },
  {
   "cell_type": "code",
   "execution_count": 106,
   "metadata": {},
   "outputs": [
    {
     "name": "stdout",
     "output_type": "stream",
     "text": [
      "Eres un agente de SACMEX.\n",
      "\n",
      "INSTRUCCIONES ESTRICTAS:\n",
      "- Analiza cuidadosamente la SOLICITUD\n",
      "- Genera ÚNICAMENTE un JSON con dos campos: \"tipo_solicitud\" y \"solicitud\"\n",
      "- NO incluyas información adicional ni estructuras anidadas\n",
      "- El \"tipo_solicitud\" debe ser UNO de estos: \"pregunta\", \"nuevo_reporte\", \"status_reporte\"\n",
      "- La \"solicitud\" es el texto original del usuario\n",
      "- Sin texto adicional, solo el JSON en una línea exacta\n",
      "\n",
      "FORMATO REQUERIDO:\n",
      "{\"tipo_solicitud\": \"categoria\", \"solicitud\": \"texto_completo\"}\n",
      "\n",
      "EJEMPLOS:\n",
      "- pregunta: ¿Como realizo un reporte?\n",
      "\n",
      "- pregunta: ¿Dónde puedo levantar un reporte?\n",
      "\n",
      "- pregunta: ¿Donde puedo levantar un reporte?\n",
      "\n",
      "- pregunta: Sabes cuales son los telefonos de la sacmex\n",
      "\n",
      "- nuevo_reporte: Hola, me gustaria levantar reporte de fuga de agua en la calle orquidea entre calle cda 5 de mayo y vicente guerrero, en san pedro martir, aca en Tlalpan\n",
      "\n",
      "- nuevo_reporte: quisiera reportar una fuga de fuga de agua\n",
      "\n",
      "- status_reporte: Hola, me gustaria conocer el estatus de mi reporte\n",
      "\n",
      "- status_reporte: cual es el estatus del reporte XXX-YYY-UUU\n",
      "\n",
      "\n",
      "\n",
      "REGLA PRINCIPAL:\n",
      "- Elige ÚNICAMENTE UN tipo de solicitud que coincida EXACTAMENTE\n",
      "- Si la solicitud es sobre CÓMO, DÓNDE o INFORMACIÓN para realizar un reporte o cuales son los telefonos o redes sociales, usa \"pregunta\"\n",
      "- Si la solicitud contiene palabras clave como \"levantar\", \"reportar\", \"fuga\", usa \"nuevo_reporte\"\n",
      "- Si la solicitud menciona \"estatus\" o \"reporte\" específico, usa \"status_reporte\"\n",
      "- Si no hay coincidencia exacta, usa \"otro\" por defecto\n",
      "\n",
      "SOLICITUD: ¿Dónde puedo reportar una fuga de agua?\n",
      "\n",
      "JSON DEFINITIVO:\n"
     ]
    }
   ],
   "source": [
    "prompt = build_prompt(query, tipos)\n",
    "print(prompt)"
   ]
  },
  {
   "cell_type": "code",
   "execution_count": 103,
   "metadata": {},
   "outputs": [
    {
     "data": {
      "text/plain": [
       "'¿Dónde puedo reportar una fuga de agua?'"
      ]
     },
     "execution_count": 103,
     "metadata": {},
     "output_type": "execute_result"
    }
   ],
   "source": [
    "query"
   ]
  },
  {
   "cell_type": "code",
   "execution_count": 107,
   "metadata": {},
   "outputs": [
    {
     "data": {
      "text/plain": [
       "'{\"tipo_solicitud\": \"pregunta\", \"solicitud\": \"D\\\\u00f1nde puedo reportar una fugua de agua?\"}'"
      ]
     },
     "execution_count": 107,
     "metadata": {},
     "output_type": "execute_result"
    }
   ],
   "source": [
    "answer = llm(prompt, 'llama3.2:3b')\n",
    "answer"
   ]
  },
  {
   "cell_type": "markdown",
   "metadata": {},
   "source": [
    "```json\n",
    "{\"tipo_solicitud\": \"pregunta\", \"solicitud\": \"D\\\\u00f1nde puedo reportar una fugua de agua?\"}\n",
    "```"
   ]
  },
  {
   "cell_type": "code",
   "execution_count": 109,
   "metadata": {},
   "outputs": [
    {
     "data": {
      "text/plain": [
       "{'tipo_solicitud': 'pregunta',\n",
       " 'solicitud': 'Dñnde puedo reportar una fugua de agua?'}"
      ]
     },
     "execution_count": 109,
     "metadata": {},
     "output_type": "execute_result"
    }
   ],
   "source": [
    "json.loads(answer)"
   ]
  },
  {
   "cell_type": "code",
   "execution_count": 66,
   "metadata": {},
   "outputs": [],
   "source": [
    "import json\n",
    "\n",
    "if not answer.strip().endswith('}'):\n",
    "    answer += '}'"
   ]
  },
  {
   "cell_type": "code",
   "execution_count": 110,
   "metadata": {},
   "outputs": [
    {
     "name": "stdout",
     "output_type": "stream",
     "text": [
      "Eres un agente de SACMEX.\n",
      "\n",
      "INSTRUCCIONES ESTRICTAS:\n",
      "- Analiza cuidadosamente la SOLICITUD\n",
      "- Genera ÚNICAMENTE un JSON con dos campos: \"tipo_solicitud\" y \"solicitud\"\n",
      "- NO incluyas información adicional ni estructuras anidadas\n",
      "- El \"tipo_solicitud\" debe ser UNO de estos: \"pregunta\", \"nuevo_reporte\", \"status_reporte\"\n",
      "- La \"solicitud\" es el texto original del usuario\n",
      "- Sin texto adicional, solo el JSON en una línea exacta\n",
      "\n",
      "FORMATO REQUERIDO:\n",
      "{\"tipo_solicitud\": \"categoria\", \"solicitud\": \"texto_completo\"}\n",
      "\n",
      "EJEMPLOS:\n",
      "- pregunta: ¿Como realizo un reporte?\n",
      "\n",
      "- pregunta: ¿Dónde puedo levantar un reporte?\n",
      "\n",
      "- pregunta: ¿Donde puedo levantar un reporte?\n",
      "\n",
      "- pregunta: Sabes cuales son los telefonos de la sacmex\n",
      "\n",
      "- nuevo_reporte: Hola, me gustaria levantar reporte de fuga de agua en la calle orquidea entre calle cda 5 de mayo y vicente guerrero, en san pedro martir, aca en Tlalpan\n",
      "\n",
      "- nuevo_reporte: quisiera reportar una fuga de fuga de agua\n",
      "\n",
      "- status_reporte: Hola, me gustaria conocer el estatus de mi reporte\n",
      "\n",
      "- status_reporte: cual es el estatus del reporte XXX-YYY-UUU\n",
      "\n",
      "\n",
      "\n",
      "REGLA PRINCIPAL:\n",
      "- Elige ÚNICAMENTE UN tipo de solicitud que coincida EXACTAMENTE\n",
      "- Si la solicitud es sobre CÓMO, DÓNDE o INFORMACIÓN para realizar un reporte o cuales son los telefonos o redes sociales, usa \"pregunta\"\n",
      "- Si la solicitud contiene palabras clave como \"levantar\", \"reportar\", \"fuga\", usa \"nuevo_reporte\"\n",
      "- Si la solicitud menciona \"estatus\" o \"reporte\" específico, usa \"status_reporte\"\n",
      "- Si no hay coincidencia exacta, usa \"otro\" por defecto\n",
      "\n",
      "SOLICITUD: Me gustaria saber el estatus del reporte FFF-1112-4423\n",
      "\n",
      "JSON DEFINITIVO:\n"
     ]
    }
   ],
   "source": [
    "prompt = build_prompt(\"Me gustaria saber el estatus del reporte FFF-1112-4423\", tipos)\n",
    "print(prompt)"
   ]
  },
  {
   "cell_type": "code",
   "execution_count": 111,
   "metadata": {},
   "outputs": [
    {
     "data": {
      "text/plain": [
       "'{\"tipo_solicitud\": \"status_reporte\", \"solicitud\": \"Me gustaria saber el estatus del reporte FFF-1112-4423\"}'"
      ]
     },
     "execution_count": 111,
     "metadata": {},
     "output_type": "execute_result"
    }
   ],
   "source": [
    "answer2 = llm(prompt, 'llama3.2:3b')\n",
    "answer2"
   ]
  },
  {
   "cell_type": "markdown",
   "metadata": {},
   "source": [
    "## Extracción de datos"
   ]
  },
  {
   "cell_type": "code",
   "execution_count": 112,
   "metadata": {},
   "outputs": [],
   "source": [
    "tipos = [\n",
    "    {\n",
    "        \"solicitud\": \"Hola, me gustaria levantar reporte de fuga de agua en la calle orquidea entre calle cda 5 de mayo y vicente guerrero, en san pedro martir, aca en Tlalpan\",\n",
    "        \"tipo\": \"nuevo_reporte\"\n",
    "    },\n",
    "    {\n",
    "        \"solicitud\": \"quisiera reportar una fuga de fuga de agua en la calle orquidea casi esquina con cda 5 de mayo, en san pedro martir, en tlalpan\",\n",
    "        \"tipo\": \"nuevo_reporte\"\n",
    "    },\n",
    "    {\n",
    "        \"solicitud\": \"Hola, hay un problema de aguas negras en la cda 5 de mayo casi llegando al panteon, colonia san pedro martir, en la delegación tlalpan\",\n",
    "        \"tipo\": \"nuevo_reporte\"\n",
    "    }\n",
    "]"
   ]
  },
  {
   "cell_type": "code",
   "execution_count": 119,
   "metadata": {},
   "outputs": [],
   "source": [
    "dataentry_template = \"\"\"\n",
    "- {solicitud}\\n\n",
    "\"\"\".strip()\n",
    "\n",
    "prompt_template = \"\"\"\n",
    "Eres un agente de SACMEX especializado en extracción de información de direcciones de nuevos reportes sobre el agua.\n",
    "\n",
    "INSTRUCCIONES PRECISAS:\n",
    "- Extrae ÚNICAMENTE la información de ubicación de la fuga\n",
    "- Genera un JSON con los siguientes campos:\n",
    "    * \"calle_principal\": nombre de la calle principal\n",
    "    * \"entre_calles\": calles cercanas (si se mencionan)\n",
    "    * \"colonia\": nombre de la colonia\n",
    "    * \"delegacion\": nombre de la delegación o alcaldía\n",
    "    * \"referencias_adicionales\": cualquier detalle extra de ubicación\n",
    "- Sin texto adicional, solo el JSON en una línea exacta.\n",
    "\n",
    "FORMATO REQUERIDO:\n",
    "{{\n",
    "    \"calle_principal\": \"Nombre de la calle\",\n",
    "    \"entre_calles\": [\"Calle 1\", \"Calle 2\"],\n",
    "    \"colonia\": \"Nombre de la colonia\",\n",
    "    \"delegacion\": \"Nombre de la delegación\",\n",
    "    \"referencias_adicionales\": \"Detalles extra\"\n",
    "}}\n",
    "\n",
    "EJEMPLOS:\n",
    "{contexto}\n",
    "\n",
    "SOLICITUD: {solicitud}\n",
    "\n",
    "JSON DEFINITIVO:\"\"\"\n",
    "\n",
    "\n",
    "\n",
    "def build_prompt(query, results):\n",
    "    context = \"\"\n",
    "    for doc in results:\n",
    "        context = context + dataentry_template.format(**doc) + \"\\n\\n\"\n",
    "\n",
    "    prompt = prompt_template.format(solicitud=query, contexto=context).strip()\n",
    "    return prompt"
   ]
  },
  {
   "cell_type": "code",
   "execution_count": 120,
   "metadata": {},
   "outputs": [
    {
     "name": "stdout",
     "output_type": "stream",
     "text": [
      "Eres un agente de SACMEX especializado en extracción de información de direcciones de nuevos reportes sobre el agua.\n",
      "\n",
      "INSTRUCCIONES PRECISAS:\n",
      "- Extrae ÚNICAMENTE la información de ubicación de la fuga\n",
      "- Genera un JSON con los siguientes campos:\n",
      "    * \"calle_principal\": nombre de la calle principal\n",
      "    * \"entre_calles\": calles cercanas (si se mencionan)\n",
      "    * \"colonia\": nombre de la colonia\n",
      "    * \"delegacion\": nombre de la delegación o alcaldía\n",
      "    * \"referencias_adicionales\": cualquier detalle extra de ubicación\n",
      "- Sin texto adicional, solo el JSON en una línea exacta.\n",
      "\n",
      "FORMATO REQUERIDO:\n",
      "{\n",
      "    \"calle_principal\": \"Nombre de la calle\",\n",
      "    \"entre_calles\": [\"Calle 1\", \"Calle 2\"],\n",
      "    \"colonia\": \"Nombre de la colonia\",\n",
      "    \"delegacion\": \"Nombre de la delegación\",\n",
      "    \"referencias_adicionales\": \"Detalles extra\"\n",
      "}\n",
      "\n",
      "EJEMPLOS:\n",
      "- Hola, me gustaria levantar reporte de fuga de agua en la calle orquidea entre calle cda 5 de mayo y vicente guerrero, en san pedro martir, aca en Tlalpan\n",
      "\n",
      "- quisiera reportar una fuga de fuga de agua en la calle orquidea casi esquina con cda 5 de mayo, en san pedro martir, en tlalpan\n",
      "\n",
      "- Hola, hay un problema de aguas negras en la cda 5 de mayo casi llegando al panteon, colonia san pedro martir, en la delegación tlalpan\n",
      "\n",
      "\n",
      "\n",
      "SOLICITUD: Hola, me gustaria levantar reporte de fuga de agua en la calle orquidea entre calle cda 5 de mayo y vicente guerrero, en san pedro martir, aca en Tlalpan\n",
      "\n",
      "JSON DEFINITIVO:\n"
     ]
    }
   ],
   "source": [
    "prompt = build_prompt(\"Hola, me gustaria levantar reporte de fuga de agua en la calle orquidea entre calle cda 5 de mayo y vicente guerrero, en san pedro martir, aca en Tlalpan\", tipos)\n",
    "print(prompt)"
   ]
  },
  {
   "cell_type": "code",
   "execution_count": 121,
   "metadata": {},
   "outputs": [
    {
     "name": "stdout",
     "output_type": "stream",
     "text": [
      "{\n",
      "    \"calle_principal\": \"Orquídea\",\n",
      "    \"entre_calles\": [\"CDA 5 DE MAYO\", \"Vicente Guerrero\"],\n",
      "    \"colonia\": \"San Pedro Martir\",\n",
      "    \"delegacion\": \"Tlalpan\",\n",
      "    \"referencias_adicionales\": \"Aca en Tlalpan\"\n"
     ]
    }
   ],
   "source": [
    "answer_1 = llm(prompt, 'llama3.2:3b')\n",
    "print(answer_1)"
   ]
  },
  {
   "cell_type": "code",
   "execution_count": 124,
   "metadata": {},
   "outputs": [
    {
     "name": "stdout",
     "output_type": "stream",
     "text": [
      "{'calle_principal': 'Orquídea', 'entre_calles': ['CDA 5 DE MAYO', 'Vicente Guerrero'], 'colonia': 'San Pedro Martir', 'delegacion': 'Tlalpan', 'referencias_adicionales': 'Aca en Tlalpan'}\n"
     ]
    }
   ],
   "source": [
    "if not answer_1.strip().endswith('}'):\n",
    "    answer_1 += '}'\n",
    "\n",
    "print(json.loads(answer_1))"
   ]
  },
  {
   "cell_type": "code",
   "execution_count": null,
   "metadata": {},
   "outputs": [],
   "source": []
  }
 ],
 "metadata": {
  "kernelspec": {
   "display_name": "data_engineer",
   "language": "python",
   "name": "python3"
  },
  "language_info": {
   "codemirror_mode": {
    "name": "ipython",
    "version": 3
   },
   "file_extension": ".py",
   "mimetype": "text/x-python",
   "name": "python",
   "nbconvert_exporter": "python",
   "pygments_lexer": "ipython3",
   "version": "3.12.2"
  }
 },
 "nbformat": 4,
 "nbformat_minor": 2
}
