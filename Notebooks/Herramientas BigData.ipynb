{
 "cells": [
  {
   "cell_type": "code",
   "execution_count": 2,
   "metadata": {},
   "outputs": [],
   "source": [
    "# Cargamos nuestras librerias\n",
    "import polars as pl\n",
    "import pandas as pd\n",
    "import numpy as np\n",
    "import matplotlib.pyplot as plt\n",
    "import seaborn as sns\n",
    "from tqdm.notebook import tqdm\n",
    "\n",
    "import warnings\n",
    "warnings.filterwarnings('ignore')"
   ]
  },
  {
   "cell_type": "code",
   "execution_count": 3,
   "metadata": {},
   "outputs": [],
   "source": [
    "data = pl.read_parquet(\"../DATASETS/fugas.parquet.gzip\")"
   ]
  },
  {
   "cell_type": "code",
   "execution_count": 6,
   "metadata": {},
   "outputs": [],
   "source": [
    "df = data.with_columns(\n",
    "    alcaldia = pl.col(\"alcaldia_catalogo\").str.to_uppercase(),\n",
    "    colonia = pl.col(\"colonia_catalogo\").str.to_uppercase(),\n",
    "    day=pl.col(\"fecha_reporte\").dt.day(),\n",
    "    month=pl.col(\"fecha_reporte\").dt.month(),\n",
    "    year=pl.col(\"fecha_reporte\").dt.year()\n",
    ").drop([\"alcaldia_catalogo\", \"colonia_catalogo\"])"
   ]
  },
  {
   "cell_type": "code",
   "execution_count": 7,
   "metadata": {},
   "outputs": [
    {
     "data": {
      "text/html": [
       "<div><style>\n",
       ".dataframe > thead > tr,\n",
       ".dataframe > tbody > tr {\n",
       "  text-align: right;\n",
       "  white-space: pre-wrap;\n",
       "}\n",
       "</style>\n",
       "<small>shape: (138_640, 15)</small><table border=\"1\" class=\"dataframe\"><thead><tr><th>folio</th><th>fecha_registro_incidente</th><th>id_reporte</th><th>fecha_reporte</th><th>hora_reporte</th><th>clasificacion</th><th>tipo_de_falla</th><th>medio_recepcion</th><th>latitud</th><th>longitud</th><th>alcaldia</th><th>colonia</th><th>day</th><th>month</th><th>year</th></tr><tr><td>str</td><td>datetime[ns]</td><td>str</td><td>datetime[ns]</td><td>str</td><td>str</td><td>str</td><td>str</td><td>f64</td><td>f64</td><td>str</td><td>str</td><td>i8</td><td>i8</td><td>i32</td></tr></thead><tbody><tr><td>&quot;20210107-0129&quot;</td><td>null</td><td>null</td><td>2021-01-07 00:00:00</td><td>null</td><td>&quot;Agua Potable&quot;</td><td>&quot;Fuga&quot;</td><td>&quot;Ciudadano (Call Center)&quot;</td><td>19.310192</td><td>-99.047786</td><td>&quot;TLAHUAC&quot;</td><td>&quot;LAS ARBOLEDAS&quot;</td><td>7</td><td>1</td><td>2021</td></tr><tr><td>&quot;20210101-0008&quot;</td><td>null</td><td>null</td><td>2021-01-01 00:00:00</td><td>null</td><td>&quot;Agua Potable&quot;</td><td>&quot;Fuga&quot;</td><td>&quot;Ciudadano (Call Center)&quot;</td><td>19.370615</td><td>-99.030413</td><td>&quot;IZTAPALAPA&quot;</td><td>&quot;EJERCITO DE ORIENTE (U HAB) I&quot;</td><td>1</td><td>1</td><td>2021</td></tr><tr><td>&quot;20210101-0020&quot;</td><td>null</td><td>null</td><td>2021-01-01 00:00:00</td><td>null</td><td>&quot;Agua Potable&quot;</td><td>&quot;Fuga&quot;</td><td>&quot;Ciudadano (Call Center)&quot;</td><td>19.375857</td><td>-99.233819</td><td>&quot;ALVARO OBREGON&quot;</td><td>&quot;2DA  JALALPA TEPITO (AMPL)&quot;</td><td>1</td><td>1</td><td>2021</td></tr><tr><td>&quot;20210101-0048&quot;</td><td>null</td><td>null</td><td>2021-01-01 00:00:00</td><td>null</td><td>&quot;Agua Potable&quot;</td><td>&quot;Fuga&quot;</td><td>&quot;Ciudadano (Call Center)&quot;</td><td>19.388433</td><td>-99.20185</td><td>&quot;ALVARO OBREGON&quot;</td><td>&quot;CRISTO REY&quot;</td><td>1</td><td>1</td><td>2021</td></tr><tr><td>&quot;20210101-0049&quot;</td><td>null</td><td>null</td><td>2021-01-01 00:00:00</td><td>null</td><td>&quot;Agua Potable&quot;</td><td>&quot;Fuga&quot;</td><td>&quot;Ciudadano (Call Center)&quot;</td><td>19.473759</td><td>-99.176527</td><td>&quot;AZCAPOTZALCO&quot;</td><td>&quot;UN HOGAR PARA CADA TRABAJADOR&quot;</td><td>1</td><td>1</td><td>2021</td></tr><tr><td>&hellip;</td><td>&hellip;</td><td>&hellip;</td><td>&hellip;</td><td>&hellip;</td><td>&hellip;</td><td>&hellip;</td><td>&hellip;</td><td>&hellip;</td><td>&hellip;</td><td>&hellip;</td><td>&hellip;</td><td>&hellip;</td><td>&hellip;</td><td>&hellip;</td></tr><tr><td>&quot;I-20240131-0483&quot;</td><td>2024-02-01 00:00:00</td><td>&quot;R-20240201-0066&quot;</td><td>2024-02-01 00:00:00</td><td>&quot;08:36:05&quot;</td><td>&quot;Agua Potable&quot;</td><td>&quot;Fuga&quot;</td><td>&quot;Ciudadano (Call Center)&quot;</td><td>19.2599</td><td>-99.1752</td><td>&quot;TLALPAN&quot;</td><td>&quot;MARIA ESTHER ZUNO DE ECHEVERRI…</td><td>1</td><td>2</td><td>2024</td></tr><tr><td>&quot;I-20240131-0485&quot;</td><td>2024-02-01 00:00:00</td><td>&quot;R-20240131-0598&quot;</td><td>2024-01-31 00:00:00</td><td>&quot;22:01:45&quot;</td><td>&quot;Agua Potable&quot;</td><td>&quot;Fuga&quot;</td><td>&quot;Ciudadano (Call Center)&quot;</td><td>19.5124</td><td>-99.2019</td><td>&quot;AZCAPOTZALCO&quot;</td><td>&quot;EL ROSARIO&quot;</td><td>31</td><td>1</td><td>2024</td></tr><tr><td>&quot;I-20240131-0489&quot;</td><td>2024-02-01 00:00:00</td><td>&quot;R-20240131-0605&quot;</td><td>2024-01-31 00:00:00</td><td>&quot;22:27:55&quot;</td><td>&quot;Agua Potable&quot;</td><td>&quot;Fuga&quot;</td><td>&quot;C-5 (Protección Civil, Bombero…</td><td>19.4704</td><td>-99.1674</td><td>&quot;AZCAPOTZALCO&quot;</td><td>&quot;NUEVA SANTA MARIA&quot;</td><td>31</td><td>1</td><td>2024</td></tr><tr><td>&quot;I-20240131-0492&quot;</td><td>2024-02-01 00:00:00</td><td>&quot;R-20240131-0606&quot;</td><td>2024-01-31 00:00:00</td><td>&quot;22:31:30&quot;</td><td>&quot;Agua Potable&quot;</td><td>&quot;Fuga&quot;</td><td>&quot;Campamento o Alcaldía&quot;</td><td>19.3282</td><td>-98.9768</td><td>&quot;IZTAPALAPA&quot;</td><td>&quot;CAMPESTRE POTRERO&quot;</td><td>31</td><td>1</td><td>2024</td></tr><tr><td>&quot;I-20240131-0493&quot;</td><td>2024-02-01 00:00:00</td><td>&quot;R-20240131-0609&quot;</td><td>2024-01-31 00:00:00</td><td>&quot;22:36:27&quot;</td><td>&quot;Agua Potable&quot;</td><td>&quot;Fuga&quot;</td><td>&quot;Campamento o Alcaldía&quot;</td><td>19.3474</td><td>-99.058</td><td>&quot;IZTAPALAPA&quot;</td><td>&quot;CONSTITUCION DE 1917&quot;</td><td>31</td><td>1</td><td>2024</td></tr></tbody></table></div>"
      ],
      "text/plain": [
       "shape: (138_640, 15)\n",
       "┌──────────────┬──────────────┬──────────────┬──────────────┬───┬─────────────┬─────┬───────┬──────┐\n",
       "│ folio        ┆ fecha_regist ┆ id_reporte   ┆ fecha_report ┆ … ┆ colonia     ┆ day ┆ month ┆ year │\n",
       "│ ---          ┆ ro_incidente ┆ ---          ┆ e            ┆   ┆ ---         ┆ --- ┆ ---   ┆ ---  │\n",
       "│ str          ┆ ---          ┆ str          ┆ ---          ┆   ┆ str         ┆ i8  ┆ i8    ┆ i32  │\n",
       "│              ┆ datetime[ns] ┆              ┆ datetime[ns] ┆   ┆             ┆     ┆       ┆      │\n",
       "╞══════════════╪══════════════╪══════════════╪══════════════╪═══╪═════════════╪═════╪═══════╪══════╡\n",
       "│ 20210107-012 ┆ null         ┆ null         ┆ 2021-01-07   ┆ … ┆ LAS         ┆ 7   ┆ 1     ┆ 2021 │\n",
       "│ 9            ┆              ┆              ┆ 00:00:00     ┆   ┆ ARBOLEDAS   ┆     ┆       ┆      │\n",
       "│ 20210101-000 ┆ null         ┆ null         ┆ 2021-01-01   ┆ … ┆ EJERCITO DE ┆ 1   ┆ 1     ┆ 2021 │\n",
       "│ 8            ┆              ┆              ┆ 00:00:00     ┆   ┆ ORIENTE (U  ┆     ┆       ┆      │\n",
       "│              ┆              ┆              ┆              ┆   ┆ HAB) I      ┆     ┆       ┆      │\n",
       "│ 20210101-002 ┆ null         ┆ null         ┆ 2021-01-01   ┆ … ┆ 2DA         ┆ 1   ┆ 1     ┆ 2021 │\n",
       "│ 0            ┆              ┆              ┆ 00:00:00     ┆   ┆ JALALPA     ┆     ┆       ┆      │\n",
       "│              ┆              ┆              ┆              ┆   ┆ TEPITO      ┆     ┆       ┆      │\n",
       "│              ┆              ┆              ┆              ┆   ┆ (AMPL)      ┆     ┆       ┆      │\n",
       "│ 20210101-004 ┆ null         ┆ null         ┆ 2021-01-01   ┆ … ┆ CRISTO REY  ┆ 1   ┆ 1     ┆ 2021 │\n",
       "│ 8            ┆              ┆              ┆ 00:00:00     ┆   ┆             ┆     ┆       ┆      │\n",
       "│ 20210101-004 ┆ null         ┆ null         ┆ 2021-01-01   ┆ … ┆ UN HOGAR    ┆ 1   ┆ 1     ┆ 2021 │\n",
       "│ 9            ┆              ┆              ┆ 00:00:00     ┆   ┆ PARA CADA   ┆     ┆       ┆      │\n",
       "│              ┆              ┆              ┆              ┆   ┆ TRABAJADOR  ┆     ┆       ┆      │\n",
       "│ …            ┆ …            ┆ …            ┆ …            ┆ … ┆ …           ┆ …   ┆ …     ┆ …    │\n",
       "│ I-20240131-0 ┆ 2024-02-01   ┆ R-20240201-0 ┆ 2024-02-01   ┆ … ┆ MARIA       ┆ 1   ┆ 2     ┆ 2024 │\n",
       "│ 483          ┆ 00:00:00     ┆ 066          ┆ 00:00:00     ┆   ┆ ESTHER ZUNO ┆     ┆       ┆      │\n",
       "│              ┆              ┆              ┆              ┆   ┆ DE          ┆     ┆       ┆      │\n",
       "│              ┆              ┆              ┆              ┆   ┆ ECHEVERRI…  ┆     ┆       ┆      │\n",
       "│ I-20240131-0 ┆ 2024-02-01   ┆ R-20240131-0 ┆ 2024-01-31   ┆ … ┆ EL ROSARIO  ┆ 31  ┆ 1     ┆ 2024 │\n",
       "│ 485          ┆ 00:00:00     ┆ 598          ┆ 00:00:00     ┆   ┆             ┆     ┆       ┆      │\n",
       "│ I-20240131-0 ┆ 2024-02-01   ┆ R-20240131-0 ┆ 2024-01-31   ┆ … ┆ NUEVA SANTA ┆ 31  ┆ 1     ┆ 2024 │\n",
       "│ 489          ┆ 00:00:00     ┆ 605          ┆ 00:00:00     ┆   ┆ MARIA       ┆     ┆       ┆      │\n",
       "│ I-20240131-0 ┆ 2024-02-01   ┆ R-20240131-0 ┆ 2024-01-31   ┆ … ┆ CAMPESTRE   ┆ 31  ┆ 1     ┆ 2024 │\n",
       "│ 492          ┆ 00:00:00     ┆ 606          ┆ 00:00:00     ┆   ┆ POTRERO     ┆     ┆       ┆      │\n",
       "│ I-20240131-0 ┆ 2024-02-01   ┆ R-20240131-0 ┆ 2024-01-31   ┆ … ┆ CONSTITUCIO ┆ 31  ┆ 1     ┆ 2024 │\n",
       "│ 493          ┆ 00:00:00     ┆ 609          ┆ 00:00:00     ┆   ┆ N DE 1917   ┆     ┆       ┆      │\n",
       "└──────────────┴──────────────┴──────────────┴──────────────┴───┴─────────────┴─────┴───────┴──────┘"
      ]
     },
     "execution_count": 7,
     "metadata": {},
     "output_type": "execute_result"
    }
   ],
   "source": [
    "df"
   ]
  },
  {
   "cell_type": "code",
   "execution_count": 24,
   "metadata": {},
   "outputs": [],
   "source": [
    "df_result = df.select(\n",
    "    pl.col(\"fecha_registro_incidente\").alias('Fecha del registro del reporte'),\n",
    "    pl.col(\"fecha_reporte\").alias('Fecha reporte de fuga'),\n",
    "    (abs(pl.col(\"fecha_registro_incidente\") - pl.col(\"fecha_reporte\"))).alias(\"Diferencia\")\n",
    ").filter(pl.col(\"Diferencia\").is_not_null()) \\\n",
    ".sort(by=\"Diferencia\", descending=True)"
   ]
  },
  {
   "cell_type": "code",
   "execution_count": 25,
   "metadata": {},
   "outputs": [
    {
     "data": {
      "text/html": [
       "<div>\n",
       "<style scoped>\n",
       "    .dataframe tbody tr th:only-of-type {\n",
       "        vertical-align: middle;\n",
       "    }\n",
       "\n",
       "    .dataframe tbody tr th {\n",
       "        vertical-align: top;\n",
       "    }\n",
       "\n",
       "    .dataframe thead th {\n",
       "        text-align: right;\n",
       "    }\n",
       "</style>\n",
       "<table border=\"1\" class=\"dataframe\">\n",
       "  <thead>\n",
       "    <tr style=\"text-align: right;\">\n",
       "      <th></th>\n",
       "      <th>Fecha del registro del reporte</th>\n",
       "      <th>Fecha reporte de fuga</th>\n",
       "      <th>Diferencia</th>\n",
       "    </tr>\n",
       "  </thead>\n",
       "  <tbody>\n",
       "    <tr>\n",
       "      <th>0</th>\n",
       "      <td>2022-01-20</td>\n",
       "      <td>2023-04-11</td>\n",
       "      <td>446 days</td>\n",
       "    </tr>\n",
       "    <tr>\n",
       "      <th>1</th>\n",
       "      <td>2022-01-10</td>\n",
       "      <td>2023-03-31</td>\n",
       "      <td>445 days</td>\n",
       "    </tr>\n",
       "    <tr>\n",
       "      <th>2</th>\n",
       "      <td>2022-01-03</td>\n",
       "      <td>2023-03-23</td>\n",
       "      <td>444 days</td>\n",
       "    </tr>\n",
       "    <tr>\n",
       "      <th>3</th>\n",
       "      <td>2022-01-03</td>\n",
       "      <td>2023-03-23</td>\n",
       "      <td>444 days</td>\n",
       "    </tr>\n",
       "    <tr>\n",
       "      <th>4</th>\n",
       "      <td>2022-01-05</td>\n",
       "      <td>2023-03-23</td>\n",
       "      <td>442 days</td>\n",
       "    </tr>\n",
       "  </tbody>\n",
       "</table>\n",
       "</div>"
      ],
      "text/plain": [
       "  Fecha del registro del reporte Fecha reporte de fuga Diferencia\n",
       "0                     2022-01-20            2023-04-11   446 days\n",
       "1                     2022-01-10            2023-03-31   445 days\n",
       "2                     2022-01-03            2023-03-23   444 days\n",
       "3                     2022-01-03            2023-03-23   444 days\n",
       "4                     2022-01-05            2023-03-23   442 days"
      ]
     },
     "execution_count": 25,
     "metadata": {},
     "output_type": "execute_result"
    }
   ],
   "source": [
    "df_result.to_pandas().head()"
   ]
  },
  {
   "cell_type": "code",
   "execution_count": 20,
   "metadata": {},
   "outputs": [
    {
     "data": {
      "text/html": [
       "<div>\n",
       "<style scoped>\n",
       "    .dataframe tbody tr th:only-of-type {\n",
       "        vertical-align: middle;\n",
       "    }\n",
       "\n",
       "    .dataframe tbody tr th {\n",
       "        vertical-align: top;\n",
       "    }\n",
       "\n",
       "    .dataframe thead th {\n",
       "        text-align: right;\n",
       "    }\n",
       "</style>\n",
       "<table border=\"1\" class=\"dataframe\">\n",
       "  <thead>\n",
       "    <tr style=\"text-align: right;\">\n",
       "      <th></th>\n",
       "      <th>Medio de Recepción</th>\n",
       "      <th>Total</th>\n",
       "    </tr>\n",
       "  </thead>\n",
       "  <tbody>\n",
       "    <tr>\n",
       "      <th>0</th>\n",
       "      <td>Ciudadano (Call Center)</td>\n",
       "      <td>110960</td>\n",
       "    </tr>\n",
       "    <tr>\n",
       "      <th>1</th>\n",
       "      <td>Campamento o Alcaldía</td>\n",
       "      <td>14080</td>\n",
       "    </tr>\n",
       "    <tr>\n",
       "      <th>2</th>\n",
       "      <td>Redes Sociales (Twitter)</td>\n",
       "      <td>9729</td>\n",
       "    </tr>\n",
       "    <tr>\n",
       "      <th>3</th>\n",
       "      <td>C-5 (Protección Civil, Bomberos, Locatel)</td>\n",
       "      <td>1852</td>\n",
       "    </tr>\n",
       "    <tr>\n",
       "      <th>4</th>\n",
       "      <td>Redes Sociales (Facebook)</td>\n",
       "      <td>1469</td>\n",
       "    </tr>\n",
       "    <tr>\n",
       "      <th>5</th>\n",
       "      <td>Otros / Personal</td>\n",
       "      <td>332</td>\n",
       "    </tr>\n",
       "    <tr>\n",
       "      <th>6</th>\n",
       "      <td>Medios de Comunicación</td>\n",
       "      <td>95</td>\n",
       "    </tr>\n",
       "    <tr>\n",
       "      <th>7</th>\n",
       "      <td>Puesto de Mando Sacmex</td>\n",
       "      <td>54</td>\n",
       "    </tr>\n",
       "    <tr>\n",
       "      <th>8</th>\n",
       "      <td>Redes Sociales (Instagram)</td>\n",
       "      <td>24</td>\n",
       "    </tr>\n",
       "    <tr>\n",
       "      <th>9</th>\n",
       "      <td>Puesto de Mando</td>\n",
       "      <td>17</td>\n",
       "    </tr>\n",
       "  </tbody>\n",
       "</table>\n",
       "</div>"
      ],
      "text/plain": [
       "                          Medio de Recepción   Total\n",
       "0                    Ciudadano (Call Center)  110960\n",
       "1                      Campamento o Alcaldía   14080\n",
       "2                   Redes Sociales (Twitter)    9729\n",
       "3  C-5 (Protección Civil, Bomberos, Locatel)    1852\n",
       "4                  Redes Sociales (Facebook)    1469\n",
       "5                           Otros / Personal     332\n",
       "6                     Medios de Comunicación      95\n",
       "7                     Puesto de Mando Sacmex      54\n",
       "8                 Redes Sociales (Instagram)      24\n",
       "9                            Puesto de Mando      17"
      ]
     },
     "execution_count": 20,
     "metadata": {},
     "output_type": "execute_result"
    }
   ],
   "source": [
    "df.group_by(pl.col(\"medio_recepcion\").alias(\"Medio de Recepción\")).agg(pl.count().alias(\"Total\")).sort(\"Total\", descending=True).head(10).to_pandas()"
   ]
  }
 ],
 "metadata": {
  "kernelspec": {
   "display_name": "data_engineer",
   "language": "python",
   "name": "python3"
  },
  "language_info": {
   "codemirror_mode": {
    "name": "ipython",
    "version": 3
   },
   "file_extension": ".py",
   "mimetype": "text/x-python",
   "name": "python",
   "nbconvert_exporter": "python",
   "pygments_lexer": "ipython3",
   "version": "3.12.2"
  }
 },
 "nbformat": 4,
 "nbformat_minor": 2
}
